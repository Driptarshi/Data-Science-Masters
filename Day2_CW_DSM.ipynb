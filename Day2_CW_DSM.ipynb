{
 "cells": [
  {
   "cell_type": "code",
   "execution_count": 1,
   "id": "5e587939-a30c-494e-bc3a-079d06c84bd8",
   "metadata": {},
   "outputs": [],
   "source": [
    "a=10"
   ]
  },
  {
   "cell_type": "code",
   "execution_count": 2,
   "id": "11ca1bb3-63df-4ab9-8404-434d36ad9707",
   "metadata": {},
   "outputs": [
    {
     "data": {
      "text/plain": [
       "10"
      ]
     },
     "execution_count": 2,
     "metadata": {},
     "output_type": "execute_result"
    }
   ],
   "source": [
    "a"
   ]
  },
  {
   "cell_type": "code",
   "execution_count": 3,
   "id": "cd885abd-01c5-4e92-9968-e0f250430d7d",
   "metadata": {},
   "outputs": [],
   "source": [
    "a='c'"
   ]
  },
  {
   "cell_type": "code",
   "execution_count": 4,
   "id": "6669ef24-735d-48af-8792-5fb3f6ae2d29",
   "metadata": {},
   "outputs": [
    {
     "data": {
      "text/plain": [
       "str"
      ]
     },
     "execution_count": 4,
     "metadata": {},
     "output_type": "execute_result"
    }
   ],
   "source": [
    "type(a)"
   ]
  },
  {
   "cell_type": "code",
   "execution_count": 7,
   "id": "0f357a61-f2ea-46cc-92ab-c3215d0bad1d",
   "metadata": {},
   "outputs": [
    {
     "data": {
      "text/plain": [
       "1234"
      ]
     },
     "execution_count": 7,
     "metadata": {},
     "output_type": "execute_result"
    }
   ],
   "source": [
    "int(\"1234\")"
   ]
  },
  {
   "cell_type": "code",
   "execution_count": 6,
   "id": "b7a99fb6-c02f-4faf-ab9c-1dd4de7dfa3e",
   "metadata": {},
   "outputs": [
    {
     "data": {
      "text/plain": [
       "0"
      ]
     },
     "execution_count": 6,
     "metadata": {},
     "output_type": "execute_result"
    }
   ],
   "source": [
    "int()"
   ]
  },
  {
   "cell_type": "code",
   "execution_count": 9,
   "id": "4916eea7-66d3-467b-a445-3ab6056de680",
   "metadata": {},
   "outputs": [
    {
     "ename": "ValueError",
     "evalue": "invalid literal for int() with base 10: 'ascd'",
     "output_type": "error",
     "traceback": [
      "\u001b[0;31m---------------------------------------------------------------------------\u001b[0m",
      "\u001b[0;31mValueError\u001b[0m                                Traceback (most recent call last)",
      "Cell \u001b[0;32mIn[9], line 1\u001b[0m\n\u001b[0;32m----> 1\u001b[0m \u001b[38;5;28;43mint\u001b[39;49m\u001b[43m(\u001b[49m\u001b[38;5;124;43m'\u001b[39;49m\u001b[38;5;124;43mascd\u001b[39;49m\u001b[38;5;124;43m'\u001b[39;49m\u001b[43m)\u001b[49m\n",
      "\u001b[0;31mValueError\u001b[0m: invalid literal for int() with base 10: 'ascd'"
     ]
    }
   ],
   "source": [
    "int('ascd')"
   ]
  },
  {
   "cell_type": "code",
   "execution_count": 13,
   "id": "730291c0-f123-4f39-bba3-41fa0ac4423c",
   "metadata": {},
   "outputs": [
    {
     "name": "stdout",
     "output_type": "stream",
     "text": [
      "Hello World\n",
      "hello world\n"
     ]
    }
   ],
   "source": [
    "print(\"Hello World\")\n",
    "print('hello world')"
   ]
  },
  {
   "cell_type": "code",
   "execution_count": 12,
   "id": "dee7ce21-36b2-4303-ab9b-de89fafdf9a4",
   "metadata": {},
   "outputs": [
    {
     "name": "stdout",
     "output_type": "stream",
     "text": [
      "123\n"
     ]
    }
   ],
   "source": [
    "print(\"123\")"
   ]
  },
  {
   "cell_type": "code",
   "execution_count": 14,
   "id": "a40e465b-41b6-4aa4-86de-6fdf401b45ea",
   "metadata": {},
   "outputs": [
    {
     "name": "stdout",
     "output_type": "stream",
     "text": [
      "My age is  23\n"
     ]
    }
   ],
   "source": [
    "age=23\n",
    "print(\"My age is \",age)"
   ]
  },
  {
   "cell_type": "code",
   "execution_count": 15,
   "id": "74e04554-05df-4422-9736-1e6925cf741b",
   "metadata": {},
   "outputs": [
    {
     "name": "stdout",
     "output_type": "stream",
     "text": [
      "My age is {age}\n"
     ]
    }
   ],
   "source": [
    "age=23\n",
    "print(\"My age is {age}\")"
   ]
  },
  {
   "cell_type": "code",
   "execution_count": 17,
   "id": "b3d45dca-ff8b-4558-b00d-2cc80f0d0240",
   "metadata": {},
   "outputs": [
    {
     "name": "stdout",
     "output_type": "stream",
     "text": [
      "My age is 23\n"
     ]
    }
   ],
   "source": [
    "# f string in python\n",
    "age=23\n",
    "print(f\"My age is {age}\")"
   ]
  },
  {
   "cell_type": "code",
   "execution_count": 23,
   "id": "5e49b8a6-a94e-4e24-93f3-56771bded01e",
   "metadata": {},
   "outputs": [
    {
     "name": "stdout",
     "output_type": "stream",
     "text": [
      "My name is Driptarshi Ray and age is 23 and height is 163 cm.\n"
     ]
    }
   ],
   "source": [
    "# format()\n",
    "name=\"Driptarshi Ray\"\n",
    "age=\"23\"\n",
    "height=\"163 cm\"\n",
    "print(\"My name is {} and age is {} and height is {}.\".format(name,age,height))"
   ]
  },
  {
   "cell_type": "code",
   "execution_count": 24,
   "id": "59c3c336-ced7-44fb-924f-0b1217e31d3b",
   "metadata": {},
   "outputs": [
    {
     "name": "stdout",
     "output_type": "stream",
     "text": [
      "My name is 23 and age is Driptarshi Ray and height is 163 cm.\n"
     ]
    }
   ],
   "source": [
    "# format()\n",
    "name=\"Driptarshi Ray\"\n",
    "age=\"23\"\n",
    "height=\"163 cm\"\n",
    "print(\"My name is {} and age is {} and height is {}.\".format(age,name,height))"
   ]
  },
  {
   "cell_type": "code",
   "execution_count": 25,
   "id": "d27245cb-03f1-44b4-8752-e9d3685f1bc5",
   "metadata": {},
   "outputs": [
    {
     "name": "stdout",
     "output_type": "stream",
     "text": [
      "My name is Driptarshi Ray and age is 23 and height is 163 cm.\n"
     ]
    }
   ],
   "source": [
    "# place holder      \n",
    "print(\"My name is {fill1} and age is {fill2} and height is {fill3}.\".format(fill2=age,fill3=height,fill1=name))"
   ]
  },
  {
   "cell_type": "code",
   "execution_count": 27,
   "id": "c432e6b9-dc43-425b-9ede-dfe0d04ba694",
   "metadata": {},
   "outputs": [
    {
     "name": "stdout",
     "output_type": "stream",
     "text": [
      "My age is 23 and i have completed: my degree of BSc with the name of Driptarshi Ray\n"
     ]
    }
   ],
   "source": [
    "name=\"Driptarshi Ray\"\n",
    "age=23\n",
    "degree=\"BSc\"\n",
    "\n",
    "\"My age is 23 and i have completed: my degree of BSc with the name of Driptarshi Ray\"\n",
    "print(\"My age is {fill1} and i have completed: my degree of {fill2} with the name of {fill3}\".format(fill2=degree,fill3=name,fill1=age))"
   ]
  },
  {
   "cell_type": "markdown",
   "id": "d07e656b-28e8-4430-ac40-74c5a6babbce",
   "metadata": {},
   "source": [
    "## Control flow\n",
    "\n",
    "### Decision making"
   ]
  },
  {
   "cell_type": "code",
   "execution_count": null,
   "id": "f1c561ca-a736-4b59-a20d-5414115e56a5",
   "metadata": {},
   "outputs": [
    {
     "name": "stdout",
     "output_type": "stream",
     "text": [
      "Eligible to vote\n"
     ]
    }
   ],
   "source": [
    "# if statements\n",
    "age=18\n",
    "if age>=18:\n",
    "    print(\"Eligible to vote\")"
   ]
  },
  {
   "cell_type": "code",
   "execution_count": 34,
   "id": "b6e8fc3b-39b5-442b-a55f-80de2da3cc69",
   "metadata": {},
   "outputs": [
    {
     "data": {
      "text/plain": [
       "True"
      ]
     },
     "execution_count": 34,
     "metadata": {},
     "output_type": "execute_result"
    }
   ],
   "source": [
    "17<18"
   ]
  },
  {
   "cell_type": "code",
   "execution_count": 35,
   "id": "d50cc466-ed55-4521-9795-57cf0c7e4465",
   "metadata": {},
   "outputs": [
    {
     "data": {
      "text/plain": [
       "False"
      ]
     },
     "execution_count": 35,
     "metadata": {},
     "output_type": "execute_result"
    }
   ],
   "source": [
    "18<18"
   ]
  },
  {
   "cell_type": "code",
   "execution_count": 37,
   "id": "b51a15a6-3582-4523-a2ee-48d2ce87602e",
   "metadata": {},
   "outputs": [
    {
     "name": "stdout",
     "output_type": "stream",
     "text": [
      "Not Eligible to vote\n"
     ]
    }
   ],
   "source": [
    "# if statements\n",
    "age=17\n",
    "if age<18:\n",
    "    print(\"Not Eligible to vote\")"
   ]
  },
  {
   "cell_type": "code",
   "execution_count": 40,
   "id": "9b45b591-eabb-45a7-a040-55e9449a35ed",
   "metadata": {},
   "outputs": [
    {
     "data": {
      "text/plain": [
       "True"
      ]
     },
     "execution_count": 40,
     "metadata": {},
     "output_type": "execute_result"
    }
   ],
   "source": [
    "18==18"
   ]
  },
  {
   "cell_type": "code",
   "execution_count": 41,
   "id": "2d1dd2de-7f44-4225-89c0-a256ad3f990b",
   "metadata": {},
   "outputs": [
    {
     "name": "stdin",
     "output_type": "stream",
     "text": [
      " Input1\n"
     ]
    },
    {
     "data": {
      "text/plain": [
       "'Input1'"
      ]
     },
     "execution_count": 41,
     "metadata": {},
     "output_type": "execute_result"
    }
   ],
   "source": [
    "input()"
   ]
  },
  {
   "cell_type": "code",
   "execution_count": 42,
   "id": "67a7321b-6acc-4b41-a35b-13d8fb452112",
   "metadata": {},
   "outputs": [
    {
     "name": "stdin",
     "output_type": "stream",
     "text": [
      "Enter name of School Holy Palace\n"
     ]
    }
   ],
   "source": [
    "school=input(\"Enter name of School\")"
   ]
  },
  {
   "cell_type": "code",
   "execution_count": 43,
   "id": "ae9a35e7-6606-4c7d-8d3e-1c21bb02b43c",
   "metadata": {},
   "outputs": [
    {
     "data": {
      "text/plain": [
       "'Holy Palace'"
      ]
     },
     "execution_count": 43,
     "metadata": {},
     "output_type": "execute_result"
    }
   ],
   "source": [
    "school"
   ]
  },
  {
   "cell_type": "code",
   "execution_count": 44,
   "id": "92aa1428-c737-4094-a889-3a78444589ff",
   "metadata": {},
   "outputs": [
    {
     "name": "stdin",
     "output_type": "stream",
     "text": [
      "enter your height 163\n"
     ]
    }
   ],
   "source": [
    "height=int(input('enter your height'))"
   ]
  },
  {
   "cell_type": "code",
   "execution_count": 45,
   "id": "b37587e4-709d-457f-916a-f96703beaff1",
   "metadata": {},
   "outputs": [
    {
     "data": {
      "text/plain": [
       "163"
      ]
     },
     "execution_count": 45,
     "metadata": {},
     "output_type": "execute_result"
    }
   ],
   "source": [
    "height"
   ]
  },
  {
   "cell_type": "code",
   "execution_count": 46,
   "id": "d8ebdbf6-24dc-4bb8-96ca-ad40219bc0f9",
   "metadata": {},
   "outputs": [
    {
     "name": "stdout",
     "output_type": "stream",
     "text": [
      "163\n"
     ]
    }
   ],
   "source": [
    "print(height)"
   ]
  },
  {
   "cell_type": "code",
   "execution_count": 47,
   "id": "cba2f87d-23e4-48b9-8c21-53da097ebc66",
   "metadata": {},
   "outputs": [
    {
     "data": {
      "text/plain": [
       "int"
      ]
     },
     "execution_count": 47,
     "metadata": {},
     "output_type": "execute_result"
    }
   ],
   "source": [
    "type(height)"
   ]
  },
  {
   "cell_type": "code",
   "execution_count": 48,
   "id": "d68c3d45-ca58-465d-b04b-60f6c76a7c3d",
   "metadata": {},
   "outputs": [
    {
     "data": {
      "text/plain": [
       "str"
      ]
     },
     "execution_count": 48,
     "metadata": {},
     "output_type": "execute_result"
    }
   ],
   "source": [
    "type(school)"
   ]
  },
  {
   "cell_type": "code",
   "execution_count": null,
   "id": "7238e25d-c860-4934-a61c-d12bbda31d8b",
   "metadata": {},
   "outputs": [],
   "source": [
    "## Task\n",
    "## Take input of your age\n",
    "## check whether age >=18 and <=45\n",
    "## display a message you are young blood"
   ]
  },
  {
   "cell_type": "code",
   "execution_count": null,
   "id": "e1547ee8-a7db-4928-a4f9-01cf0fdc707f",
   "metadata": {},
   "outputs": [],
   "source": []
  },
  {
   "cell_type": "code",
   "execution_count": 71,
   "id": "0cb676b3-7444-4c91-9305-b65f83536c3d",
   "metadata": {},
   "outputs": [
    {
     "name": "stdin",
     "output_type": "stream",
     "text": [
      "Enter your age 23\n"
     ]
    }
   ],
   "source": [
    "age=int(input(\"Enter your age\"))"
   ]
  },
  {
   "cell_type": "code",
   "execution_count": 72,
   "id": "cadbdec9-2c07-44d7-b4f2-9b436b9b9b14",
   "metadata": {},
   "outputs": [
    {
     "data": {
      "text/plain": [
       "23"
      ]
     },
     "execution_count": 72,
     "metadata": {},
     "output_type": "execute_result"
    }
   ],
   "source": [
    "age"
   ]
  },
  {
   "cell_type": "code",
   "execution_count": 59,
   "id": "580e83f8-e512-4145-b5b0-ec0695e20471",
   "metadata": {},
   "outputs": [
    {
     "data": {
      "text/plain": [
       "True"
      ]
     },
     "execution_count": 59,
     "metadata": {},
     "output_type": "execute_result"
    }
   ],
   "source": [
    "23<=45"
   ]
  },
  {
   "cell_type": "code",
   "execution_count": 60,
   "id": "465e4fcb-3249-4972-b990-f7bb0b58fdab",
   "metadata": {},
   "outputs": [
    {
     "data": {
      "text/plain": [
       "True"
      ]
     },
     "execution_count": 60,
     "metadata": {},
     "output_type": "execute_result"
    }
   ],
   "source": [
    "23>=18"
   ]
  },
  {
   "cell_type": "code",
   "execution_count": 61,
   "id": "51bcb42e-382e-432e-9707-c85667fdf685",
   "metadata": {},
   "outputs": [
    {
     "data": {
      "text/plain": [
       "True"
      ]
     },
     "execution_count": 61,
     "metadata": {},
     "output_type": "execute_result"
    }
   ],
   "source": [
    "45>=45"
   ]
  },
  {
   "cell_type": "code",
   "execution_count": 63,
   "id": "546a3101-a810-4aa2-bea6-9e3c62045458",
   "metadata": {},
   "outputs": [
    {
     "data": {
      "text/plain": [
       "True"
      ]
     },
     "execution_count": 63,
     "metadata": {},
     "output_type": "execute_result"
    }
   ],
   "source": [
    "45<=45"
   ]
  },
  {
   "cell_type": "code",
   "execution_count": 73,
   "id": "77330eca-b561-420d-9ee5-524f95bc6519",
   "metadata": {},
   "outputs": [
    {
     "name": "stdout",
     "output_type": "stream",
     "text": [
      "you are young blood\n"
     ]
    }
   ],
   "source": [
    "if age>=18 and age<=45:\n",
    "    print(\"you are young blood\")"
   ]
  },
  {
   "cell_type": "code",
   "execution_count": null,
   "id": "72a888bb-1aad-470b-ad52-3e656f238b2f",
   "metadata": {},
   "outputs": [],
   "source": []
  },
  {
   "cell_type": "code",
   "execution_count": 78,
   "id": "4975bf2d-3cd0-4487-9e83-bc9e5b29b0a3",
   "metadata": {},
   "outputs": [
    {
     "name": "stdin",
     "output_type": "stream",
     "text": [
      "Enter your age 23\n"
     ]
    },
    {
     "name": "stdout",
     "output_type": "stream",
     "text": [
      "you are young blood\n"
     ]
    }
   ],
   "source": [
    "age=int(input(\"Enter your age\"))\n",
    "if age>=18 and age<=45:\n",
    "    print(\"you are young blood\")"
   ]
  },
  {
   "cell_type": "code",
   "execution_count": null,
   "id": "78b008fa-541c-40f5-a65c-d2979b564518",
   "metadata": {},
   "outputs": [],
   "source": [
    "## if else statement\n"
   ]
  },
  {
   "cell_type": "code",
   "execution_count": 80,
   "id": "fe2a43f4-f269-4875-a4f0-8ac24e87ece3",
   "metadata": {},
   "outputs": [
    {
     "name": "stdin",
     "output_type": "stream",
     "text": [
      "Enter your age 17\n"
     ]
    },
    {
     "name": "stdout",
     "output_type": "stream",
     "text": [
      "Sorry! You are not eligible to drink alcohol\n"
     ]
    }
   ],
   "source": [
    "age=int(input(\"Enter your age\"))\n",
    "if age>=18 and age<=100:\n",
    "    print(\"you are eligible to drink alcohol\")\n",
    "else:\n",
    "    print(\"Sorry! You are not eligible to drink alcohol\")"
   ]
  },
  {
   "cell_type": "code",
   "execution_count": 81,
   "id": "fdfcd9d3-597c-4fc3-a3cd-6dc6e70b7d4c",
   "metadata": {},
   "outputs": [
    {
     "name": "stdin",
     "output_type": "stream",
     "text": [
      "Enter your age 22\n"
     ]
    },
    {
     "name": "stdout",
     "output_type": "stream",
     "text": [
      "you are eligible to drink alcohol\n"
     ]
    }
   ],
   "source": [
    "age=int(input(\"Enter your age\"))\n",
    "if age>=18 and age<=100:\n",
    "    print(\"you are eligible to drink alcohol\")\n",
    "else:\n",
    "    print(\"Sorry! You are not eligible to drink alcohol\")"
   ]
  },
  {
   "cell_type": "code",
   "execution_count": null,
   "id": "8f114cae-27b4-4663-a75a-a9cd1260260b",
   "metadata": {},
   "outputs": [],
   "source": [
    "## mall - input the product price\n",
    "## product >1000 rs 20% off\n",
    "## print the product price after removing the discount\n",
    "## product <1000 rs 30% off\n",
    "## print the product price after removing the discount"
   ]
  },
  {
   "cell_type": "code",
   "execution_count": 87,
   "id": "3f2f41f4-54a5-423c-8326-7bfffd47ecdf",
   "metadata": {},
   "outputs": [
    {
     "name": "stdin",
     "output_type": "stream",
     "text": [
      "Enter product price 500\n"
     ]
    },
    {
     "name": "stdout",
     "output_type": "stream",
     "text": [
      "350.0\n"
     ]
    }
   ],
   "source": [
    "price=int(input(\"Enter product price\"))\n",
    "if price>1000:\n",
    "    print(int(price)-int(price)*20/100)\n",
    "if price<1000:\n",
    "    print(int(price)-int(price)*30/100)"
   ]
  },
  {
   "cell_type": "code",
   "execution_count": 88,
   "id": "110dfeee-4bc6-40c1-8b2b-cdb3cbc5dd4b",
   "metadata": {},
   "outputs": [
    {
     "name": "stdin",
     "output_type": "stream",
     "text": [
      "Enter product price 2000\n"
     ]
    },
    {
     "name": "stdout",
     "output_type": "stream",
     "text": [
      "1600.0\n"
     ]
    }
   ],
   "source": [
    "price=int(input(\"Enter product price\"))\n",
    "if price>1000:\n",
    "    print(int(price)-int(price)*20/100)\n",
    "if price<1000:\n",
    "    print(int(price)-int(price)*30/100)"
   ]
  },
  {
   "cell_type": "code",
   "execution_count": null,
   "id": "21de23ab-14f5-4093-a2d4-bca070e7faff",
   "metadata": {},
   "outputs": [],
   "source": []
  },
  {
   "cell_type": "code",
   "execution_count": 90,
   "id": "06d3cc01-5328-4f65-89eb-775d460ab7db",
   "metadata": {},
   "outputs": [
    {
     "name": "stdin",
     "output_type": "stream",
     "text": [
      "Enter product price 500\n"
     ]
    },
    {
     "name": "stdout",
     "output_type": "stream",
     "text": [
      "Final price price of the product is 350.0.\n"
     ]
    }
   ],
   "source": [
    "price=int(input(\"Enter product price\"))\n",
    "if price>1000:\n",
    "    print(\"Final price price of the product is {}.\".format(price-price*20/100))\n",
    "if price<1000:\n",
    "    print(\"Final price price of the product is {}.\".format(price-price*30/100))"
   ]
  },
  {
   "cell_type": "code",
   "execution_count": 91,
   "id": "5a243e77-b640-48a1-ba0f-8900ad2d587a",
   "metadata": {},
   "outputs": [
    {
     "name": "stdin",
     "output_type": "stream",
     "text": [
      "Enter product price 500\n"
     ]
    },
    {
     "name": "stdout",
     "output_type": "stream",
     "text": [
      "Final price price of the product is 350.0.\n"
     ]
    }
   ],
   "source": [
    "price=int(input(\"Enter product price\"))\n",
    "if price<1000:\n",
    "    print(\"Final price price of the product is {}.\".format(price-price*0.3))\n",
    "else:\n",
    "    print(\"Final price price of the product is {}.\".format(price-price*0.2))"
   ]
  },
  {
   "cell_type": "code",
   "execution_count": null,
   "id": "5b28919d-ef66-4abc-9f0f-54c32439f904",
   "metadata": {},
   "outputs": [],
   "source": []
  },
  {
   "cell_type": "code",
   "execution_count": 92,
   "id": "a4900221-39d8-42f4-b511-27f428233130",
   "metadata": {},
   "outputs": [
    {
     "name": "stdin",
     "output_type": "stream",
     "text": [
      "Enter product price 2000\n"
     ]
    },
    {
     "name": "stdout",
     "output_type": "stream",
     "text": [
      "Final price price of the product is 1600.0.\n"
     ]
    }
   ],
   "source": [
    "price=int(input(\"Enter product price\"))\n",
    "if price<1000:\n",
    "    print(\"Final price price of the product is {}.\".format(price-price*0.3))\n",
    "else:\n",
    "    print(\"Final price price of the product is {}.\".format(price-price*0.2))"
   ]
  },
  {
   "cell_type": "code",
   "execution_count": null,
   "id": "bec15cc7-1b6b-4fd0-81e3-c2024366ac87",
   "metadata": {},
   "outputs": [],
   "source": []
  },
  {
   "cell_type": "code",
   "execution_count": null,
   "id": "c6279367-8656-4092-acca-8cf9b89cdfda",
   "metadata": {},
   "outputs": [],
   "source": [
    "## mall - input the product price\n",
    "## product >3000 rs 20% off\n",
    "## print the product price after removing the discount\n",
    "## product >= 2000 and <=3000 rs 30% off\n",
    "## product price==2999  u will get a additional gift\n",
    "## print the product price after removing the discount\n",
    "## product price <=1000 rs and <2000 rs 40% off\n",
    "## print the product price after removing the discount"
   ]
  },
  {
   "cell_type": "code",
   "execution_count": null,
   "id": "c07e1d18-89cc-4d88-b996-28cf15da76fa",
   "metadata": {},
   "outputs": [],
   "source": []
  },
  {
   "cell_type": "code",
   "execution_count": 97,
   "id": "1ba3622f-aa6a-4ae9-85b9-fc1f1329e3f6",
   "metadata": {},
   "outputs": [
    {
     "name": "stdin",
     "output_type": "stream",
     "text": [
      "Enter product price 5000\n"
     ]
    },
    {
     "name": "stdout",
     "output_type": "stream",
     "text": [
      "Final price price of the product is 4000.0.\n"
     ]
    }
   ],
   "source": [
    "price=int(input(\"Enter product price\"))\n",
    "if price>3000:\n",
    "    print(\"Final price price of the product is {}.\".format(price-price*0.2))\n",
    "if price>=2000 and price<=3000:\n",
    "    print(\"Final price price of the product is {}.\".format(price-price*0.3))\n",
    "if price<=1000 and price<=2000:\n",
    "          print(\"Final price price of the product is {}.\".format(price-price*0.4))"
   ]
  },
  {
   "cell_type": "code",
   "execution_count": null,
   "id": "adcae99a-0520-44de-9b1f-57a1d3a44064",
   "metadata": {},
   "outputs": [],
   "source": []
  },
  {
   "cell_type": "code",
   "execution_count": 96,
   "id": "3310232b-852d-4662-bc20-cbcd8c3a5db2",
   "metadata": {},
   "outputs": [
    {
     "name": "stdin",
     "output_type": "stream",
     "text": [
      "Enter product price 3000\n"
     ]
    },
    {
     "name": "stdout",
     "output_type": "stream",
     "text": [
      "Final price price of the product is 2100.0.\n"
     ]
    }
   ],
   "source": [
    "price=int(input(\"Enter product price\"))\n",
    "if price>3000:\n",
    "    print(\"Final price price of the product is {}.\".format(price-price*0.2))\n",
    "if price>=2000 and price<=3000:\n",
    "    print(\"Final price price of the product is {}.\".format(price-price*0.3))\n",
    "if price<=1000 and price<=2000:\n",
    "          print(\"Final price price of the product is {}.\".format(price-price*0.4))"
   ]
  },
  {
   "cell_type": "code",
   "execution_count": null,
   "id": "3ab4fa3c-5ee7-424f-8875-ff8ae865ac87",
   "metadata": {},
   "outputs": [],
   "source": []
  },
  {
   "cell_type": "code",
   "execution_count": 101,
   "id": "cb19ef43-ad2e-4c02-a89d-cef34a252a9d",
   "metadata": {},
   "outputs": [
    {
     "name": "stdin",
     "output_type": "stream",
     "text": [
      "Enter product price 1000\n"
     ]
    },
    {
     "name": "stdout",
     "output_type": "stream",
     "text": [
      "Final price price of the product is 600.0.\n"
     ]
    }
   ],
   "source": [
    "price=int(input(\"Enter product price\"))\n",
    "if price>3000:\n",
    "    print(\"Final price price of the product is {}.\".format(price-price*0.2))\n",
    "if price>=2000 and price<=3000:\n",
    "    print(\"Final price price of the product is {}.\".format(price-price*0.3))\n",
    "if price<=1000 and price<=2000:\n",
    "          print(\"Final price price of the product is {}.\".format(price-price*0.4))"
   ]
  },
  {
   "cell_type": "code",
   "execution_count": null,
   "id": "94f68fe3-62b0-4351-9f9d-ac90c251114a",
   "metadata": {},
   "outputs": [],
   "source": []
  },
  {
   "cell_type": "code",
   "execution_count": 116,
   "id": "240426b0-05d3-4f9b-ad54-a466bea545d9",
   "metadata": {},
   "outputs": [
    {
     "name": "stdin",
     "output_type": "stream",
     "text": [
      "Enter product price 2000\n"
     ]
    },
    {
     "name": "stdout",
     "output_type": "stream",
     "text": [
      "Final price price of the product is 1400.0.\n"
     ]
    }
   ],
   "source": [
    "price=int(input(\"Enter product price\"))\n",
    "if price>3000:\n",
    "    if price==4000:\n",
    "        print('You won a trip to London')\n",
    "    print(\"Final price price of the product is {}.\".format(price*0.8))\n",
    "elif price>=2000 and price<=3000:\n",
    "    if price==2999: ## nested if or inside if\n",
    "        print(\"Congtars! You won an additional gift\")\n",
    "    print(\"Final price price of the product is {}.\".format(price*0.7))\n",
    "elif price>=100 and price<=2000:\n",
    "    print(\"Final price price of the product is {}.\".format(price*0.6))\n",
    "else:\n",
    "    print(\"Let's drink coke\")"
   ]
  },
  {
   "cell_type": "code",
   "execution_count": 1,
   "id": "5d49086d-24aa-4cea-8941-5903ac2d4b1e",
   "metadata": {},
   "outputs": [
    {
     "data": {
      "text/plain": [
       "True"
      ]
     },
     "execution_count": 1,
     "metadata": {},
     "output_type": "execute_result"
    }
   ],
   "source": [
    "## comparison operator\n",
    "True==True"
   ]
  },
  {
   "cell_type": "code",
   "execution_count": 3,
   "id": "16a981a7-e737-4200-a313-213354993d47",
   "metadata": {},
   "outputs": [
    {
     "name": "stdin",
     "output_type": "stream",
     "text": [
      "Enter the value 1000\n"
     ]
    },
    {
     "name": "stdout",
     "output_type": "stream",
     "text": [
      "Go home\n"
     ]
    }
   ],
   "source": [
    "## Single statement Suites\n",
    "val=int(input(\"Enter the value\"))\n",
    "if val<=999: print(\"The value is less than 999\")\n",
    "else:\n",
    "    print(\"Go home\")"
   ]
  },
  {
   "cell_type": "markdown",
   "id": "3635d0b4-7c2f-4b55-847f-ac78f8e756e6",
   "metadata": {},
   "source": [
    "## Loop statements\n",
    "1. while loop\n",
    "2. for loop\n",
    "3. nested loop\n",
    "4. Loop control (break, continue, pass)"
   ]
  },
  {
   "cell_type": "markdown",
   "id": "dfcb1bd9-79b0-458a-8a92-cd36c9d08296",
   "metadata": {},
   "source": [
    "### While loop"
   ]
  },
  {
   "cell_type": "code",
   "execution_count": 21,
   "id": "c20e0ef0-f175-454f-95be-0e24fe5ea95d",
   "metadata": {},
   "outputs": [
    {
     "name": "stdout",
     "output_type": "stream",
     "text": [
      "21\n",
      "22\n",
      "23\n",
      "24\n",
      "25\n",
      "26\n",
      "27\n",
      "28\n",
      "29\n",
      "30\n",
      "31\n",
      "32\n",
      "33\n",
      "34\n",
      "35\n",
      "36\n",
      "37\n",
      "38\n",
      "39\n",
      "40\n",
      "41\n",
      "42\n",
      "43\n",
      "44\n",
      "45\n",
      "46\n",
      "47\n",
      "48\n",
      "49\n",
      "50\n",
      "51\n",
      "52\n",
      "53\n",
      "54\n",
      "55\n",
      "56\n",
      "57\n",
      "58\n",
      "59\n",
      "60\n",
      "Its time for retirement\n",
      "Welcome to ABC ATM\n"
     ]
    }
   ],
   "source": [
    "# while loop\n",
    "joining_age=21\n",
    "while joining_age<=60:\n",
    "    print(joining_age)\n",
    "    joining_age=joining_age+1\n",
    "else:\n",
    "    print (\"Its time for retirement\")\n",
    " \n",
    "print(\"Welcome to ABC ATM\")"
   ]
  },
  {
   "cell_type": "markdown",
   "id": "dd850b1a-4449-4666-88e1-20d0cb07db27",
   "metadata": {},
   "source": []
  },
  {
   "cell_type": "code",
   "execution_count": 18,
   "id": "f66f9cf8-6a55-4a8e-8973-731976ef83af",
   "metadata": {},
   "outputs": [
    {
     "name": "stdout",
     "output_type": "stream",
     "text": [
      "1000\n",
      "900\n",
      "800\n",
      "700\n",
      "600\n",
      "500\n",
      "400\n",
      "300\n",
      "200\n",
      "100\n",
      "No Cash\n"
     ]
    }
   ],
   "source": [
    "### ATM machine with1000 rs\n",
    "total_amount=1000\n",
    "while total_amount!=0:\n",
    "    print(total_amount)\n",
    "    total_amount=total_amount-100\n",
    "else:\n",
    "    print(\"No Cash\")"
   ]
  },
  {
   "cell_type": "markdown",
   "id": "48d57731-d1ee-4c8c-b2e7-1a20fb3ec43f",
   "metadata": {},
   "source": [
    "### For loop"
   ]
  },
  {
   "cell_type": "code",
   "execution_count": 22,
   "id": "65363c40-0dad-4f30-84a7-37fb4a00b360",
   "metadata": {},
   "outputs": [],
   "source": [
    "lst=[\"Driptarshi Ray\",True,1,2,3,4,5,0,\"England\",\"Football\"]"
   ]
  },
  {
   "cell_type": "code",
   "execution_count": 23,
   "id": "1ac1fa76-90ec-4650-8743-9f8b6beb7aa1",
   "metadata": {},
   "outputs": [
    {
     "data": {
      "text/plain": [
       "list"
      ]
     },
     "execution_count": 23,
     "metadata": {},
     "output_type": "execute_result"
    }
   ],
   "source": [
    "type(lst)"
   ]
  },
  {
   "cell_type": "code",
   "execution_count": 24,
   "id": "adae3938-511b-41a0-8ff2-e9201c8a2971",
   "metadata": {},
   "outputs": [
    {
     "data": {
      "text/plain": [
       "'Driptarshi Ray'"
      ]
     },
     "execution_count": 24,
     "metadata": {},
     "output_type": "execute_result"
    }
   ],
   "source": [
    "lst[0]"
   ]
  },
  {
   "cell_type": "code",
   "execution_count": 25,
   "id": "57630d56-527a-4fe4-9adb-b6ce0c3d5172",
   "metadata": {},
   "outputs": [
    {
     "data": {
      "text/plain": [
       "str"
      ]
     },
     "execution_count": 25,
     "metadata": {},
     "output_type": "execute_result"
    }
   ],
   "source": [
    "type(lst[0])"
   ]
  },
  {
   "cell_type": "code",
   "execution_count": 26,
   "id": "f3ff08ef-a009-4785-8a4b-8efc03fa8ecc",
   "metadata": {},
   "outputs": [
    {
     "data": {
      "text/plain": [
       "int"
      ]
     },
     "execution_count": 26,
     "metadata": {},
     "output_type": "execute_result"
    }
   ],
   "source": [
    "type(lst[3])"
   ]
  },
  {
   "cell_type": "code",
   "execution_count": 30,
   "id": "853bf0fb-0458-4485-946f-2616c3a5c8c7",
   "metadata": {},
   "outputs": [
    {
     "data": {
      "text/plain": [
       "4"
      ]
     },
     "execution_count": 30,
     "metadata": {},
     "output_type": "execute_result"
    }
   ],
   "source": [
    "lst[4]"
   ]
  },
  {
   "cell_type": "code",
   "execution_count": 31,
   "id": "23cdeb3a-574f-405e-93a4-7175e60932cc",
   "metadata": {},
   "outputs": [
    {
     "data": {
      "text/plain": [
       "['Driptarshi Ray', 1, 2, 3, 4, 5, 0, 'England', 'Football']"
      ]
     },
     "execution_count": 31,
     "metadata": {},
     "output_type": "execute_result"
    }
   ],
   "source": [
    "lst"
   ]
  },
  {
   "cell_type": "code",
   "execution_count": 40,
   "id": "afefd570-edb7-462a-8c2a-0003dc5e2e38",
   "metadata": {},
   "outputs": [
    {
     "name": "stdout",
     "output_type": "stream",
     "text": [
      "Driptarshi Ray\n",
      "1\n",
      "2\n",
      "3\n",
      "4\n",
      "5\n",
      "0\n",
      "England\n",
      "Football\n"
     ]
    }
   ],
   "source": [
    "for x in lst:\n",
    "    print(x)"
   ]
  },
  {
   "cell_type": "code",
   "execution_count": 44,
   "id": "de4da73f-d04a-4633-91c7-daae6105a874",
   "metadata": {},
   "outputs": [],
   "source": [
    "fruit_basket=[\"Mango\",\"Apple\",\"Banana\",\"grapes\"]"
   ]
  },
  {
   "cell_type": "code",
   "execution_count": 51,
   "id": "dad40d20-1381-4a87-8bc7-09935fd633ee",
   "metadata": {},
   "outputs": [
    {
     "name": "stdout",
     "output_type": "stream",
     "text": [
      "Mango\n",
      "Apple\n",
      "Banana\n",
      "Ei nao kola\n",
      "grapes\n"
     ]
    }
   ],
   "source": [
    "for a in fruit_basket:\n",
    "    print(a)\n",
    "    if a==\"Banana\":\n",
    "        print(\"Ei nao kola\")"
   ]
  },
  {
   "cell_type": "code",
   "execution_count": 52,
   "id": "2ad11a72-5e79-471e-a8fc-333ebff44cc5",
   "metadata": {},
   "outputs": [
    {
     "name": "stdout",
     "output_type": "stream",
     "text": [
      "H\n",
      "P\n",
      "M\n",
      "I\n"
     ]
    }
   ],
   "source": [
    "school=\"HPMI\"\n",
    "for x in school:\n",
    "    print(x)"
   ]
  },
  {
   "cell_type": "code",
   "execution_count": 54,
   "id": "f575b932-f804-49fa-85e9-38e38b42b827",
   "metadata": {},
   "outputs": [
    {
     "data": {
      "text/plain": [
       "'H'"
      ]
     },
     "execution_count": 54,
     "metadata": {},
     "output_type": "execute_result"
    }
   ],
   "source": [
    "school[0]"
   ]
  },
  {
   "cell_type": "code",
   "execution_count": null,
   "id": "0f7c8328-4e1d-4982-9c25-1b2bfb44fa36",
   "metadata": {},
   "outputs": [],
   "source": []
  },
  {
   "cell_type": "code",
   "execution_count": 56,
   "id": "84358eb8-9013-4550-9d2c-cb1b397994c4",
   "metadata": {},
   "outputs": [
    {
     "name": "stdout",
     "output_type": "stream",
     "text": [
      "HPMI"
     ]
    }
   ],
   "source": [
    "school=\"HPMI\"\n",
    "for x in school:\n",
    "    print(x,end=\"\")"
   ]
  },
  {
   "cell_type": "markdown",
   "id": "9c33907b-2512-4fe1-a919-285afa5429b2",
   "metadata": {},
   "source": [
    "### Nested loop"
   ]
  },
  {
   "cell_type": "code",
   "execution_count": 58,
   "id": "892545b0-a6d3-40d8-a853-ddfb4fbe1e08",
   "metadata": {},
   "outputs": [
    {
     "name": "stdout",
     "output_type": "stream",
     "text": [
      "1\n",
      "2\n",
      "3\n",
      "4\n",
      "5\n",
      "6\n",
      "7\n",
      "8\n",
      "9\n"
     ]
    }
   ],
   "source": [
    "# range\n",
    "\n",
    "for i in range(1,10):\n",
    "    print(i)\n",
    "    \n",
    "    \n",
    "## Note: will take first element but will exclude the last element    "
   ]
  },
  {
   "cell_type": "code",
   "execution_count": 59,
   "id": "0ee25ce9-0422-44c7-9fe1-15f050ec1253",
   "metadata": {},
   "outputs": [
    {
     "name": "stdout",
     "output_type": "stream",
     "text": [
      "1\n",
      "3\n",
      "5\n",
      "7\n",
      "9\n"
     ]
    }
   ],
   "source": [
    "for i in range(1,10,2):\n",
    "    print(i)   \n",
    "    \n",
    " ## Step size is 2   "
   ]
  },
  {
   "cell_type": "code",
   "execution_count": 60,
   "id": "39c5269f-d643-4bc6-b0f6-b151e39c2d4c",
   "metadata": {},
   "outputs": [
    {
     "name": "stdout",
     "output_type": "stream",
     "text": [
      "1\n",
      "4\n",
      "7\n"
     ]
    }
   ],
   "source": [
    "for i in range(1,10,3):\n",
    "    print(i)\n",
    "    \n",
    "## Step size is 3      "
   ]
  },
  {
   "cell_type": "code",
   "execution_count": 66,
   "id": "08b6c877-04fe-4ecb-b3ff-6a1ad8a3c326",
   "metadata": {},
   "outputs": [
    {
     "name": "stdout",
     "output_type": "stream",
     "text": [
      "*\n",
      "**\n",
      "***\n",
      "****\n",
      "*****\n",
      "******\n",
      "*******\n"
     ]
    }
   ],
   "source": [
    "## nested loop\n",
    "n=7\n",
    "for i in range(0,n):\n",
    "    for j in range(0,i+1):\n",
    "        print(\"*\",end=\"\")\n",
    "    print(\"\\r\")"
   ]
  },
  {
   "cell_type": "code",
   "execution_count": 3,
   "id": "1633aa61-d0d5-4aa6-8fd0-ca9d8c487bf6",
   "metadata": {},
   "outputs": [],
   "source": [
    "## Loop controls\n",
    "## Break and continue\n",
    "\n",
    "fruit_basket=[\"Mango\",\"Apple\",\"Banana\",\"grapes\"]"
   ]
  },
  {
   "cell_type": "code",
   "execution_count": 5,
   "id": "769fa8d4-0836-4cc4-ae4e-c891d771fea1",
   "metadata": {},
   "outputs": [
    {
     "name": "stdout",
     "output_type": "stream",
     "text": [
      "Mango\n",
      "Apple\n",
      "Ei nao kola\n"
     ]
    }
   ],
   "source": [
    "# break\n",
    "\n",
    "for i in fruit_basket:\n",
    "    if i==\"Banana\":\n",
    "        print(\"Ei nao kola\")\n",
    "        break\n",
    "    print(i)    "
   ]
  },
  {
   "cell_type": "code",
   "execution_count": null,
   "id": "6c18a33b-d4b0-4319-9b7e-0afca7fbe033",
   "metadata": {},
   "outputs": [],
   "source": []
  },
  {
   "cell_type": "code",
   "execution_count": 72,
   "id": "20254208-8817-4d15-9d72-2dba77288923",
   "metadata": {},
   "outputs": [
    {
     "name": "stdout",
     "output_type": "stream",
     "text": [
      "Mango\n",
      "Apple\n",
      "Ei nao kola\n",
      "Banana\n",
      "grapes\n"
     ]
    }
   ],
   "source": [
    "# pass\n",
    "\n",
    "for i in fruit_basket:\n",
    "    if i==\"Banana\":\n",
    "        print(\"Ei nao kola\")\n",
    "        pass\n",
    "    print(i)    "
   ]
  },
  {
   "cell_type": "code",
   "execution_count": null,
   "id": "dea01dbc-438f-466e-9717-0b637cd501a0",
   "metadata": {},
   "outputs": [],
   "source": []
  },
  {
   "cell_type": "code",
   "execution_count": 73,
   "id": "fa4e06db-0c4d-4736-9f81-6a16aa2b7bdf",
   "metadata": {},
   "outputs": [
    {
     "name": "stdout",
     "output_type": "stream",
     "text": [
      "Mango\n",
      "Apple\n",
      "Ei nao kola\n",
      "grapes\n"
     ]
    }
   ],
   "source": [
    "## continue\n",
    "\n",
    "for i in fruit_basket:\n",
    "    if i==\"Banana\":\n",
    "        print(\"Ei nao kola\")\n",
    "        continue\n",
    "    print(i)    \n",
    "    \n",
    "## Note: It will skip Banana.    "
   ]
  },
  {
   "cell_type": "code",
   "execution_count": 12,
   "id": "e3ce2669-629b-4c66-a5c1-cc25b3be35fe",
   "metadata": {},
   "outputs": [
    {
     "name": "stdout",
     "output_type": "stream",
     "text": [
      "The condition is matching\n"
     ]
    }
   ],
   "source": [
    "i=10\n",
    "\n",
    "if(i>9 and i<12):\n",
    "    print(\"The condition is matching\")"
   ]
  },
  {
   "cell_type": "code",
   "execution_count": null,
   "id": "9533d1c5-53e2-464d-9736-693307d8e61e",
   "metadata": {},
   "outputs": [],
   "source": []
  }
 ],
 "metadata": {
  "kernelspec": {
   "display_name": "Python 3 (ipykernel)",
   "language": "python",
   "name": "python3"
  },
  "language_info": {
   "codemirror_mode": {
    "name": "ipython",
    "version": 3
   },
   "file_extension": ".py",
   "mimetype": "text/x-python",
   "name": "python",
   "nbconvert_exporter": "python",
   "pygments_lexer": "ipython3",
   "version": "3.10.8"
  }
 },
 "nbformat": 4,
 "nbformat_minor": 5
}
