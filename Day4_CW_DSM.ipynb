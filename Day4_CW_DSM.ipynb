{
 "cells": [
  {
   "cell_type": "code",
   "execution_count": 1,
   "id": "58847da5-be0b-4639-bbc4-859a5cbd97f6",
   "metadata": {},
   "outputs": [],
   "source": [
    "name=\"Data science Masters\""
   ]
  },
  {
   "cell_type": "code",
   "execution_count": 2,
   "id": "fd35dec2-b09a-4f72-8a04-08dbbe64c64a",
   "metadata": {},
   "outputs": [
    {
     "data": {
      "text/plain": [
       "'dATA SCIENCE mASTERS'"
      ]
     },
     "execution_count": 2,
     "metadata": {},
     "output_type": "execute_result"
    }
   ],
   "source": [
    "name.swapcase()"
   ]
  },
  {
   "cell_type": "code",
   "execution_count": 3,
   "id": "1c201457-f4b8-4be5-951a-b29c7ed9fd79",
   "metadata": {},
   "outputs": [
    {
     "data": {
      "text/plain": [
       "'Data Science Masters'"
      ]
     },
     "execution_count": 3,
     "metadata": {},
     "output_type": "execute_result"
    }
   ],
   "source": [
    "name.title()"
   ]
  },
  {
   "cell_type": "code",
   "execution_count": 4,
   "id": "203e3767-69d5-458c-bf26-4b179f05fd0f",
   "metadata": {},
   "outputs": [
    {
     "data": {
      "text/plain": [
       "'Data science masters'"
      ]
     },
     "execution_count": 4,
     "metadata": {},
     "output_type": "execute_result"
    }
   ],
   "source": [
    "name.capitalize()"
   ]
  },
  {
   "cell_type": "markdown",
   "id": "15527278-8b2c-4b32-8811-c1c53520ebe2",
   "metadata": {},
   "source": [
    "### Reversing a string"
   ]
  },
  {
   "cell_type": "code",
   "execution_count": 5,
   "id": "ecd24bc4-7da1-4213-8ae0-442111ad14a4",
   "metadata": {},
   "outputs": [
    {
     "data": {
      "text/plain": [
       "'sretsaM ecneics ataD'"
      ]
     },
     "execution_count": 5,
     "metadata": {},
     "output_type": "execute_result"
    }
   ],
   "source": [
    "name[::-1]"
   ]
  },
  {
   "cell_type": "code",
   "execution_count": 7,
   "id": "320d09ed-df50-42fb-9e96-f55d0c00737f",
   "metadata": {},
   "outputs": [
    {
     "data": {
      "text/plain": [
       "<reversed at 0x7fb91c718940>"
      ]
     },
     "execution_count": 7,
     "metadata": {},
     "output_type": "execute_result"
    }
   ],
   "source": [
    "reversed(name)"
   ]
  },
  {
   "cell_type": "code",
   "execution_count": 8,
   "id": "37f61545-a6ea-47f9-bc80-0d9adebef87f",
   "metadata": {},
   "outputs": [
    {
     "data": {
      "text/plain": [
       "'s r e t s a M   e c n e i c s   a t a D'"
      ]
     },
     "execution_count": 8,
     "metadata": {},
     "output_type": "execute_result"
    }
   ],
   "source": [
    "' '.join(reversed(name))"
   ]
  },
  {
   "cell_type": "code",
   "execution_count": 11,
   "id": "06db2b7c-62fe-4a9b-bc9d-78505bb3086e",
   "metadata": {},
   "outputs": [
    {
     "data": {
      "text/plain": [
       "'RDriptarshiADriptarshiY'"
      ]
     },
     "execution_count": 11,
     "metadata": {},
     "output_type": "execute_result"
    }
   ],
   "source": [
    "\"Driptarshi\".join(\"RAY\")"
   ]
  },
  {
   "cell_type": "code",
   "execution_count": 12,
   "id": "a87c7428-516e-40b5-aeb3-1fc736d44699",
   "metadata": {},
   "outputs": [
    {
     "data": {
      "text/plain": [
       "'R'"
      ]
     },
     "execution_count": 12,
     "metadata": {},
     "output_type": "execute_result"
    }
   ],
   "source": [
    "\"Driptarshi\".join(\"R\")"
   ]
  },
  {
   "cell_type": "code",
   "execution_count": 15,
   "id": "8dec87f4-5601-4573-891d-ec09eb63ff67",
   "metadata": {},
   "outputs": [
    {
     "data": {
      "text/plain": [
       "'a'"
      ]
     },
     "execution_count": 15,
     "metadata": {},
     "output_type": "execute_result"
    }
   ],
   "source": [
    "\" \".join(\"a\")"
   ]
  },
  {
   "cell_type": "code",
   "execution_count": 14,
   "id": "9f649011-9263-4379-9162-375dea8ab17f",
   "metadata": {},
   "outputs": [
    {
     "data": {
      "text/plain": [
       "'a b c d'"
      ]
     },
     "execution_count": 14,
     "metadata": {},
     "output_type": "execute_result"
    }
   ],
   "source": [
    "\" \".join(\"abcd\")"
   ]
  },
  {
   "cell_type": "code",
   "execution_count": 17,
   "id": "61fcc133-c201-4d45-96ce-4109d4afb92b",
   "metadata": {},
   "outputs": [
    {
     "data": {
      "text/plain": [
       "'E n g l a n d'"
      ]
     },
     "execution_count": 17,
     "metadata": {},
     "output_type": "execute_result"
    }
   ],
   "source": [
    "\" \".join(\"England\")"
   ]
  },
  {
   "cell_type": "code",
   "execution_count": 18,
   "id": "8c24d734-d603-48b5-a045-c3a8be23e128",
   "metadata": {},
   "outputs": [
    {
     "data": {
      "text/plain": [
       "'d n a l g n E'"
      ]
     },
     "execution_count": 18,
     "metadata": {},
     "output_type": "execute_result"
    }
   ],
   "source": [
    "\" \".join(reversed(\"England\"))"
   ]
  },
  {
   "cell_type": "code",
   "execution_count": 20,
   "id": "012ece83-28e7-4f67-9f5d-5c6011d9f3a5",
   "metadata": {},
   "outputs": [
    {
     "data": {
      "text/plain": [
       "'d 1 n 1 a 1 l 1 g 1 n 1 E'"
      ]
     },
     "execution_count": 20,
     "metadata": {},
     "output_type": "execute_result"
    }
   ],
   "source": [
    "\" 1 \".join(reversed(\"England\"))"
   ]
  },
  {
   "cell_type": "code",
   "execution_count": 22,
   "id": "3148ca46-050b-400c-b48c-6a3ecd3c075c",
   "metadata": {},
   "outputs": [
    {
     "data": {
      "text/plain": [
       "<reversed at 0x7fb91c71ba30>"
      ]
     },
     "execution_count": 22,
     "metadata": {},
     "output_type": "execute_result"
    }
   ],
   "source": [
    "reversed(\"England\")"
   ]
  },
  {
   "cell_type": "code",
   "execution_count": 23,
   "id": "7de4d766-e846-45a2-b335-5825cc39a229",
   "metadata": {},
   "outputs": [
    {
     "data": {
      "text/plain": [
       "['d', 'n', 'a', 'l', 'g', 'n', 'E']"
      ]
     },
     "execution_count": 23,
     "metadata": {},
     "output_type": "execute_result"
    }
   ],
   "source": [
    "list(reversed(\"England\"))"
   ]
  },
  {
   "cell_type": "code",
   "execution_count": 24,
   "id": "95eaf689-3a81-44df-b717-969f7bd1f6d2",
   "metadata": {},
   "outputs": [
    {
     "name": "stdout",
     "output_type": "stream",
     "text": [
      "['d', 'n', 'a', 'l', 'g', 'n', 'E']\n"
     ]
    }
   ],
   "source": [
    "print(list(reversed(\"England\")))"
   ]
  },
  {
   "cell_type": "code",
   "execution_count": 26,
   "id": "fd7c1cb0-9ea1-471e-b189-106db3e1ce4e",
   "metadata": {},
   "outputs": [
    {
     "data": {
      "text/plain": [
       "\"['d', 'n', 'a', 'l', 'g', 'n', 'E']\""
      ]
     },
     "execution_count": 26,
     "metadata": {},
     "output_type": "execute_result"
    }
   ],
   "source": [
    "str(list(reversed(\"England\")))"
   ]
  },
  {
   "cell_type": "code",
   "execution_count": 27,
   "id": "f11fcb41-ebcc-40e9-8925-cb5611d0bc12",
   "metadata": {},
   "outputs": [],
   "source": [
    "str1=\"England is in Europe\""
   ]
  },
  {
   "cell_type": "code",
   "execution_count": 28,
   "id": "9a16778b-d9ac-4b1e-bc5a-7bf1050f711a",
   "metadata": {},
   "outputs": [
    {
     "data": {
      "text/plain": [
       "'EUKnUKgUKlUKaUKnUKdUK UKiUKsUK UKiUKnUK UKEUKuUKrUKoUKpUKe'"
      ]
     },
     "execution_count": 28,
     "metadata": {},
     "output_type": "execute_result"
    }
   ],
   "source": [
    "\"UK\".join(str1)"
   ]
  },
  {
   "cell_type": "code",
   "execution_count": 31,
   "id": "43dd4d09-b87d-4bfc-a56b-970df0618413",
   "metadata": {},
   "outputs": [
    {
     "name": "stdout",
     "output_type": "stream",
     "text": [
      "eporuE ni si dnalgnE"
     ]
    }
   ],
   "source": [
    "for i in list(reversed(str1)):\n",
    "    print(i,end='')"
   ]
  },
  {
   "cell_type": "code",
   "execution_count": 32,
   "id": "894d894e-ae0d-424b-83a1-c9ab32dc557b",
   "metadata": {},
   "outputs": [],
   "source": [
    "## Removing character from the end of the string"
   ]
  },
  {
   "cell_type": "code",
   "execution_count": 33,
   "id": "7e67ce18-f3fd-409a-91f9-912c8566e5d2",
   "metadata": {},
   "outputs": [],
   "source": [
    "str2=\" England \""
   ]
  },
  {
   "cell_type": "code",
   "execution_count": 34,
   "id": "c7a06a26-5858-4ced-8fa2-ce31063d2b6a",
   "metadata": {},
   "outputs": [
    {
     "data": {
      "text/plain": [
       "'England'"
      ]
     },
     "execution_count": 34,
     "metadata": {},
     "output_type": "execute_result"
    }
   ],
   "source": [
    "str2.strip(\" \")"
   ]
  },
  {
   "cell_type": "code",
   "execution_count": 36,
   "id": "7ccf692a-3343-4314-9f36-9b06d98dddc7",
   "metadata": {},
   "outputs": [
    {
     "data": {
      "text/plain": [
       "'England '"
      ]
     },
     "execution_count": 36,
     "metadata": {},
     "output_type": "execute_result"
    }
   ],
   "source": [
    "str2.lstrip(\" \")"
   ]
  },
  {
   "cell_type": "code",
   "execution_count": 38,
   "id": "71958a6f-f8e3-4c30-af67-2a8c8e16e93c",
   "metadata": {},
   "outputs": [
    {
     "data": {
      "text/plain": [
       "' England'"
      ]
     },
     "execution_count": 38,
     "metadata": {},
     "output_type": "execute_result"
    }
   ],
   "source": [
    "str2.rstrip(\" \")"
   ]
  },
  {
   "cell_type": "code",
   "execution_count": 40,
   "id": "48ef7042-9439-486e-b5a4-bdb8578da036",
   "metadata": {},
   "outputs": [],
   "source": [
    "str3=\"I am a school student\""
   ]
  },
  {
   "cell_type": "code",
   "execution_count": 42,
   "id": "e64a15e7-37a2-47df-a718-1c9467568db4",
   "metadata": {},
   "outputs": [
    {
     "data": {
      "text/plain": [
       "'I was a school student'"
      ]
     },
     "execution_count": 42,
     "metadata": {},
     "output_type": "execute_result"
    }
   ],
   "source": [
    "str3.replace(\"am\",\"was\")"
   ]
  },
  {
   "cell_type": "code",
   "execution_count": 46,
   "id": "55b0cb81-4eb1-4b0d-8067-39ad848e2972",
   "metadata": {},
   "outputs": [
    {
     "data": {
      "text/plain": [
       "'I am a scHool student'"
      ]
     },
     "execution_count": 46,
     "metadata": {},
     "output_type": "execute_result"
    }
   ],
   "source": [
    "str3.replace(\"h\",\"H\")"
   ]
  },
  {
   "cell_type": "code",
   "execution_count": 47,
   "id": "b9339b8d-a2e4-4ccf-a59f-69fb7769f4c9",
   "metadata": {},
   "outputs": [
    {
     "data": {
      "text/plain": [
       "'I Am A school student'"
      ]
     },
     "execution_count": 47,
     "metadata": {},
     "output_type": "execute_result"
    }
   ],
   "source": [
    "str3.replace(\"a\",\"A\")"
   ]
  },
  {
   "cell_type": "code",
   "execution_count": 48,
   "id": "f312352e-8c42-4435-a023-49bd9d179cd2",
   "metadata": {},
   "outputs": [],
   "source": [
    "var1=str3.replace(\"a\",\"A\")"
   ]
  },
  {
   "cell_type": "code",
   "execution_count": null,
   "id": "ba54f7bb-9c33-4d24-a4ea-a9e482f651e0",
   "metadata": {},
   "outputs": [],
   "source": []
  },
  {
   "cell_type": "code",
   "execution_count": 5,
   "id": "2204e797-b43a-4d0f-bf58-f3fc09fc18b0",
   "metadata": {},
   "outputs": [
    {
     "ename": "NameError",
     "evalue": "name 'R' is not defined",
     "output_type": "error",
     "traceback": [
      "\u001b[0;31m---------------------------------------------------------------------------\u001b[0m",
      "\u001b[0;31mNameError\u001b[0m                                 Traceback (most recent call last)",
      "Cell \u001b[0;32mIn[5], line 2\u001b[0m\n\u001b[1;32m      1\u001b[0m name\u001b[38;5;241m=\u001b[39m\u001b[38;5;124m\"\u001b[39m\u001b[38;5;124mDriptarshi Ray\u001b[39m\u001b[38;5;124m\"\u001b[39m\n\u001b[0;32m----> 2\u001b[0m name[\u001b[38;5;241m1\u001b[39m]\u001b[38;5;241m=\u001b[39m\u001b[43mR\u001b[49m\n",
      "\u001b[0;31mNameError\u001b[0m: name 'R' is not defined"
     ]
    }
   ],
   "source": [
    "name=\"Driptarshi Ray\"\n",
    "name[1]=R"
   ]
  },
  {
   "cell_type": "code",
   "execution_count": 49,
   "id": "7b3cc210-1162-4c61-88d4-1cdee4e403f8",
   "metadata": {},
   "outputs": [
    {
     "name": "stdout",
     "output_type": "stream",
     "text": [
      "140433022399824\n"
     ]
    }
   ],
   "source": [
    "print(id(str3))"
   ]
  },
  {
   "cell_type": "code",
   "execution_count": 50,
   "id": "c9feda9e-a99e-497a-b924-9363e06b2c38",
   "metadata": {},
   "outputs": [
    {
     "name": "stdout",
     "output_type": "stream",
     "text": [
      "140433022555664\n"
     ]
    }
   ],
   "source": [
    "print(id(var1))"
   ]
  },
  {
   "cell_type": "code",
   "execution_count": 51,
   "id": "281becc0-8ccc-4c05-9c4e-cd0ea24d0775",
   "metadata": {},
   "outputs": [
    {
     "data": {
      "text/plain": [
       "'I Am A school student'"
      ]
     },
     "execution_count": 51,
     "metadata": {},
     "output_type": "execute_result"
    }
   ],
   "source": [
    "var1"
   ]
  },
  {
   "cell_type": "code",
   "execution_count": 6,
   "id": "e975fb47-cb30-41b6-a207-2bcfe20dee2c",
   "metadata": {},
   "outputs": [
    {
     "data": {
      "text/plain": [
       "'hello world'"
      ]
     },
     "execution_count": 6,
     "metadata": {},
     "output_type": "execute_result"
    }
   ],
   "source": [
    "'hello world'"
   ]
  },
  {
   "cell_type": "code",
   "execution_count": 7,
   "id": "13290505-5660-4da4-b85d-4c10aff0813f",
   "metadata": {},
   "outputs": [
    {
     "data": {
      "text/plain": [
       "'DR'"
      ]
     },
     "execution_count": 7,
     "metadata": {},
     "output_type": "execute_result"
    }
   ],
   "source": [
    "str4=\"D@R\"\n",
    "var4=str4.replace(\"@\",\"\")\n",
    "var4"
   ]
  },
  {
   "cell_type": "code",
   "execution_count": 9,
   "id": "f4d06105-7cfb-4d21-85a3-7b7f9c32a00d",
   "metadata": {},
   "outputs": [
    {
     "data": {
      "text/plain": [
       "'hello world'"
      ]
     },
     "execution_count": 9,
     "metadata": {},
     "output_type": "execute_result"
    }
   ],
   "source": [
    "\"hello world\""
   ]
  },
  {
   "cell_type": "code",
   "execution_count": 10,
   "id": "f01ffdf0-b538-42d8-beef-0fc9f21e384b",
   "metadata": {},
   "outputs": [
    {
     "data": {
      "text/plain": [
       "'hello \\nworld'"
      ]
     },
     "execution_count": 10,
     "metadata": {},
     "output_type": "execute_result"
    }
   ],
   "source": [
    "\"hello \\nworld\""
   ]
  },
  {
   "cell_type": "code",
   "execution_count": 12,
   "id": "adb890d6-82c2-4170-af0c-622b14e49917",
   "metadata": {},
   "outputs": [
    {
     "data": {
      "text/plain": [
       "'hello   world'"
      ]
     },
     "execution_count": 12,
     "metadata": {},
     "output_type": "execute_result"
    }
   ],
   "source": [
    "\"hello \\tworld\".expandtabs()"
   ]
  },
  {
   "cell_type": "code",
   "execution_count": 18,
   "id": "82555f4f-56d5-4516-ae7a-c0102a5cce19",
   "metadata": {},
   "outputs": [
    {
     "data": {
      "text/plain": [
       "'Welcome to pwskills.Welcome to Data Science Masters'"
      ]
     },
     "execution_count": 18,
     "metadata": {},
     "output_type": "execute_result"
    }
   ],
   "source": [
    "str1=\"Welcome to pwskills.Welcome to Dat cience Masters\"\n",
    "str1.replace(\"Dat\",\"Data\").replace(\"cience\",\"Science\")"
   ]
  },
  {
   "cell_type": "code",
   "execution_count": 19,
   "id": "96bb758f-889d-460c-b833-c0b690b815e3",
   "metadata": {},
   "outputs": [
    {
     "data": {
      "text/plain": [
       "False"
      ]
     },
     "execution_count": 19,
     "metadata": {},
     "output_type": "execute_result"
    }
   ],
   "source": [
    "str1.isupper()"
   ]
  },
  {
   "cell_type": "code",
   "execution_count": 20,
   "id": "a55a6fb4-77dc-406b-81e6-eb3707a1c531",
   "metadata": {},
   "outputs": [
    {
     "data": {
      "text/plain": [
       "True"
      ]
     },
     "execution_count": 20,
     "metadata": {},
     "output_type": "execute_result"
    }
   ],
   "source": [
    "str2=\"DRIPTARSHI\"\n",
    "str2.isupper()"
   ]
  },
  {
   "cell_type": "code",
   "execution_count": 21,
   "id": "2b2a8869-f3bd-44c6-ac8b-fab7ecd1cf9d",
   "metadata": {},
   "outputs": [
    {
     "data": {
      "text/plain": [
       "False"
      ]
     },
     "execution_count": 21,
     "metadata": {},
     "output_type": "execute_result"
    }
   ],
   "source": [
    "str1.isspace()"
   ]
  },
  {
   "cell_type": "code",
   "execution_count": 22,
   "id": "d3711be8-fe03-4564-a537-53670b803ff6",
   "metadata": {},
   "outputs": [
    {
     "data": {
      "text/plain": [
       "False"
      ]
     },
     "execution_count": 22,
     "metadata": {},
     "output_type": "execute_result"
    }
   ],
   "source": [
    "str2.isspace()"
   ]
  },
  {
   "cell_type": "code",
   "execution_count": 23,
   "id": "607c1611-5223-4f8d-b099-2a90bbf07c64",
   "metadata": {},
   "outputs": [
    {
     "data": {
      "text/plain": [
       "True"
      ]
     },
     "execution_count": 23,
     "metadata": {},
     "output_type": "execute_result"
    }
   ],
   "source": [
    "str3=\"     \"\n",
    "str3.isspace()"
   ]
  },
  {
   "cell_type": "code",
   "execution_count": 25,
   "id": "1d6f648d-8514-49f9-9aa8-65d06215013d",
   "metadata": {},
   "outputs": [
    {
     "data": {
      "text/plain": [
       "True"
      ]
     },
     "execution_count": 25,
     "metadata": {},
     "output_type": "execute_result"
    }
   ],
   "source": [
    "\" \".isspace()"
   ]
  },
  {
   "cell_type": "code",
   "execution_count": 26,
   "id": "28fde98b-5a75-4c1b-b5ff-b5fd757657ba",
   "metadata": {},
   "outputs": [
    {
     "name": "stdout",
     "output_type": "stream",
     "text": [
      "Hello\n"
     ]
    }
   ],
   "source": [
    "if \" \".isspace():\n",
    "    print(\"Hello\")"
   ]
  },
  {
   "cell_type": "code",
   "execution_count": 27,
   "id": "98e80f80-312b-40a0-a366-ec08c82d021a",
   "metadata": {},
   "outputs": [],
   "source": [
    "if \" A\".isspace():\n",
    "    print(\"Hello\")"
   ]
  },
  {
   "cell_type": "code",
   "execution_count": 2,
   "id": "d048a61f-802e-428e-b4e8-41ffbd09882d",
   "metadata": {},
   "outputs": [
    {
     "data": {
      "text/plain": [
       "True"
      ]
     },
     "execution_count": 2,
     "metadata": {},
     "output_type": "execute_result"
    }
   ],
   "source": [
    "str2=\"PWSkills\"\n",
    "str2.endswith(\"s\")"
   ]
  },
  {
   "cell_type": "code",
   "execution_count": 3,
   "id": "c8046f7c-2ed6-4a2a-97c0-7eac7fcc30e2",
   "metadata": {},
   "outputs": [
    {
     "data": {
      "text/plain": [
       "True"
      ]
     },
     "execution_count": 3,
     "metadata": {},
     "output_type": "execute_result"
    }
   ],
   "source": [
    "str2.startswith(\"P\")"
   ]
  },
  {
   "cell_type": "code",
   "execution_count": 4,
   "id": "fd6347d3-701a-4e3b-9bbc-fc4bfd2133c8",
   "metadata": {},
   "outputs": [
    {
     "data": {
      "text/plain": [
       "True"
      ]
     },
     "execution_count": 4,
     "metadata": {},
     "output_type": "execute_result"
    }
   ],
   "source": [
    "## check if all the character in the string are alphanumeric\n",
    "a=\"abcd1234\"\n",
    "a.isalnum()"
   ]
  },
  {
   "cell_type": "code",
   "execution_count": 5,
   "id": "596fb5a6-df94-4e01-b765-d209bac002df",
   "metadata": {},
   "outputs": [
    {
     "name": "stdout",
     "output_type": "stream",
     "text": [
      "8\n"
     ]
    }
   ],
   "source": [
    "## to count thr number of character in the strings\n",
    "count=0\n",
    "for i in str2:\n",
    "    count=count+1\n",
    "print(count)    "
   ]
  },
  {
   "cell_type": "code",
   "execution_count": 6,
   "id": "fcaedb89-bcd2-489a-b169-5546d15fcf6f",
   "metadata": {},
   "outputs": [
    {
     "data": {
      "text/plain": [
       "8"
      ]
     },
     "execution_count": 6,
     "metadata": {},
     "output_type": "execute_result"
    }
   ],
   "source": [
    "len(str2)"
   ]
  },
  {
   "cell_type": "code",
   "execution_count": 7,
   "id": "8bb891e7-e9ad-4aec-920e-10fef5724430",
   "metadata": {},
   "outputs": [
    {
     "data": {
      "text/plain": [
       "'PWSkills'"
      ]
     },
     "execution_count": 7,
     "metadata": {},
     "output_type": "execute_result"
    }
   ],
   "source": [
    "str2"
   ]
  },
  {
   "cell_type": "code",
   "execution_count": 8,
   "id": "715cbcb6-5e94-4fac-85bc-f4b5f0e58320",
   "metadata": {},
   "outputs": [
    {
     "name": "stdout",
     "output_type": "stream",
     "text": [
      "P\n",
      "W\n",
      "S\n",
      "k\n",
      "i\n",
      "l\n",
      "l\n",
      "s\n"
     ]
    }
   ],
   "source": [
    "for i in str2:\n",
    "    print(i)"
   ]
  },
  {
   "cell_type": "code",
   "execution_count": 9,
   "id": "821281f1-49df-4b13-bc44-6627b92ac963",
   "metadata": {},
   "outputs": [
    {
     "data": {
      "text/plain": [
       "range(0, 8)"
      ]
     },
     "execution_count": 9,
     "metadata": {},
     "output_type": "execute_result"
    }
   ],
   "source": [
    "range(len(str2))"
   ]
  },
  {
   "cell_type": "code",
   "execution_count": 10,
   "id": "32d7fe9c-9621-47b0-bc9f-6e879a98f779",
   "metadata": {},
   "outputs": [
    {
     "name": "stdout",
     "output_type": "stream",
     "text": [
      "0 = P\n",
      "1 = W\n",
      "2 = S\n",
      "3 = k\n",
      "4 = i\n",
      "5 = l\n",
      "6 = l\n",
      "7 = s\n"
     ]
    }
   ],
   "source": [
    "for i in range(len(str2)):\n",
    "    print(i,\"=\",str2[i])"
   ]
  },
  {
   "cell_type": "code",
   "execution_count": 11,
   "id": "3c50cba3-a429-4b41-8f82-46187255c88c",
   "metadata": {},
   "outputs": [
    {
     "data": {
      "text/plain": [
       "'sllikSWP'"
      ]
     },
     "execution_count": 11,
     "metadata": {},
     "output_type": "execute_result"
    }
   ],
   "source": [
    "# We can use index to itrate string direction\n",
    "str2[::-1]"
   ]
  },
  {
   "cell_type": "code",
   "execution_count": 12,
   "id": "013dfa6a-cb13-43d5-8e9f-00e49d9883e1",
   "metadata": {},
   "outputs": [
    {
     "name": "stdout",
     "output_type": "stream",
     "text": [
      "s\n",
      "l\n",
      "l\n",
      "i\n",
      "k\n",
      "S\n",
      "W\n",
      "P\n"
     ]
    }
   ],
   "source": [
    "str2a=str2[::-1]\n",
    "for i in range(len(str2a)):\n",
    "    print(str2a[i])"
   ]
  },
  {
   "cell_type": "code",
   "execution_count": 16,
   "id": "205357d2-797a-4b7b-b204-bd8971f9ae26",
   "metadata": {},
   "outputs": [
    {
     "name": "stdout",
     "output_type": "stream",
     "text": [
      "sllikSWP\n"
     ]
    }
   ],
   "source": [
    "print(str2a)"
   ]
  },
  {
   "cell_type": "code",
   "execution_count": 17,
   "id": "df867d3e-56ab-4328-92e1-ae3113928249",
   "metadata": {},
   "outputs": [
    {
     "name": "stdout",
     "output_type": "stream",
     "text": [
      "s\n",
      "l\n",
      "l\n",
      "i\n",
      "k\n",
      "S\n",
      "W\n",
      "P\n"
     ]
    }
   ],
   "source": [
    "for i in range(len(str2)-1,-1,-1):\n",
    "    print(str2[i])"
   ]
  },
  {
   "cell_type": "code",
   "execution_count": 18,
   "id": "ca3c4769-50ec-4e75-8c3d-5443f533b0fd",
   "metadata": {},
   "outputs": [
    {
     "data": {
      "text/plain": [
       "7"
      ]
     },
     "execution_count": 18,
     "metadata": {},
     "output_type": "execute_result"
    }
   ],
   "source": [
    "len(str2)-1"
   ]
  },
  {
   "cell_type": "code",
   "execution_count": 19,
   "id": "7b7549b9-9c14-4ba0-841a-64dcc5eb1aa8",
   "metadata": {},
   "outputs": [
    {
     "data": {
      "text/plain": [
       "7"
      ]
     },
     "execution_count": 19,
     "metadata": {},
     "output_type": "execute_result"
    }
   ],
   "source": [
    "str2=\"pwskills\"\n",
    "ch=len(str2)-1\n",
    "ch"
   ]
  },
  {
   "cell_type": "code",
   "execution_count": 20,
   "id": "46cb089b-9ddd-4015-8879-aa8c002aa27f",
   "metadata": {},
   "outputs": [
    {
     "name": "stdout",
     "output_type": "stream",
     "text": [
      "s\n",
      "l\n",
      "l\n",
      "i\n",
      "k\n",
      "s\n",
      "w\n",
      "p\n"
     ]
    }
   ],
   "source": [
    "while ch>=0:\n",
    "    print(str2[ch])\n",
    "    ch=ch-1"
   ]
  },
  {
   "cell_type": "code",
   "execution_count": 21,
   "id": "ade789fb-2a71-4d24-b7e3-899e76723ad3",
   "metadata": {},
   "outputs": [
    {
     "data": {
      "text/plain": [
       "('s', 'l', 'l', 'i', 'k', 's', 'w', 'p')"
      ]
     },
     "execution_count": 21,
     "metadata": {},
     "output_type": "execute_result"
    }
   ],
   "source": [
    "str2[7],str2[6],str2[5],str2[4],str2[3],str2[2],str2[1],str2[0]"
   ]
  },
  {
   "cell_type": "code",
   "execution_count": 22,
   "id": "277318d9-7729-4bbd-aa33-f3e33d091d51",
   "metadata": {},
   "outputs": [],
   "source": [
    "while ch>=0:\n",
    "    print(str2[ch])\n",
    "    ch=ch-1"
   ]
  },
  {
   "cell_type": "code",
   "execution_count": 23,
   "id": "f2be5324-dbcc-43f9-b3ef-c82fdc2d3394",
   "metadata": {},
   "outputs": [
    {
     "data": {
      "text/plain": [
       "'sllikswp'"
      ]
     },
     "execution_count": 23,
     "metadata": {},
     "output_type": "execute_result"
    }
   ],
   "source": [
    "str2[::-1]"
   ]
  },
  {
   "cell_type": "code",
   "execution_count": 49,
   "id": "bcc93d9b-b5d3-486f-a1f0-f139a7f328a0",
   "metadata": {},
   "outputs": [],
   "source": [
    "name=\"pwskills\"\n",
    "vowels=\"AaEeIiOoUu\""
   ]
  },
  {
   "cell_type": "code",
   "execution_count": 53,
   "id": "c73d71bd-7aa0-4f2c-ba9b-84618b0eec5c",
   "metadata": {},
   "outputs": [
    {
     "name": "stdout",
     "output_type": "stream",
     "text": [
      "p is not a vowel\n",
      "w is not a vowel\n",
      "s is not a vowel\n",
      "k is not a vowel\n",
      "i is a vowel\n",
      "l is not a vowel\n",
      "l is not a vowel\n",
      "s is not a vowel\n"
     ]
    }
   ],
   "source": [
    "for i in name:\n",
    "    if i in vowels:\n",
    "        print(i,\"is a vowel\")\n",
    "    else:\n",
    "        print(i,\"is not a vowel\")"
   ]
  },
  {
   "cell_type": "markdown",
   "id": "391f3128-da79-4580-8c93-668376f8c180",
   "metadata": {},
   "source": [
    "## List"
   ]
  },
  {
   "cell_type": "code",
   "execution_count": 54,
   "id": "7c323627-6aa2-4979-b34d-0102aa5cafdb",
   "metadata": {},
   "outputs": [
    {
     "data": {
      "text/plain": [
       "list"
      ]
     },
     "execution_count": 54,
     "metadata": {},
     "output_type": "execute_result"
    }
   ],
   "source": [
    "type([])"
   ]
  },
  {
   "cell_type": "code",
   "execution_count": 55,
   "id": "39b30876-4c97-4bc6-8a6d-99187039b0fe",
   "metadata": {},
   "outputs": [
    {
     "data": {
      "text/plain": [
       "['Driptarshi', 'Ray', 'Noapara', 23]"
      ]
     },
     "execution_count": 55,
     "metadata": {},
     "output_type": "execute_result"
    }
   ],
   "source": [
    "[\"Driptarshi\",\"Ray\",\"Noapara\",23]"
   ]
  },
  {
   "cell_type": "code",
   "execution_count": 56,
   "id": "91cf0279-7005-4927-90c9-87a1e890131f",
   "metadata": {},
   "outputs": [
    {
     "data": {
      "text/plain": [
       "[1, 2, 3, 4, 5]"
      ]
     },
     "execution_count": 56,
     "metadata": {},
     "output_type": "execute_result"
    }
   ],
   "source": [
    "list([1,2,3,4,5])"
   ]
  },
  {
   "cell_type": "code",
   "execution_count": 75,
   "id": "66578100-61f2-40d0-ab20-9b57644587b3",
   "metadata": {},
   "outputs": [],
   "source": [
    "st1=\"Driptarshi\""
   ]
  },
  {
   "cell_type": "code",
   "execution_count": 77,
   "id": "f6a2d908-b89d-46b0-a715-dd30623570e2",
   "metadata": {},
   "outputs": [],
   "source": [
    "str2=\"Noapara\""
   ]
  },
  {
   "cell_type": "code",
   "execution_count": 78,
   "id": "85d3b2e3-ad38-4248-af3f-fb9d19567135",
   "metadata": {},
   "outputs": [
    {
     "data": {
      "text/plain": [
       "['D', 'r', 'i', 'p', 't', 'a', 'r', 's', 'h', 'i']"
      ]
     },
     "execution_count": 78,
     "metadata": {},
     "output_type": "execute_result"
    }
   ],
   "source": [
    "list(str1)"
   ]
  },
  {
   "cell_type": "code",
   "execution_count": 113,
   "id": "1d0ce988-bebd-4aba-a9ae-786dc8d7544c",
   "metadata": {},
   "outputs": [],
   "source": [
    "str3=\"England is much great\""
   ]
  },
  {
   "cell_type": "code",
   "execution_count": 114,
   "id": "89f16a76-3503-4ea3-8701-20d7e79ca9ad",
   "metadata": {},
   "outputs": [
    {
     "data": {
      "text/plain": [
       "['England', 'is', 'much', 'great']"
      ]
     },
     "execution_count": 114,
     "metadata": {},
     "output_type": "execute_result"
    }
   ],
   "source": [
    "list(str3.split(\" \"))"
   ]
  },
  {
   "cell_type": "code",
   "execution_count": 115,
   "id": "4d137a6d-107b-48cf-9901-04478089c8e8",
   "metadata": {},
   "outputs": [
    {
     "data": {
      "text/plain": [
       "['England', 'is', 'much', 'great']"
      ]
     },
     "execution_count": 115,
     "metadata": {},
     "output_type": "execute_result"
    }
   ],
   "source": [
    "str3.split(\" \")"
   ]
  },
  {
   "cell_type": "code",
   "execution_count": 116,
   "id": "94eec76a-4a58-47c3-8478-2fd300a9b922",
   "metadata": {},
   "outputs": [],
   "source": [
    "lst1=str3.split(\" \")"
   ]
  },
  {
   "cell_type": "code",
   "execution_count": 117,
   "id": "cb33d9fa-075d-48ac-8804-eda93cbc1de9",
   "metadata": {},
   "outputs": [
    {
     "data": {
      "text/plain": [
       "['England', 'is', 'much', 'great']"
      ]
     },
     "execution_count": 117,
     "metadata": {},
     "output_type": "execute_result"
    }
   ],
   "source": [
    "lst1"
   ]
  },
  {
   "cell_type": "code",
   "execution_count": 118,
   "id": "1b84dac6-5744-4354-9a6a-5e7738d37ba4",
   "metadata": {},
   "outputs": [
    {
     "data": {
      "text/plain": [
       "'England'"
      ]
     },
     "execution_count": 118,
     "metadata": {},
     "output_type": "execute_result"
    }
   ],
   "source": [
    "lst1[0]"
   ]
  },
  {
   "cell_type": "code",
   "execution_count": 119,
   "id": "49b845f5-ab80-4bd1-bc15-246326750386",
   "metadata": {},
   "outputs": [
    {
     "data": {
      "text/plain": [
       "['great', 'much', 'is', 'England']"
      ]
     },
     "execution_count": 119,
     "metadata": {},
     "output_type": "execute_result"
    }
   ],
   "source": [
    "lst1[::-1]"
   ]
  },
  {
   "cell_type": "code",
   "execution_count": 120,
   "id": "47d404e1-4df0-406b-857e-0a18602232a0",
   "metadata": {},
   "outputs": [
    {
     "data": {
      "text/plain": [
       "['is', 'much', 'great']"
      ]
     },
     "execution_count": 120,
     "metadata": {},
     "output_type": "execute_result"
    }
   ],
   "source": [
    "lst1[1::]"
   ]
  },
  {
   "cell_type": "code",
   "execution_count": 121,
   "id": "0ca205e7-45a7-4851-8401-bfc1c566556d",
   "metadata": {},
   "outputs": [],
   "source": [
    "lst1[3]=\"greater\""
   ]
  },
  {
   "cell_type": "code",
   "execution_count": 122,
   "id": "26f6fe6c-8301-40e4-ba52-1f8497ef2f69",
   "metadata": {},
   "outputs": [
    {
     "data": {
      "text/plain": [
       "['England', 'is', 'much', 'greater']"
      ]
     },
     "execution_count": 122,
     "metadata": {},
     "output_type": "execute_result"
    }
   ],
   "source": [
    "lst1"
   ]
  },
  {
   "cell_type": "code",
   "execution_count": 123,
   "id": "4d9426ea-14b9-401d-b552-f8c9418326d2",
   "metadata": {},
   "outputs": [
    {
     "data": {
      "text/plain": [
       "'greater'"
      ]
     },
     "execution_count": 123,
     "metadata": {},
     "output_type": "execute_result"
    }
   ],
   "source": [
    "lst1[-1]"
   ]
  },
  {
   "cell_type": "code",
   "execution_count": 124,
   "id": "8efa9a81-ecf4-44be-bb7c-ebab06492cd0",
   "metadata": {},
   "outputs": [
    {
     "data": {
      "text/plain": [
       "['greater', 'is']"
      ]
     },
     "execution_count": 124,
     "metadata": {},
     "output_type": "execute_result"
    }
   ],
   "source": [
    "lst1[::-2]"
   ]
  },
  {
   "cell_type": "code",
   "execution_count": 125,
   "id": "60e39e75-09c2-425b-91a0-b6852373083b",
   "metadata": {},
   "outputs": [
    {
     "data": {
      "text/plain": [
       "['greater', 'is']"
      ]
     },
     "execution_count": 125,
     "metadata": {},
     "output_type": "execute_result"
    }
   ],
   "source": [
    "lst1[-1::-2]"
   ]
  },
  {
   "cell_type": "code",
   "execution_count": 126,
   "id": "fc5f9fde-1dd4-45a6-8b10-86888cc05177",
   "metadata": {},
   "outputs": [
    {
     "data": {
      "text/plain": [
       "['much', 'is', 'England']"
      ]
     },
     "execution_count": 126,
     "metadata": {},
     "output_type": "execute_result"
    }
   ],
   "source": [
    "lst1[-2::-1]"
   ]
  },
  {
   "cell_type": "code",
   "execution_count": 127,
   "id": "7cdb5acb-b426-4357-bd16-69f268a64e19",
   "metadata": {},
   "outputs": [
    {
     "data": {
      "text/plain": [
       "[]"
      ]
     },
     "execution_count": 127,
     "metadata": {},
     "output_type": "execute_result"
    }
   ],
   "source": [
    "lst1[-1:3:-2]"
   ]
  },
  {
   "cell_type": "code",
   "execution_count": 128,
   "id": "6bf38106-07f0-44e4-8138-0ac387521530",
   "metadata": {},
   "outputs": [
    {
     "data": {
      "text/plain": [
       "['England', 'is', 'much', 'greater']"
      ]
     },
     "execution_count": 128,
     "metadata": {},
     "output_type": "execute_result"
    }
   ],
   "source": [
    "lst1"
   ]
  },
  {
   "cell_type": "code",
   "execution_count": 131,
   "id": "cdb73456-e413-43f8-afca-a985610606cd",
   "metadata": {},
   "outputs": [
    {
     "data": {
      "text/plain": [
       "['England', 'is', 'much', 'greater', 'new element', 1, 2, 3]"
      ]
     },
     "execution_count": 131,
     "metadata": {},
     "output_type": "execute_result"
    }
   ],
   "source": [
    "## concatenation operation\n",
    "lst1+[\"new element\",1,2,3]"
   ]
  },
  {
   "cell_type": "code",
   "execution_count": 133,
   "id": "11784e68-dd7e-43be-8939-726a9293a31f",
   "metadata": {},
   "outputs": [],
   "source": [
    "lst2=lst1+[[\"new element\",1,2,3]]"
   ]
  },
  {
   "cell_type": "code",
   "execution_count": 134,
   "id": "ca4d477e-35c6-414e-8aca-2699da8c4683",
   "metadata": {},
   "outputs": [
    {
     "data": {
      "text/plain": [
       "['England', 'is', 'much', 'greater', ['new element', 1, 2, 3]]"
      ]
     },
     "execution_count": 134,
     "metadata": {},
     "output_type": "execute_result"
    }
   ],
   "source": [
    "lst2"
   ]
  },
  {
   "cell_type": "code",
   "execution_count": 136,
   "id": "8f7cf7b1-5563-42a0-bd24-79047b6f974c",
   "metadata": {},
   "outputs": [
    {
     "data": {
      "text/plain": [
       "'new element'"
      ]
     },
     "execution_count": 136,
     "metadata": {},
     "output_type": "execute_result"
    }
   ],
   "source": [
    "lst2[4][0]"
   ]
  },
  {
   "cell_type": "code",
   "execution_count": 137,
   "id": "be886064-7105-4e28-b8b9-a8172b94036e",
   "metadata": {},
   "outputs": [
    {
     "data": {
      "text/plain": [
       "2"
      ]
     },
     "execution_count": 137,
     "metadata": {},
     "output_type": "execute_result"
    }
   ],
   "source": [
    "lst2[-1][2]"
   ]
  },
  {
   "cell_type": "code",
   "execution_count": 139,
   "id": "2c57e0c4-a0b7-4b47-8e8b-535c4034944d",
   "metadata": {},
   "outputs": [
    {
     "data": {
      "text/plain": [
       "['England', 'is', 'much', 'greater', 'England', 'is', 'much', 'greater']"
      ]
     },
     "execution_count": 139,
     "metadata": {},
     "output_type": "execute_result"
    }
   ],
   "source": [
    "lst1*2"
   ]
  },
  {
   "cell_type": "code",
   "execution_count": 143,
   "id": "890f4b63-355e-4758-86dd-ecff24c894f8",
   "metadata": {},
   "outputs": [
    {
     "name": "stdout",
     "output_type": "stream",
     "text": [
      "England\n",
      "is\n",
      "much\n",
      "greater\n"
     ]
    }
   ],
   "source": [
    "for element in lst1:\n",
    "    print(element)"
   ]
  },
  {
   "cell_type": "code",
   "execution_count": 148,
   "id": "03b0a90b-2196-41e3-9d2d-7e7a97fc6cff",
   "metadata": {},
   "outputs": [
    {
     "name": "stdout",
     "output_type": "stream",
     "text": [
      "present\n"
     ]
    }
   ],
   "source": [
    "if \"greater\" in lst1:\n",
    "    print(\"present\")\n",
    "else:\n",
    "    print(\"not present\")"
   ]
  },
  {
   "cell_type": "code",
   "execution_count": 163,
   "id": "4c0eb018-a7f8-4b5c-a86e-c2658af965d0",
   "metadata": {},
   "outputs": [
    {
     "name": "stdout",
     "output_type": "stream",
     "text": [
      "England\n",
      "is\n",
      "much\n"
     ]
    }
   ],
   "source": [
    "for elements in lst1:\n",
    "    print(elements)\n",
    "    if elements==\"much\":\n",
    "        break"
   ]
  },
  {
   "cell_type": "code",
   "execution_count": 166,
   "id": "3cececb3-b00f-4a42-97cc-6394e81269eb",
   "metadata": {},
   "outputs": [
    {
     "data": {
      "text/plain": [
       "True"
      ]
     },
     "execution_count": 166,
     "metadata": {},
     "output_type": "execute_result"
    }
   ],
   "source": [
    "## check elements in list\n",
    "lst2=[1,2,3,4]\n",
    "4 in lst2"
   ]
  },
  {
   "cell_type": "code",
   "execution_count": 26,
   "id": "dcb97c13-bb5f-47bb-82a6-d166e9361fa5",
   "metadata": {},
   "outputs": [],
   "source": [
    "lst1=[\"Zebra\",\"Monkey\",\"Donkey\",\"Lion\"]\n",
    "lst2=[5,6,2,9,5,8,6]"
   ]
  },
  {
   "cell_type": "code",
   "execution_count": 27,
   "id": "6d6799ff-77ae-437f-bd8a-87051e361232",
   "metadata": {},
   "outputs": [
    {
     "name": "stdout",
     "output_type": "stream",
     "text": [
      "Zebra\n"
     ]
    }
   ],
   "source": [
    "print(max(lst1))"
   ]
  },
  {
   "cell_type": "code",
   "execution_count": 171,
   "id": "b294e539-daf0-4dbe-9034-3bf78a17df69",
   "metadata": {},
   "outputs": [
    {
     "name": "stdout",
     "output_type": "stream",
     "text": [
      "9\n"
     ]
    }
   ],
   "source": [
    "print(max(lst2))"
   ]
  },
  {
   "cell_type": "code",
   "execution_count": 172,
   "id": "b4cfd6ef-50ea-40b7-8c9a-0456b45db3d1",
   "metadata": {},
   "outputs": [
    {
     "data": {
      "text/plain": [
       "'Donkey'"
      ]
     },
     "execution_count": 172,
     "metadata": {},
     "output_type": "execute_result"
    }
   ],
   "source": [
    "min(lst1)"
   ]
  },
  {
   "cell_type": "code",
   "execution_count": 173,
   "id": "3a9ad741-a418-4f52-95c1-28360d67788c",
   "metadata": {},
   "outputs": [
    {
     "data": {
      "text/plain": [
       "2"
      ]
     },
     "execution_count": 173,
     "metadata": {},
     "output_type": "execute_result"
    }
   ],
   "source": [
    "min(lst2)"
   ]
  },
  {
   "cell_type": "code",
   "execution_count": 10,
   "id": "b53b7be9-77d0-4688-b839-6890802b12c9",
   "metadata": {},
   "outputs": [],
   "source": [
    "lst=[1,2,3,4,5,6]"
   ]
  },
  {
   "cell_type": "code",
   "execution_count": 11,
   "id": "cdfab4cd-a038-49ba-a19e-be877092b189",
   "metadata": {},
   "outputs": [
    {
     "data": {
      "text/plain": [
       "[1, 2, 3, 4, 5, 6]"
      ]
     },
     "execution_count": 11,
     "metadata": {},
     "output_type": "execute_result"
    }
   ],
   "source": [
    "lst"
   ]
  },
  {
   "cell_type": "code",
   "execution_count": 12,
   "id": "82a6579e-ebf9-45e0-80f9-a51d69606ea2",
   "metadata": {},
   "outputs": [],
   "source": [
    "lst.append(\"one\")"
   ]
  },
  {
   "cell_type": "code",
   "execution_count": 13,
   "id": "6767fd3f-fc7c-4b07-b4d0-5a23baa266ac",
   "metadata": {},
   "outputs": [
    {
     "data": {
      "text/plain": [
       "[1, 2, 3, 4, 5, 6, 'one']"
      ]
     },
     "execution_count": 13,
     "metadata": {},
     "output_type": "execute_result"
    }
   ],
   "source": [
    "lst"
   ]
  },
  {
   "cell_type": "code",
   "execution_count": 14,
   "id": "4819e39d-46b5-492a-b84e-1ba58a7f768a",
   "metadata": {},
   "outputs": [],
   "source": [
    "lst.append([\"I\",\"II\",\"III\",\"IV\",\"V\",\"VI\"])"
   ]
  },
  {
   "cell_type": "code",
   "execution_count": 15,
   "id": "33c950b4-3ebc-49c6-9532-62870e14a1f6",
   "metadata": {},
   "outputs": [
    {
     "data": {
      "text/plain": [
       "[1, 2, 3, 4, 5, 6, 'one', ['I', 'II', 'III', 'IV', 'V', 'VI']]"
      ]
     },
     "execution_count": 15,
     "metadata": {},
     "output_type": "execute_result"
    }
   ],
   "source": [
    "lst"
   ]
  },
  {
   "cell_type": "code",
   "execution_count": 37,
   "id": "352fcd06-5b1f-47bb-9ac6-e57e85273385",
   "metadata": {},
   "outputs": [],
   "source": [
    "lst1=[\"Zebra\",\"Monkey\",\"Donkey\",\"Lion\"]"
   ]
  },
  {
   "cell_type": "code",
   "execution_count": 38,
   "id": "f7b76d8d-8338-40e8-bbab-6c192f35bbe3",
   "metadata": {},
   "outputs": [
    {
     "data": {
      "text/plain": [
       "'Lion'"
      ]
     },
     "execution_count": 38,
     "metadata": {},
     "output_type": "execute_result"
    }
   ],
   "source": [
    "lst1.pop()"
   ]
  },
  {
   "cell_type": "code",
   "execution_count": 39,
   "id": "08306142-2c49-435f-8587-c514bff29573",
   "metadata": {},
   "outputs": [
    {
     "data": {
      "text/plain": [
       "['Zebra', 'Monkey', 'Donkey']"
      ]
     },
     "execution_count": 39,
     "metadata": {},
     "output_type": "execute_result"
    }
   ],
   "source": [
    "lst1"
   ]
  },
  {
   "cell_type": "code",
   "execution_count": 40,
   "id": "9037920f-2d04-4e29-9937-33401ed94f22",
   "metadata": {},
   "outputs": [
    {
     "data": {
      "text/plain": [
       "'Zebra'"
      ]
     },
     "execution_count": 40,
     "metadata": {},
     "output_type": "execute_result"
    }
   ],
   "source": [
    "removed_element=lst1.pop(0)\n",
    "removed_element"
   ]
  },
  {
   "cell_type": "code",
   "execution_count": 41,
   "id": "b38fa0a6-5033-4247-ae00-992bdfcef361",
   "metadata": {},
   "outputs": [
    {
     "data": {
      "text/plain": [
       "['Monkey', 'Donkey']"
      ]
     },
     "execution_count": 41,
     "metadata": {},
     "output_type": "execute_result"
    }
   ],
   "source": [
    "lst1"
   ]
  },
  {
   "cell_type": "code",
   "execution_count": 42,
   "id": "f0020c9d-e230-4800-b17e-6c7e0b1d4f53",
   "metadata": {},
   "outputs": [],
   "source": [
    "## Sorting and Reverse method in list"
   ]
  },
  {
   "cell_type": "code",
   "execution_count": 43,
   "id": "5fccf8e9-41be-43ba-bc3f-ca5ea2fb5809",
   "metadata": {},
   "outputs": [
    {
     "data": {
      "text/plain": [
       "['q', 'w', 'e', 'r', 't', 'y']"
      ]
     },
     "execution_count": 43,
     "metadata": {},
     "output_type": "execute_result"
    }
   ],
   "source": [
    "lst2=[\"q\",\"w\",\"e\",\"r\",\"t\",\"y\"]\n",
    "lst2"
   ]
  },
  {
   "cell_type": "code",
   "execution_count": 44,
   "id": "53379400-668b-4d50-b199-3db39fffa61c",
   "metadata": {},
   "outputs": [
    {
     "data": {
      "text/plain": [
       "['y', 't', 'r', 'e', 'w', 'q']"
      ]
     },
     "execution_count": 44,
     "metadata": {},
     "output_type": "execute_result"
    }
   ],
   "source": [
    "lst2[::-1]"
   ]
  },
  {
   "cell_type": "code",
   "execution_count": 45,
   "id": "d1d0ce97-9e0a-45a0-baa3-f674c9c795da",
   "metadata": {},
   "outputs": [],
   "source": [
    "lst2.reverse()"
   ]
  },
  {
   "cell_type": "code",
   "execution_count": 46,
   "id": "72ab8220-9a65-485e-b604-62f9e2213171",
   "metadata": {},
   "outputs": [
    {
     "data": {
      "text/plain": [
       "['y', 't', 'r', 'e', 'w', 'q']"
      ]
     },
     "execution_count": 46,
     "metadata": {},
     "output_type": "execute_result"
    }
   ],
   "source": [
    "lst2"
   ]
  },
  {
   "cell_type": "code",
   "execution_count": 47,
   "id": "54a49451-943a-4607-b8be-7c9ef1b61d7d",
   "metadata": {},
   "outputs": [],
   "source": [
    "lst2.sort()"
   ]
  },
  {
   "cell_type": "code",
   "execution_count": 48,
   "id": "71134163-069f-46e2-ac79-81f67dda1962",
   "metadata": {},
   "outputs": [
    {
     "data": {
      "text/plain": [
       "['e', 'q', 'r', 't', 'w', 'y']"
      ]
     },
     "execution_count": 48,
     "metadata": {},
     "output_type": "execute_result"
    }
   ],
   "source": [
    "lst2"
   ]
  },
  {
   "cell_type": "code",
   "execution_count": 62,
   "id": "769a555b-aa43-4699-8ec9-06073351437a",
   "metadata": {},
   "outputs": [],
   "source": [
    "lst=[1,2,3,4,5,6]"
   ]
  },
  {
   "cell_type": "code",
   "execution_count": 63,
   "id": "369ff0a7-00db-4ba2-b38f-836714d4d85a",
   "metadata": {},
   "outputs": [],
   "source": [
    "lst.append(10)"
   ]
  },
  {
   "cell_type": "code",
   "execution_count": 64,
   "id": "4e4932d5-7895-4c92-a4cd-69419619fff1",
   "metadata": {},
   "outputs": [
    {
     "data": {
      "text/plain": [
       "[1, 2, 3, 4, 5, 6, 10]"
      ]
     },
     "execution_count": 64,
     "metadata": {},
     "output_type": "execute_result"
    }
   ],
   "source": [
    "lst"
   ]
  },
  {
   "cell_type": "code",
   "execution_count": 65,
   "id": "399aea84-27cf-46fb-a6c4-fea688e5ba75",
   "metadata": {},
   "outputs": [],
   "source": [
    "lst.extend([\"I\",\"II\",\"III\",\"IV\",\"V\",\"VI\",\"X\"])"
   ]
  },
  {
   "cell_type": "code",
   "execution_count": 66,
   "id": "7a66a652-50c1-4d5b-a817-e916d2df77ec",
   "metadata": {},
   "outputs": [
    {
     "data": {
      "text/plain": [
       "[1, 2, 3, 4, 5, 6, 10, 'I', 'II', 'III', 'IV', 'V', 'VI', 'X']"
      ]
     },
     "execution_count": 66,
     "metadata": {},
     "output_type": "execute_result"
    }
   ],
   "source": [
    "lst"
   ]
  },
  {
   "cell_type": "code",
   "execution_count": null,
   "id": "e8e55b59-8244-4026-8ae0-0776d166852f",
   "metadata": {},
   "outputs": [],
   "source": []
  },
  {
   "cell_type": "markdown",
   "id": "ef4dec6c-8494-4f1e-9300-18ea1815d06f",
   "metadata": {},
   "source": [
    "## Nested List"
   ]
  },
  {
   "cell_type": "code",
   "execution_count": 68,
   "id": "1074411b-faae-4b86-b6e2-f207cb8dbde6",
   "metadata": {},
   "outputs": [],
   "source": [
    "# Let's make three lists\n",
    "lst1=[1,2,3]\n",
    "lst2=[4,5,6]\n",
    "lst3=[7,8,9]\n",
    "\n",
    "# make a list of lists to form a matrix\n",
    "matrix=[lst1,lst2,lst3]"
   ]
  },
  {
   "cell_type": "code",
   "execution_count": 69,
   "id": "28cebda7-28e5-4074-b62c-9e5f230f939d",
   "metadata": {},
   "outputs": [
    {
     "data": {
      "text/plain": [
       "[[1, 2, 3], [4, 5, 6], [7, 8, 9]]"
      ]
     },
     "execution_count": 69,
     "metadata": {},
     "output_type": "execute_result"
    }
   ],
   "source": [
    "matrix"
   ]
  },
  {
   "cell_type": "code",
   "execution_count": 75,
   "id": "96072c07-5bec-40d4-8f6a-a9b20aa9fce2",
   "metadata": {},
   "outputs": [
    {
     "data": {
      "text/plain": [
       "[1, 2, 3]"
      ]
     },
     "execution_count": 75,
     "metadata": {},
     "output_type": "execute_result"
    }
   ],
   "source": [
    "matrix[0]"
   ]
  },
  {
   "cell_type": "code",
   "execution_count": 76,
   "id": "a8f02f7c-4198-4331-ab93-4faba537aa4a",
   "metadata": {},
   "outputs": [
    {
     "data": {
      "text/plain": [
       "[4, 5, 6]"
      ]
     },
     "execution_count": 76,
     "metadata": {},
     "output_type": "execute_result"
    }
   ],
   "source": [
    "matrix[1]"
   ]
  },
  {
   "cell_type": "code",
   "execution_count": 77,
   "id": "a6f0e9eb-c0a0-4a0c-8e2e-67133b402606",
   "metadata": {},
   "outputs": [
    {
     "data": {
      "text/plain": [
       "6"
      ]
     },
     "execution_count": 77,
     "metadata": {},
     "output_type": "execute_result"
    }
   ],
   "source": [
    "matrix[1][2]"
   ]
  },
  {
   "cell_type": "code",
   "execution_count": 78,
   "id": "16631ed1-346f-4d8f-85b4-ae527f715e7f",
   "metadata": {},
   "outputs": [
    {
     "data": {
      "text/plain": [
       "[8, 9]"
      ]
     },
     "execution_count": 78,
     "metadata": {},
     "output_type": "execute_result"
    }
   ],
   "source": [
    "matrix[2][1:]"
   ]
  },
  {
   "cell_type": "code",
   "execution_count": 103,
   "id": "5167c096-4aba-4e76-838e-f5418fcfdaa7",
   "metadata": {},
   "outputs": [
    {
     "data": {
      "text/plain": [
       "[0, 1, 2, 3, 4, 5, 6, 7, 8, 9, 10, 11, 12, 13, 14, 15, 16, 17, 18, 19]"
      ]
     },
     "execution_count": 103,
     "metadata": {},
     "output_type": "execute_result"
    }
   ],
   "source": [
    "## List Comprehension\n",
    "[i for i in range(20)]"
   ]
  },
  {
   "cell_type": "code",
   "execution_count": 104,
   "id": "9f521fd5-37d6-44d9-a09d-e828baa8c944",
   "metadata": {},
   "outputs": [
    {
     "data": {
      "text/plain": [
       "[0,\n",
       " 'Odd',\n",
       " 2,\n",
       " 'Odd',\n",
       " 4,\n",
       " 'Odd',\n",
       " 6,\n",
       " 'Odd',\n",
       " 8,\n",
       " 'Odd',\n",
       " 10,\n",
       " 'Odd',\n",
       " 12,\n",
       " 'Odd',\n",
       " 14,\n",
       " 'Odd',\n",
       " 16,\n",
       " 'Odd',\n",
       " 18,\n",
       " 'Odd']"
      ]
     },
     "execution_count": 104,
     "metadata": {},
     "output_type": "execute_result"
    }
   ],
   "source": [
    "## Even numbers\n",
    "[i if i%2==0 else \"Odd\" for i in range(20)]"
   ]
  },
  {
   "cell_type": "code",
   "execution_count": 140,
   "id": "9f450a06-f7f5-42c7-b418-c273e4e42074",
   "metadata": {},
   "outputs": [],
   "source": [
    "# Assignment\n",
    "lst=[1,2,3,4,5,6,7,8]\n",
    "\n",
    "# iterate this and find the summation of even number in one variable and odd number in another variable"
   ]
  },
  {
   "cell_type": "code",
   "execution_count": 141,
   "id": "f24bc2df-c0a4-44ab-82b5-d168758735f4",
   "metadata": {},
   "outputs": [
    {
     "data": {
      "text/plain": [
       "[1, 2, 3, 4, 5, 6, 7, 8]"
      ]
     },
     "execution_count": 141,
     "metadata": {},
     "output_type": "execute_result"
    }
   ],
   "source": [
    "[i for i in lst]"
   ]
  },
  {
   "cell_type": "code",
   "execution_count": 117,
   "id": "3705112a-7533-4524-874c-ffb58627a335",
   "metadata": {},
   "outputs": [
    {
     "name": "stdout",
     "output_type": "stream",
     "text": [
      "20\n",
      "16\n"
     ]
    }
   ],
   "source": [
    "even_sum=0\n",
    "odd_sum=0\n",
    "for i in lst:\n",
    "    if i%2==0:\n",
    "        even_sum+=i\n",
    "    else:\n",
    "        odd_sum+=i\n",
    "print(even_sum)\n",
    "print(odd_sum)"
   ]
  },
  {
   "cell_type": "code",
   "execution_count": 121,
   "id": "ba788a51-db38-4ede-9ebe-220053b1083b",
   "metadata": {},
   "outputs": [],
   "source": [
    "Even_list=[i for i in lst if i%2==0]"
   ]
  },
  {
   "cell_type": "code",
   "execution_count": 123,
   "id": "0fa89c76-5aca-430c-a9fd-7ccb1c887f17",
   "metadata": {},
   "outputs": [],
   "source": [
    "even_sum=sum(Even_list)"
   ]
  },
  {
   "cell_type": "code",
   "execution_count": 124,
   "id": "54148c9b-4c8a-4c7f-8625-ad1b1dab0855",
   "metadata": {},
   "outputs": [
    {
     "data": {
      "text/plain": [
       "20"
      ]
     },
     "execution_count": 124,
     "metadata": {},
     "output_type": "execute_result"
    }
   ],
   "source": [
    "even_sum"
   ]
  },
  {
   "cell_type": "code",
   "execution_count": 128,
   "id": "bf6bd671-dc51-4f31-a574-ba411a73e8ee",
   "metadata": {},
   "outputs": [],
   "source": [
    "Odd_list=[i for i in lst if i%2!=0]"
   ]
  },
  {
   "cell_type": "code",
   "execution_count": 129,
   "id": "360e0a82-ffd4-4e26-b137-3d7bf48f0f51",
   "metadata": {},
   "outputs": [],
   "source": [
    "odd_sum=sum(Odd_list)"
   ]
  },
  {
   "cell_type": "code",
   "execution_count": 130,
   "id": "bab16c43-1797-4d8b-8716-38116ad8e5cb",
   "metadata": {},
   "outputs": [
    {
     "data": {
      "text/plain": [
       "16"
      ]
     },
     "execution_count": 130,
     "metadata": {},
     "output_type": "execute_result"
    }
   ],
   "source": [
    "odd_sum"
   ]
  },
  {
   "cell_type": "code",
   "execution_count": 132,
   "id": "b233af28-c9dd-4793-a4a5-4966974c4a35",
   "metadata": {},
   "outputs": [],
   "source": [
    "lst=[1,2,3,4,5,6,7,8,9,10]\n",
    "\n",
    "# find the square of all the numbers"
   ]
  },
  {
   "cell_type": "code",
   "execution_count": 139,
   "id": "77b41627-e1c8-4e2b-92db-3449873d3223",
   "metadata": {},
   "outputs": [
    {
     "data": {
      "text/plain": [
       "[1, 2, 3, 4, 5, 6, 7, 8, 9, 10]"
      ]
     },
     "execution_count": 139,
     "metadata": {},
     "output_type": "execute_result"
    }
   ],
   "source": [
    "[i for i in lst]"
   ]
  },
  {
   "cell_type": "code",
   "execution_count": 136,
   "id": "7f3c4409-f841-45fc-91a7-ed99ea196118",
   "metadata": {},
   "outputs": [
    {
     "name": "stdout",
     "output_type": "stream",
     "text": [
      "1\n",
      "4\n",
      "9\n",
      "16\n",
      "25\n",
      "36\n",
      "49\n",
      "64\n",
      "81\n",
      "100\n"
     ]
    }
   ],
   "source": [
    "for i in lst:\n",
    "    print(i*i)"
   ]
  },
  {
   "cell_type": "code",
   "execution_count": 137,
   "id": "fbe9f8b9-b560-48bf-8aa7-e3a741a33bcf",
   "metadata": {},
   "outputs": [
    {
     "data": {
      "text/plain": [
       "[1, 4, 9, 16, 25, 36, 49, 64, 81, 100]"
      ]
     },
     "execution_count": 137,
     "metadata": {},
     "output_type": "execute_result"
    }
   ],
   "source": [
    "[i**2 for i in lst]"
   ]
  },
  {
   "cell_type": "code",
   "execution_count": 142,
   "id": "b1e7c3ed-813d-4277-9c33-c4ad8db5cb4a",
   "metadata": {},
   "outputs": [],
   "source": [
    "# Example 2: Create a list if only the positive numbers from a given list\n",
    "num=[-2,-1,0,1,2,3,4]"
   ]
  },
  {
   "cell_type": "code",
   "execution_count": 143,
   "id": "6dc42d18-cb2a-44c2-9718-c664cbb3a529",
   "metadata": {},
   "outputs": [
    {
     "data": {
      "text/plain": [
       "[1, 2, 3, 4]"
      ]
     },
     "execution_count": 143,
     "metadata": {},
     "output_type": "execute_result"
    }
   ],
   "source": [
    "[i for i in num if i>0]"
   ]
  },
  {
   "cell_type": "code",
   "execution_count": 144,
   "id": "f7277102-942d-4279-8bbc-48c3fc4ab021",
   "metadata": {},
   "outputs": [],
   "source": [
    "# Example 3: Create a list of only the first letters of words in a list\n",
    "word=[\"apple\",\"banana\",\"cherry\",\"date\"]"
   ]
  },
  {
   "cell_type": "code",
   "execution_count": 145,
   "id": "8d8d9c59-ca1a-4631-906b-b4d63c96d099",
   "metadata": {},
   "outputs": [
    {
     "data": {
      "text/plain": [
       "['a', 'b', 'c', 'd']"
      ]
     },
     "execution_count": 145,
     "metadata": {},
     "output_type": "execute_result"
    }
   ],
   "source": [
    "[i[0] for i in word]"
   ]
  },
  {
   "cell_type": "code",
   "execution_count": 147,
   "id": "deb9547d-ff89-4046-a688-5134236ccce7",
   "metadata": {},
   "outputs": [
    {
     "data": {
      "text/plain": [
       "[32.0, 50.0, 68.0, 86.0, 104.0, 122.0]"
      ]
     },
     "execution_count": 147,
     "metadata": {},
     "output_type": "execute_result"
    }
   ],
   "source": [
    "# Example 4: Convert a list of temperatures from Celcius to Fahrenheit using list comprehension\n",
    "## (9/5)*(Temp)+32\n",
    "celcius_scale=[0,10,20,30,40,50]\n",
    "[(9/5)*i+32 for i in celcius_scale]"
   ]
  },
  {
   "cell_type": "code",
   "execution_count": 4,
   "id": "11e0db5e-ca64-4aa5-90ef-529daaf330b1",
   "metadata": {},
   "outputs": [],
   "source": [
    "# Example 5: Flatten a list of lists into a single\n",
    "lists=[[1,2,3],[4,5,6],[7,8,9]]"
   ]
  },
  {
   "cell_type": "code",
   "execution_count": 5,
   "id": "f5cdc74b-56eb-427c-9971-3c2c7e31eca0",
   "metadata": {},
   "outputs": [
    {
     "data": {
      "text/plain": [
       "[1, 2, 3, 4, 5, 6, 7, 8, 9]"
      ]
     },
     "execution_count": 5,
     "metadata": {},
     "output_type": "execute_result"
    }
   ],
   "source": [
    "[i for j in lists for i in j]"
   ]
  },
  {
   "cell_type": "code",
   "execution_count": 6,
   "id": "2addb67e-c9f3-48a6-a60b-c1095cdfab73",
   "metadata": {},
   "outputs": [],
   "source": [
    "## Assignment\n",
    "## Using both code and list comprehension\n",
    "# #1 Create a list of only the prime numbers from a given list\n",
    "numbers=[1,2,3,4,5,6,7,8,9,10]"
   ]
  },
  {
   "cell_type": "code",
   "execution_count": 7,
   "id": "1b1726a1-ed66-4994-8840-6574ee43a2b0",
   "metadata": {},
   "outputs": [],
   "source": [
    "#2 Create a lists of all the possible combinations of 2 elements from a lists\n",
    "numbers=[1,2,3,4,5]"
   ]
  },
  {
   "cell_type": "code",
   "execution_count": null,
   "id": "e27b3aa4-62f6-43e1-99b1-6928a994c0f6",
   "metadata": {},
   "outputs": [],
   "source": []
  }
 ],
 "metadata": {
  "kernelspec": {
   "display_name": "Python 3 (ipykernel)",
   "language": "python",
   "name": "python3"
  },
  "language_info": {
   "codemirror_mode": {
    "name": "ipython",
    "version": 3
   },
   "file_extension": ".py",
   "mimetype": "text/x-python",
   "name": "python",
   "nbconvert_exporter": "python",
   "pygments_lexer": "ipython3",
   "version": "3.10.8"
  }
 },
 "nbformat": 4,
 "nbformat_minor": 5
}
