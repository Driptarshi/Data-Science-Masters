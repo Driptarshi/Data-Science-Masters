{
 "cells": [
  {
   "cell_type": "markdown",
   "id": "f545b284-a1a6-4379-a6e6-c6827e366442",
   "metadata": {},
   "source": [
    "## Functions Part 1"
   ]
  },
  {
   "cell_type": "code",
   "execution_count": 1,
   "id": "aa727c02-c122-4512-b1ab-751836406e53",
   "metadata": {},
   "outputs": [
    {
     "name": "stdout",
     "output_type": "stream",
     "text": [
      "this is my prog\n"
     ]
    }
   ],
   "source": [
    "print(\"this is my prog\")"
   ]
  },
  {
   "cell_type": "code",
   "execution_count": 2,
   "id": "0d028c9e-c744-4dbb-bb76-ef1a88cfb1f3",
   "metadata": {},
   "outputs": [],
   "source": [
    "L=[1,2,3,4,5]"
   ]
  },
  {
   "cell_type": "code",
   "execution_count": 3,
   "id": "ba225f49-d7f8-4632-be84-0373208d19b8",
   "metadata": {},
   "outputs": [
    {
     "data": {
      "text/plain": [
       "5"
      ]
     },
     "execution_count": 3,
     "metadata": {},
     "output_type": "execute_result"
    }
   ],
   "source": [
    "len(L)"
   ]
  },
  {
   "cell_type": "code",
   "execution_count": 4,
   "id": "32bb5da2-ff98-4bd5-ad98-ad71a0ee7f24",
   "metadata": {},
   "outputs": [
    {
     "ename": "SyntaxError",
     "evalue": "incomplete input (3861551224.py, line 1)",
     "output_type": "error",
     "traceback": [
      "\u001b[0;36m  Cell \u001b[0;32mIn[4], line 1\u001b[0;36m\u001b[0m\n\u001b[0;31m    def test():\u001b[0m\n\u001b[0m               ^\u001b[0m\n\u001b[0;31mSyntaxError\u001b[0m\u001b[0;31m:\u001b[0m incomplete input\n"
     ]
    }
   ],
   "source": [
    "def test():"
   ]
  },
  {
   "cell_type": "code",
   "execution_count": 5,
   "id": "e90db4b1-8e22-486c-8088-f6ea0f39a13d",
   "metadata": {},
   "outputs": [],
   "source": [
    "def test():\n",
    "    pass"
   ]
  },
  {
   "cell_type": "code",
   "execution_count": 6,
   "id": "40908d6f-e983-4c9d-8738-5d6fb4fc512e",
   "metadata": {},
   "outputs": [],
   "source": [
    "def test1():\n",
    "    print(\"this is my very very first function\")"
   ]
  },
  {
   "cell_type": "code",
   "execution_count": 7,
   "id": "317fd751-11bb-4312-b8ea-982c192d82e7",
   "metadata": {},
   "outputs": [
    {
     "name": "stdout",
     "output_type": "stream",
     "text": [
      "this is my very very first function\n"
     ]
    }
   ],
   "source": [
    "test1()"
   ]
  },
  {
   "cell_type": "code",
   "execution_count": 8,
   "id": "9aaa063e-bb9d-4048-86df-504e29688e9e",
   "metadata": {},
   "outputs": [
    {
     "name": "stdout",
     "output_type": "stream",
     "text": [
      "this is my very very first function\n"
     ]
    },
    {
     "ename": "TypeError",
     "evalue": "unsupported operand type(s) for +: 'NoneType' and 'str'",
     "output_type": "error",
     "traceback": [
      "\u001b[0;31m---------------------------------------------------------------------------\u001b[0m",
      "\u001b[0;31mTypeError\u001b[0m                                 Traceback (most recent call last)",
      "Cell \u001b[0;32mIn[8], line 1\u001b[0m\n\u001b[0;32m----> 1\u001b[0m \u001b[43mtest1\u001b[49m\u001b[43m(\u001b[49m\u001b[43m)\u001b[49m\u001b[38;5;241;43m+\u001b[39;49m\u001b[38;5;124;43m\"\u001b[39;49m\u001b[38;5;124;43mabcd\u001b[39;49m\u001b[38;5;124;43m\"\u001b[39;49m\n",
      "\u001b[0;31mTypeError\u001b[0m: unsupported operand type(s) for +: 'NoneType' and 'str'"
     ]
    }
   ],
   "source": [
    "test1()+\"abcd\""
   ]
  },
  {
   "cell_type": "code",
   "execution_count": 9,
   "id": "bc68067b-2555-4dac-bca5-de6aee4bad11",
   "metadata": {},
   "outputs": [],
   "source": [
    "def test2():\n",
    "    return (\"this is my function with return \")"
   ]
  },
  {
   "cell_type": "code",
   "execution_count": 10,
   "id": "c04232c3-27af-4dbf-9acd-b6cc317a7717",
   "metadata": {},
   "outputs": [
    {
     "data": {
      "text/plain": [
       "'this is my function with return QWERTY'"
      ]
     },
     "execution_count": 10,
     "metadata": {},
     "output_type": "execute_result"
    }
   ],
   "source": [
    "test2()+\"QWERTY\""
   ]
  },
  {
   "cell_type": "code",
   "execution_count": 11,
   "id": "5c12e5a8-45b2-4545-a4bc-6d8d4475293b",
   "metadata": {},
   "outputs": [],
   "source": [
    "def test3():\n",
    "    return 1,2,3,4,\"QWERTY\",3.14"
   ]
  },
  {
   "cell_type": "code",
   "execution_count": 12,
   "id": "a47d2678-f735-494d-8e9a-69a0c1f9d5c2",
   "metadata": {},
   "outputs": [
    {
     "data": {
      "text/plain": [
       "(1, 2, 3, 4, 'QWERTY', 3.14)"
      ]
     },
     "execution_count": 12,
     "metadata": {},
     "output_type": "execute_result"
    }
   ],
   "source": [
    "test3()"
   ]
  },
  {
   "cell_type": "code",
   "execution_count": 14,
   "id": "06f8c388-2faf-475e-9064-7a2dec43885d",
   "metadata": {},
   "outputs": [],
   "source": [
    "a=1,2,3,4,5"
   ]
  },
  {
   "cell_type": "code",
   "execution_count": 15,
   "id": "ddeb1006-4a4f-4037-b2a1-4bbda47fb0ee",
   "metadata": {},
   "outputs": [
    {
     "data": {
      "text/plain": [
       "(1, 2, 3, 4, 5)"
      ]
     },
     "execution_count": 15,
     "metadata": {},
     "output_type": "execute_result"
    }
   ],
   "source": [
    "a"
   ]
  },
  {
   "cell_type": "code",
   "execution_count": 16,
   "id": "5b0bf20d-3d09-42ba-9a05-7ceb1dc29f70",
   "metadata": {},
   "outputs": [],
   "source": [
    "a,b,c,d=1,2,3.14,True"
   ]
  },
  {
   "cell_type": "code",
   "execution_count": 17,
   "id": "ffee91e2-8815-4a34-a199-128b45b8c24b",
   "metadata": {},
   "outputs": [
    {
     "data": {
      "text/plain": [
       "1"
      ]
     },
     "execution_count": 17,
     "metadata": {},
     "output_type": "execute_result"
    }
   ],
   "source": [
    "a"
   ]
  },
  {
   "cell_type": "code",
   "execution_count": 18,
   "id": "951e543c-fdf8-4b1b-9a3f-ca7b3a2a1f62",
   "metadata": {},
   "outputs": [
    {
     "data": {
      "text/plain": [
       "2"
      ]
     },
     "execution_count": 18,
     "metadata": {},
     "output_type": "execute_result"
    }
   ],
   "source": [
    "b"
   ]
  },
  {
   "cell_type": "code",
   "execution_count": 19,
   "id": "42d7a9cc-36f2-4dd4-987e-c50a796f60cc",
   "metadata": {},
   "outputs": [
    {
     "data": {
      "text/plain": [
       "3.14"
      ]
     },
     "execution_count": 19,
     "metadata": {},
     "output_type": "execute_result"
    }
   ],
   "source": [
    "c"
   ]
  },
  {
   "cell_type": "code",
   "execution_count": 20,
   "id": "fdfe4a0a-e3f3-4a5d-90ce-a4054e274fd3",
   "metadata": {},
   "outputs": [
    {
     "data": {
      "text/plain": [
       "True"
      ]
     },
     "execution_count": 20,
     "metadata": {},
     "output_type": "execute_result"
    }
   ],
   "source": [
    "d"
   ]
  },
  {
   "cell_type": "code",
   "execution_count": 21,
   "id": "ac3fd5ec-33e8-49c5-8bab-63caf48d3fe1",
   "metadata": {},
   "outputs": [
    {
     "data": {
      "text/plain": [
       "(1, 2, 3, 4, 'QWERTY', 3.14)"
      ]
     },
     "execution_count": 21,
     "metadata": {},
     "output_type": "execute_result"
    }
   ],
   "source": [
    "test3()"
   ]
  },
  {
   "cell_type": "code",
   "execution_count": 22,
   "id": "74fb680d-905b-4cab-9be9-70ceed5f66c7",
   "metadata": {},
   "outputs": [
    {
     "data": {
      "text/plain": [
       "1"
      ]
     },
     "execution_count": 22,
     "metadata": {},
     "output_type": "execute_result"
    }
   ],
   "source": [
    "test3()[0]"
   ]
  },
  {
   "cell_type": "code",
   "execution_count": 23,
   "id": "8d3ab4db-78c2-4167-b514-7c6c3593da49",
   "metadata": {},
   "outputs": [
    {
     "data": {
      "text/plain": [
       "2"
      ]
     },
     "execution_count": 23,
     "metadata": {},
     "output_type": "execute_result"
    }
   ],
   "source": [
    "test3()[1]"
   ]
  },
  {
   "cell_type": "code",
   "execution_count": 24,
   "id": "3e2459cf-1959-4a8f-8f0b-3e6cda56cb97",
   "metadata": {},
   "outputs": [
    {
     "data": {
      "text/plain": [
       "'QWERTY'"
      ]
     },
     "execution_count": 24,
     "metadata": {},
     "output_type": "execute_result"
    }
   ],
   "source": [
    "test3()[4]"
   ]
  },
  {
   "cell_type": "code",
   "execution_count": 25,
   "id": "9603ceb6-b451-4c3d-b997-ddcc9dee712d",
   "metadata": {},
   "outputs": [
    {
     "data": {
      "text/plain": [
       "3.14"
      ]
     },
     "execution_count": 25,
     "metadata": {},
     "output_type": "execute_result"
    }
   ],
   "source": [
    "test3()[5]"
   ]
  },
  {
   "cell_type": "code",
   "execution_count": 26,
   "id": "9ee37721-bdc1-4746-a552-fcfbd9a9686f",
   "metadata": {},
   "outputs": [
    {
     "data": {
      "text/plain": [
       "(1, 2, 3, 4, 'QWERTY', 3.14)"
      ]
     },
     "execution_count": 26,
     "metadata": {},
     "output_type": "execute_result"
    }
   ],
   "source": [
    "test3()"
   ]
  },
  {
   "cell_type": "code",
   "execution_count": 27,
   "id": "c39efc94-4ea3-42c3-bd71-7c7a74f163e3",
   "metadata": {},
   "outputs": [],
   "source": [
    "a,b,c,d,e,f=test3()"
   ]
  },
  {
   "cell_type": "code",
   "execution_count": 28,
   "id": "21c8b47f-5014-4a17-94b1-3cd653c75889",
   "metadata": {},
   "outputs": [
    {
     "data": {
      "text/plain": [
       "1"
      ]
     },
     "execution_count": 28,
     "metadata": {},
     "output_type": "execute_result"
    }
   ],
   "source": [
    "a"
   ]
  },
  {
   "cell_type": "code",
   "execution_count": 29,
   "id": "3acb3c10-0619-4306-b93e-69638344ac17",
   "metadata": {},
   "outputs": [
    {
     "data": {
      "text/plain": [
       "2"
      ]
     },
     "execution_count": 29,
     "metadata": {},
     "output_type": "execute_result"
    }
   ],
   "source": [
    "b"
   ]
  },
  {
   "cell_type": "code",
   "execution_count": 30,
   "id": "c8114bd4-28fa-4430-9532-790bd7fb1fca",
   "metadata": {},
   "outputs": [
    {
     "data": {
      "text/plain": [
       "3"
      ]
     },
     "execution_count": 30,
     "metadata": {},
     "output_type": "execute_result"
    }
   ],
   "source": [
    "c"
   ]
  },
  {
   "cell_type": "code",
   "execution_count": 31,
   "id": "56722ff4-7803-46b1-8acf-c64a4fd512b2",
   "metadata": {},
   "outputs": [
    {
     "data": {
      "text/plain": [
       "4"
      ]
     },
     "execution_count": 31,
     "metadata": {},
     "output_type": "execute_result"
    }
   ],
   "source": [
    "d"
   ]
  },
  {
   "cell_type": "code",
   "execution_count": 32,
   "id": "2b0ffd20-3e88-433a-9dc1-9a9c47b31712",
   "metadata": {},
   "outputs": [
    {
     "data": {
      "text/plain": [
       "'QWERTY'"
      ]
     },
     "execution_count": 32,
     "metadata": {},
     "output_type": "execute_result"
    }
   ],
   "source": [
    "e"
   ]
  },
  {
   "cell_type": "code",
   "execution_count": 33,
   "id": "050aed86-bcb6-4e29-a1bb-f10a0bea6364",
   "metadata": {},
   "outputs": [
    {
     "data": {
      "text/plain": [
       "3.14"
      ]
     },
     "execution_count": 33,
     "metadata": {},
     "output_type": "execute_result"
    }
   ],
   "source": [
    "f"
   ]
  },
  {
   "cell_type": "code",
   "execution_count": 34,
   "id": "b2692f3c-43d7-487e-81b3-c5a6789f0c22",
   "metadata": {},
   "outputs": [],
   "source": [
    "def test4():\n",
    "    a = 3*4 + 5\n",
    "    return a"
   ]
  },
  {
   "cell_type": "code",
   "execution_count": 35,
   "id": "709f8832-dfed-4584-bf7e-ff48ead564c3",
   "metadata": {},
   "outputs": [
    {
     "data": {
      "text/plain": [
       "17"
      ]
     },
     "execution_count": 35,
     "metadata": {},
     "output_type": "execute_result"
    }
   ],
   "source": [
    "test4()"
   ]
  },
  {
   "cell_type": "code",
   "execution_count": 36,
   "id": "fc66fea2-f855-4da9-a72e-7dac87f0d1bc",
   "metadata": {},
   "outputs": [
    {
     "data": {
      "text/plain": [
       "int"
      ]
     },
     "execution_count": 36,
     "metadata": {},
     "output_type": "execute_result"
    }
   ],
   "source": [
    "type(test4())"
   ]
  },
  {
   "cell_type": "code",
   "execution_count": 37,
   "id": "52531e0f-366e-4ee8-95b7-85a220758224",
   "metadata": {},
   "outputs": [],
   "source": [
    "def test5(a1,a2):\n",
    "    A = a1 + a2\n",
    "    return A"
   ]
  },
  {
   "cell_type": "code",
   "execution_count": 38,
   "id": "d66752c3-6700-439e-aae8-d95952ad2bba",
   "metadata": {},
   "outputs": [
    {
     "ename": "TypeError",
     "evalue": "test5() missing 2 required positional arguments: 'a1' and 'a2'",
     "output_type": "error",
     "traceback": [
      "\u001b[0;31m---------------------------------------------------------------------------\u001b[0m",
      "\u001b[0;31mTypeError\u001b[0m                                 Traceback (most recent call last)",
      "Cell \u001b[0;32mIn[38], line 1\u001b[0m\n\u001b[0;32m----> 1\u001b[0m \u001b[43mtest5\u001b[49m\u001b[43m(\u001b[49m\u001b[43m)\u001b[49m\n",
      "\u001b[0;31mTypeError\u001b[0m: test5() missing 2 required positional arguments: 'a1' and 'a2'"
     ]
    }
   ],
   "source": [
    "test5()"
   ]
  },
  {
   "cell_type": "code",
   "execution_count": 39,
   "id": "191a1fda-2a55-4780-a207-9bf0deb61eef",
   "metadata": {},
   "outputs": [
    {
     "ename": "NameError",
     "evalue": "name 'a1' is not defined",
     "output_type": "error",
     "traceback": [
      "\u001b[0;31m---------------------------------------------------------------------------\u001b[0m",
      "\u001b[0;31mNameError\u001b[0m                                 Traceback (most recent call last)",
      "Cell \u001b[0;32mIn[39], line 1\u001b[0m\n\u001b[0;32m----> 1\u001b[0m test5(\u001b[43ma1\u001b[49m,a2)\n",
      "\u001b[0;31mNameError\u001b[0m: name 'a1' is not defined"
     ]
    }
   ],
   "source": [
    "test5(a1,a2)"
   ]
  },
  {
   "cell_type": "code",
   "execution_count": 40,
   "id": "c43a2cb6-1027-42f4-976d-27bbe182c049",
   "metadata": {},
   "outputs": [
    {
     "data": {
      "text/plain": [
       "7"
      ]
     },
     "execution_count": 40,
     "metadata": {},
     "output_type": "execute_result"
    }
   ],
   "source": [
    "test5(2,5)"
   ]
  },
  {
   "cell_type": "code",
   "execution_count": 41,
   "id": "11c0239c-1570-46df-8436-2736d56142ab",
   "metadata": {},
   "outputs": [
    {
     "data": {
      "text/plain": [
       "6"
      ]
     },
     "execution_count": 41,
     "metadata": {},
     "output_type": "execute_result"
    }
   ],
   "source": [
    "a3=4\n",
    "test5(2,a3)"
   ]
  },
  {
   "cell_type": "code",
   "execution_count": 42,
   "id": "eae8e7d6-7746-4d08-8d59-f299f4beff7a",
   "metadata": {},
   "outputs": [
    {
     "data": {
      "text/plain": [
       "'DriptarshiRay'"
      ]
     },
     "execution_count": 42,
     "metadata": {},
     "output_type": "execute_result"
    }
   ],
   "source": [
    "test5(\"Driptarshi\",\"Ray\")"
   ]
  },
  {
   "cell_type": "code",
   "execution_count": 43,
   "id": "0989378f-4c5d-4d1e-a8b5-6b4a8c85d3c0",
   "metadata": {},
   "outputs": [
    {
     "data": {
      "text/plain": [
       "[1, 2, 3, 4, 5, 6, 7, 8, 9, 10]"
      ]
     },
     "execution_count": 43,
     "metadata": {},
     "output_type": "execute_result"
    }
   ],
   "source": [
    "test5([1,2,3,4,5],[6,7,8,9,10])"
   ]
  },
  {
   "cell_type": "code",
   "execution_count": 44,
   "id": "6b7b67f3-cf9e-43ab-8bba-3cb88c75c926",
   "metadata": {},
   "outputs": [
    {
     "data": {
      "text/plain": [
       "'DriptarshiRay'"
      ]
     },
     "execution_count": 44,
     "metadata": {},
     "output_type": "execute_result"
    }
   ],
   "source": [
    "test5(a2=\"Ray\",a1=\"Driptarshi\")"
   ]
  },
  {
   "cell_type": "code",
   "execution_count": 45,
   "id": "5c0e62aa-a47b-42dc-8e5e-17a681514417",
   "metadata": {},
   "outputs": [],
   "source": [
    "L=[1,2,3,4,5,\"qwe\",\"rty\",[1,2,3.14,10,20]]"
   ]
  },
  {
   "cell_type": "code",
   "execution_count": 46,
   "id": "c209b323-e238-4abb-89f9-9128a4428815",
   "metadata": {},
   "outputs": [],
   "source": [
    "# Creat a funcrion which will take list as an input and give me a final list with all the numeric value"
   ]
  },
  {
   "cell_type": "code",
   "execution_count": 47,
   "id": "07d39f62-0e65-41bb-a753-b009c91fce80",
   "metadata": {},
   "outputs": [],
   "source": [
    "def test6(a):\n",
    "    n=[]\n",
    "    for i in a:\n",
    "        if type(i)==int or type(i)==float:\n",
    "            n.append(i)\n",
    "    return n"
   ]
  },
  {
   "cell_type": "code",
   "execution_count": 48,
   "id": "cc55a506-8a28-4b8f-9c1d-1669c49bbb2e",
   "metadata": {},
   "outputs": [
    {
     "data": {
      "text/plain": [
       "[1, 2, 3, 4, 5]"
      ]
     },
     "execution_count": 48,
     "metadata": {},
     "output_type": "execute_result"
    }
   ],
   "source": [
    "test6(L)"
   ]
  },
  {
   "cell_type": "code",
   "execution_count": 49,
   "id": "bd6b59d7-7dcc-4eea-b298-2fcdfc8e32f9",
   "metadata": {},
   "outputs": [
    {
     "data": {
      "text/plain": [
       "[1, 2, 3, 4, 5, 'qwe', 'rty', [1, 2, 3.14, 10, 20]]"
      ]
     },
     "execution_count": 49,
     "metadata": {},
     "output_type": "execute_result"
    }
   ],
   "source": [
    "L"
   ]
  },
  {
   "cell_type": "code",
   "execution_count": 50,
   "id": "799f8c9f-c1f2-4602-b323-831903aa41b5",
   "metadata": {},
   "outputs": [],
   "source": [
    "def test7(a):\n",
    "    n=[]\n",
    "    for i in a:\n",
    "        if type(i)==list:\n",
    "            for j in i:\n",
    "                if type(j)==int or type(j)==float:\n",
    "                    n.append(j)\n",
    "        else:\n",
    "            if type(i)==int or type(i)==float:\n",
    "                n.append(i)\n",
    "    return n            "
   ]
  },
  {
   "cell_type": "code",
   "execution_count": 51,
   "id": "65c2d0b7-dfe0-4f14-840a-0c13a8aae830",
   "metadata": {},
   "outputs": [
    {
     "data": {
      "text/plain": [
       "[1, 2, 3, 4, 5, 1, 2, 3.14, 10, 20]"
      ]
     },
     "execution_count": 51,
     "metadata": {},
     "output_type": "execute_result"
    }
   ],
   "source": [
    "test7(L)"
   ]
  },
  {
   "cell_type": "code",
   "execution_count": 52,
   "id": "1f25ae77-266b-4366-9562-b7d964eee831",
   "metadata": {},
   "outputs": [
    {
     "data": {
      "text/plain": [
       "[1, 2, 3, 4, 5, 'qwe', 'rty', [1, 2, 3.14, 10, 20]]"
      ]
     },
     "execution_count": 52,
     "metadata": {},
     "output_type": "execute_result"
    }
   ],
   "source": [
    "L"
   ]
  },
  {
   "cell_type": "markdown",
   "id": "2976c774-e996-4eb6-9dc3-ebe3ba277f29",
   "metadata": {},
   "source": [
    "## Functions Part 2"
   ]
  },
  {
   "cell_type": "code",
   "execution_count": 1,
   "id": "4ef44855-cf4f-4d9a-9591-e38cf8c6321f",
   "metadata": {},
   "outputs": [],
   "source": [
    "def test(a,b,c,d,e):\n",
    "    pass"
   ]
  },
  {
   "cell_type": "code",
   "execution_count": 2,
   "id": "6c7b5675-a5b2-4e92-8d20-43de46fc139a",
   "metadata": {},
   "outputs": [],
   "source": [
    "test(1,2,3,4,5)"
   ]
  },
  {
   "cell_type": "code",
   "execution_count": 3,
   "id": "78c98d58-ef9b-4fdc-9886-eabf75f16e55",
   "metadata": {},
   "outputs": [
    {
     "ename": "TypeError",
     "evalue": "test() takes 5 positional arguments but 7 were given",
     "output_type": "error",
     "traceback": [
      "\u001b[0;31m---------------------------------------------------------------------------\u001b[0m",
      "\u001b[0;31mTypeError\u001b[0m                                 Traceback (most recent call last)",
      "Cell \u001b[0;32mIn[3], line 1\u001b[0m\n\u001b[0;32m----> 1\u001b[0m \u001b[43mtest\u001b[49m\u001b[43m(\u001b[49m\u001b[38;5;241;43m1\u001b[39;49m\u001b[43m,\u001b[49m\u001b[38;5;241;43m2\u001b[39;49m\u001b[43m,\u001b[49m\u001b[38;5;241;43m3\u001b[39;49m\u001b[43m,\u001b[49m\u001b[38;5;241;43m4\u001b[39;49m\u001b[43m,\u001b[49m\u001b[38;5;241;43m5\u001b[39;49m\u001b[43m,\u001b[49m\u001b[38;5;241;43m6\u001b[39;49m\u001b[43m,\u001b[49m\u001b[38;5;241;43m7\u001b[39;49m\u001b[43m)\u001b[49m\n",
      "\u001b[0;31mTypeError\u001b[0m: test() takes 5 positional arguments but 7 were given"
     ]
    }
   ],
   "source": [
    "test(1,2,3,4,5,6,7)"
   ]
  },
  {
   "cell_type": "code",
   "execution_count": 5,
   "id": "5a0ff774-6a80-4307-8d11-2460fc561d43",
   "metadata": {},
   "outputs": [],
   "source": [
    "def test1(*args):\n",
    "    return args"
   ]
  },
  {
   "cell_type": "code",
   "execution_count": 6,
   "id": "ef98440a-3d80-4d58-89aa-5b67f9512b1e",
   "metadata": {},
   "outputs": [
    {
     "data": {
      "text/plain": [
       "(2,)"
      ]
     },
     "execution_count": 6,
     "metadata": {},
     "output_type": "execute_result"
    }
   ],
   "source": [
    "test1(2)"
   ]
  },
  {
   "cell_type": "code",
   "execution_count": 8,
   "id": "4cfdb426-22cd-4a70-a450-d3fae74d167c",
   "metadata": {},
   "outputs": [
    {
     "data": {
      "text/plain": [
       "(1, 2, 3, 4, 5, 6, 7, 7)"
      ]
     },
     "execution_count": 8,
     "metadata": {},
     "output_type": "execute_result"
    }
   ],
   "source": [
    "test1(1,2,3,4,5,6,7,7)"
   ]
  },
  {
   "cell_type": "code",
   "execution_count": 9,
   "id": "809f9570-eb53-4479-865d-0dd6b23dde1d",
   "metadata": {},
   "outputs": [
    {
     "data": {
      "text/plain": [
       "('Driptarshi', [1, 2, 3, 4, 5], (1, 2, 3, 4, 5), 1, 2, 3, 4, 5)"
      ]
     },
     "execution_count": 9,
     "metadata": {},
     "output_type": "execute_result"
    }
   ],
   "source": [
    "test1(\"Driptarshi\",[1,2,3,4,5],(1,2,3,4,5),1,2,3,4,5)"
   ]
  },
  {
   "cell_type": "code",
   "execution_count": 10,
   "id": "108d8f4f-d06b-42af-a964-787d33167bce",
   "metadata": {},
   "outputs": [],
   "source": [
    "def test2(*xyz):\n",
    "    return xyz"
   ]
  },
  {
   "cell_type": "code",
   "execution_count": 11,
   "id": "9ffec28d-3ab5-4a9b-8ae5-9d81209a7e6b",
   "metadata": {},
   "outputs": [
    {
     "data": {
      "text/plain": [
       "('x', 1, 2, 3, 4, 5, 'a')"
      ]
     },
     "execution_count": 11,
     "metadata": {},
     "output_type": "execute_result"
    }
   ],
   "source": [
    "test2(\"x\",1,2,3,4,5,\"a\")"
   ]
  },
  {
   "cell_type": "code",
   "execution_count": 14,
   "id": "7290fdb8-0633-4c3c-8894-554e16d1af5e",
   "metadata": {},
   "outputs": [],
   "source": [
    "def test3(*args,a):\n",
    "    return args,a"
   ]
  },
  {
   "cell_type": "code",
   "execution_count": 15,
   "id": "a4d35848-c16b-4511-a31a-076f5865d6d0",
   "metadata": {},
   "outputs": [
    {
     "ename": "TypeError",
     "evalue": "test3() missing 1 required keyword-only argument: 'a'",
     "output_type": "error",
     "traceback": [
      "\u001b[0;31m---------------------------------------------------------------------------\u001b[0m",
      "\u001b[0;31mTypeError\u001b[0m                                 Traceback (most recent call last)",
      "Cell \u001b[0;32mIn[15], line 1\u001b[0m\n\u001b[0;32m----> 1\u001b[0m \u001b[43mtest3\u001b[49m\u001b[43m(\u001b[49m\u001b[38;5;241;43m3\u001b[39;49m\u001b[43m)\u001b[49m\n",
      "\u001b[0;31mTypeError\u001b[0m: test3() missing 1 required keyword-only argument: 'a'"
     ]
    }
   ],
   "source": [
    "test3(3)"
   ]
  },
  {
   "cell_type": "code",
   "execution_count": 16,
   "id": "6e8a0843-7f4d-47ad-8c7a-8d6b5a6a0029",
   "metadata": {},
   "outputs": [
    {
     "ename": "TypeError",
     "evalue": "test3() missing 1 required keyword-only argument: 'a'",
     "output_type": "error",
     "traceback": [
      "\u001b[0;31m---------------------------------------------------------------------------\u001b[0m",
      "\u001b[0;31mTypeError\u001b[0m                                 Traceback (most recent call last)",
      "Cell \u001b[0;32mIn[16], line 1\u001b[0m\n\u001b[0;32m----> 1\u001b[0m \u001b[43mtest3\u001b[49m\u001b[43m(\u001b[49m\u001b[38;5;241;43m3\u001b[39;49m\u001b[43m,\u001b[49m\u001b[38;5;124;43m\"\u001b[39;49m\u001b[38;5;124;43m3\u001b[39;49m\u001b[38;5;124;43m\"\u001b[39;49m\u001b[43m)\u001b[49m\n",
      "\u001b[0;31mTypeError\u001b[0m: test3() missing 1 required keyword-only argument: 'a'"
     ]
    }
   ],
   "source": [
    "test3(3,\"3\")"
   ]
  },
  {
   "cell_type": "code",
   "execution_count": 17,
   "id": "dfffe0d3-ab3c-48d2-8d3d-ec9759dba65b",
   "metadata": {},
   "outputs": [
    {
     "data": {
      "text/plain": [
       "((1, 2, 3, 'q', 'w', 'e'), 'A')"
      ]
     },
     "execution_count": 17,
     "metadata": {},
     "output_type": "execute_result"
    }
   ],
   "source": [
    "test3(1,2,3,\"q\",\"w\",\"e\",a=\"A\")"
   ]
  },
  {
   "cell_type": "code",
   "execution_count": 18,
   "id": "12e0bd3c-57ee-4756-94e3-5cd9a3788b47",
   "metadata": {},
   "outputs": [],
   "source": [
    "def test4(*args):\n",
    "    l=[]\n",
    "    for i in args:\n",
    "        if type(i)==list:\n",
    "            l.append(i)\n",
    "    return l        "
   ]
  },
  {
   "cell_type": "code",
   "execution_count": 19,
   "id": "a57b37de-b16d-45db-ad8f-0701b1242a7c",
   "metadata": {},
   "outputs": [
    {
     "data": {
      "text/plain": [
       "[[1, 2, 3, 4], ['Q', 'W', 'E', 'R', 'T', 'Y']]"
      ]
     },
     "execution_count": 19,
     "metadata": {},
     "output_type": "execute_result"
    }
   ],
   "source": [
    "test4(1,2,3,4,[1,2,3,4],\"QWERTY\",[\"Q\",\"W\",\"E\",\"R\",\"T\",\"Y\"])"
   ]
  },
  {
   "cell_type": "code",
   "execution_count": 20,
   "id": "1a8e23f1-9aaf-4800-a1fb-160b49205d41",
   "metadata": {},
   "outputs": [],
   "source": [
    "def test5(**KVargs):\n",
    "    return KVargs"
   ]
  },
  {
   "cell_type": "code",
   "execution_count": 21,
   "id": "842217be-cb30-47b0-8399-aa75a15c972c",
   "metadata": {},
   "outputs": [
    {
     "data": {
      "text/plain": [
       "dict"
      ]
     },
     "execution_count": 21,
     "metadata": {},
     "output_type": "execute_result"
    }
   ],
   "source": [
    "type(test5())"
   ]
  },
  {
   "cell_type": "code",
   "execution_count": 23,
   "id": "5f097254-4313-4516-a233-e041eff84bc6",
   "metadata": {},
   "outputs": [
    {
     "data": {
      "text/plain": [
       "{'a': 1, 'b': 2, 's': 'str', 'l': [1, 2, 3], 't': ('Driptarshi', 'Ray')}"
      ]
     },
     "execution_count": 23,
     "metadata": {},
     "output_type": "execute_result"
    }
   ],
   "source": [
    "test5(a=1,b=2,s=\"str\",l=[1,2,3],t=(\"Driptarshi\",\"Ray\"))"
   ]
  },
  {
   "cell_type": "code",
   "execution_count": 30,
   "id": "4e9574a7-a395-4118-86d2-34acc83a2ffd",
   "metadata": {},
   "outputs": [],
   "source": [
    "def test6(**KVargs):\n",
    "    for i in KVargs.keys():\n",
    "        if type((KVargs)[i])==list:\n",
    "            return i,KVargs[i]"
   ]
  },
  {
   "cell_type": "code",
   "execution_count": 31,
   "id": "a161273e-909c-4688-bd7d-dca7b541dd14",
   "metadata": {},
   "outputs": [
    {
     "data": {
      "text/plain": [
       "('l', [1, 2, 3])"
      ]
     },
     "execution_count": 31,
     "metadata": {},
     "output_type": "execute_result"
    }
   ],
   "source": [
    "test6(a=1,b=2,s=\"str\",l=[1,2,3],t=(\"Driptarshi\",\"Ray\"))"
   ]
  },
  {
   "cell_type": "code",
   "execution_count": 32,
   "id": "c65c8910-2d10-4ce3-8937-191337cadee0",
   "metadata": {},
   "outputs": [],
   "source": [
    "def test7(*args,**KVargs):\n",
    "    return(args,KVargs)"
   ]
  },
  {
   "cell_type": "code",
   "execution_count": 33,
   "id": "a809eaec-5856-463d-8ad3-93cda5cfa8d6",
   "metadata": {},
   "outputs": [
    {
     "data": {
      "text/plain": [
       "((1, 2, 3, 4, 'QWERTY'), {'a': 'A', 'x': 1})"
      ]
     },
     "execution_count": 33,
     "metadata": {},
     "output_type": "execute_result"
    }
   ],
   "source": [
    "test7(1,2,3,4,\"QWERTY\", a=\"A\",x=1)"
   ]
  },
  {
   "cell_type": "code",
   "execution_count": 34,
   "id": "ea0749e1-53ca-4543-9428-ad5f965b4be9",
   "metadata": {},
   "outputs": [
    {
     "ename": "SyntaxError",
     "evalue": "positional argument follows keyword argument (4150507099.py, line 1)",
     "output_type": "error",
     "traceback": [
      "\u001b[0;36m  Cell \u001b[0;32mIn[34], line 1\u001b[0;36m\u001b[0m\n\u001b[0;31m    test7(1,a=\"A\",2,3,4,x=123)\u001b[0m\n\u001b[0m                             ^\u001b[0m\n\u001b[0;31mSyntaxError\u001b[0m\u001b[0;31m:\u001b[0m positional argument follows keyword argument\n"
     ]
    }
   ],
   "source": [
    "test7(1,a=\"A\",2,3,4,x=123)"
   ]
  },
  {
   "cell_type": "markdown",
   "id": "41e1adae-06a7-4805-b0c1-7d991a1c263d",
   "metadata": {},
   "source": [
    "## Generator Functions"
   ]
  },
  {
   "cell_type": "code",
   "execution_count": 1,
   "id": "1aa840f4-c2b6-457f-97e5-3e0b06c3ffba",
   "metadata": {},
   "outputs": [
    {
     "data": {
      "text/plain": [
       "range(1, 10)"
      ]
     },
     "execution_count": 1,
     "metadata": {},
     "output_type": "execute_result"
    }
   ],
   "source": [
    "range(1,10)"
   ]
  },
  {
   "cell_type": "code",
   "execution_count": 2,
   "id": "1e335cc8-5e63-4cfd-a55b-10967826050f",
   "metadata": {},
   "outputs": [
    {
     "name": "stdout",
     "output_type": "stream",
     "text": [
      "1\n",
      "2\n",
      "3\n",
      "4\n",
      "5\n",
      "6\n",
      "7\n",
      "8\n",
      "9\n"
     ]
    }
   ],
   "source": [
    "for i in range(1,10):\n",
    "    print(i)"
   ]
  },
  {
   "cell_type": "code",
   "execution_count": 3,
   "id": "552a697f-cdb1-45ad-8a03-57c8b7d6c3b7",
   "metadata": {},
   "outputs": [],
   "source": [
    "l=[1,2,3,4,5,6,7,\"QWERTY\"]"
   ]
  },
  {
   "cell_type": "code",
   "execution_count": 4,
   "id": "8c49b8b6-33a8-409f-a248-5bcf6cd6c039",
   "metadata": {},
   "outputs": [],
   "source": [
    "def test1(a):\n",
    "    n=[]\n",
    "    for i in a:\n",
    "        if type(i)==int:\n",
    "            n.append(i)\n",
    "    return n        "
   ]
  },
  {
   "cell_type": "code",
   "execution_count": 5,
   "id": "fb891fb4-77b4-4ea6-acc0-d95467d9b3ac",
   "metadata": {},
   "outputs": [
    {
     "data": {
      "text/plain": [
       "[1, 2, 3, 4, 5, 6, 7]"
      ]
     },
     "execution_count": 5,
     "metadata": {},
     "output_type": "execute_result"
    }
   ],
   "source": [
    "test1(l)"
   ]
  },
  {
   "cell_type": "code",
   "execution_count": 6,
   "id": "c97474ed-fdff-4fd3-bd97-c907c166760f",
   "metadata": {},
   "outputs": [],
   "source": [
    "# Fibonacci Series: 0,1,1,2,3,5,8,13,21,34,....."
   ]
  },
  {
   "cell_type": "code",
   "execution_count": 7,
   "id": "8659d56d-7d04-4f6d-b2a5-d8328e6a591f",
   "metadata": {},
   "outputs": [],
   "source": [
    "def test_fib(n):\n",
    "    a,b=0,1\n",
    "    for i in range(n):\n",
    "        yield a\n",
    "        a,b=b,a+b"
   ]
  },
  {
   "cell_type": "code",
   "execution_count": 8,
   "id": "cfddfee2-7758-4ce2-9a6f-9515c020b2b9",
   "metadata": {},
   "outputs": [
    {
     "data": {
      "text/plain": [
       "<generator object test_fib at 0x7fcce64759a0>"
      ]
     },
     "execution_count": 8,
     "metadata": {},
     "output_type": "execute_result"
    }
   ],
   "source": [
    "test_fib(10)"
   ]
  },
  {
   "cell_type": "code",
   "execution_count": 10,
   "id": "260fa281-bca4-4d68-983e-9d90114a644f",
   "metadata": {},
   "outputs": [
    {
     "name": "stdout",
     "output_type": "stream",
     "text": [
      "0\n",
      "1\n",
      "1\n",
      "2\n",
      "3\n",
      "5\n",
      "8\n",
      "13\n",
      "21\n",
      "34\n"
     ]
    }
   ],
   "source": [
    "for i in test_fib(10):\n",
    "    print(i)"
   ]
  },
  {
   "cell_type": "code",
   "execution_count": null,
   "id": "6decc6c8-11a8-49dd-95ec-1ec559663075",
   "metadata": {},
   "outputs": [],
   "source": []
  }
 ],
 "metadata": {
  "kernelspec": {
   "display_name": "Python 3 (ipykernel)",
   "language": "python",
   "name": "python3"
  },
  "language_info": {
   "codemirror_mode": {
    "name": "ipython",
    "version": 3
   },
   "file_extension": ".py",
   "mimetype": "text/x-python",
   "name": "python",
   "nbconvert_exporter": "python",
   "pygments_lexer": "ipython3",
   "version": "3.10.8"
  }
 },
 "nbformat": 4,
 "nbformat_minor": 5
}
