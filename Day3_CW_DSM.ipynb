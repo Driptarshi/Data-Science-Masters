
 "cells": [
  {
   "cell_type": "markdown",
   "id": "481b163b-12ec-4dee-9cd0-ad06910b8168",
   "metadata": {},
   "source": [
    "### Logical Operators\n",
    "\n",
    "1. and\n",
    "2. oe\n",
    "3. not"
   ]
  },
  {
   "cell_type": "code",
   "execution_count": 1,
   "id": "952cad49-2f07-476a-81dd-31976fd2a730",
   "metadata": {},
   "outputs": [
    {
     "data": {
      "text/plain": [
       "True"
      ]
     },
     "execution_count": 1,
     "metadata": {},
     "output_type": "execute_result"
    }
   ],
   "source": [
    "True and True"
   ]
  },
  {
   "cell_type": "code",
   "execution_count": 2,
   "id": "fc00f887-62e5-4a36-aab3-a323f8a560cd",
   "metadata": {},
   "outputs": [
    {
     "data": {
      "text/plain": [
       "True"
      ]
     },
     "execution_count": 2,
     "metadata": {},
     "output_type": "execute_result"
    }
   ],
   "source": [
    "True or False"
   ]
  },
  {
   "cell_type": "code",
   "execution_count": 35,
   "id": "585a23f5-35fc-4d23-8b32-b8716ce08fe8",
   "metadata": {},
   "outputs": [
    {
     "name": "stdout",
     "output_type": "stream",
     "text": [
      "Defined value of start is True\n",
      "Defined value of stop is False\n",
      "\n",
      "Defined value of start is True\n",
      "Value of stop by negating start is False\n",
      "\n",
      "Value of start by negating stop is True\n",
      "Defined value of stop is False\n",
      "\n"
     ]
    }
   ],
   "source": [
    "# Lets define two variables having boolean values True and False-\n",
    "start=True\n",
    "stop=False\n",
    "\n",
    "# Print the values as it is\n",
    "print(f\"Defined value of start is {start}\")\n",
    "print(f\"Defined value of stop is {stop}\\n\")\n",
    "\n",
    "# It can also be written as -\n",
    "print(f\"Defined value of start is {start}\")\n",
    "print(f\"Value of stop by negating start is {not start}\\n\")\n",
    "\n",
    "# alternatively\n",
    "print(f\"Value of start by negating stop is {not stop}\")\n",
    "print(f\"Defined value of stop is {stop}\\n\")"
   ]
  },
  {
   "cell_type": "code",
   "execution_count": 9,
   "id": "62390630-4343-4834-afa5-ea4f38bb108d",
   "metadata": {},
   "outputs": [
    {
     "data": {
      "text/plain": [
       "False"
      ]
     },
     "execution_count": 9,
     "metadata": {},
     "output_type": "execute_result"
    }
   ],
   "source": [
    "not True"
   ]
  },
  {
   "cell_type": "code",
   "execution_count": 10,
   "id": "7569572c-02c3-46bf-94d3-5ea90099be89",
   "metadata": {},
   "outputs": [
    {
     "data": {
      "text/plain": [
       "True"
      ]
     },
     "execution_count": 10,
     "metadata": {},
     "output_type": "execute_result"
    }
   ],
   "source": [
    "not bool(0)"
   ]
  },
  {
   "cell_type": "code",
   "execution_count": 11,
   "id": "105d6d3f-071d-4410-beee-8e0a154f84e7",
   "metadata": {},
   "outputs": [
    {
     "data": {
      "text/plain": [
       "True"
      ]
     },
     "execution_count": 11,
     "metadata": {},
     "output_type": "execute_result"
    }
   ],
   "source": [
    "not int(bool(0))"
   ]
  },
  {
   "cell_type": "code",
   "execution_count": 12,
   "id": "ce094f05-7eee-4c1a-a423-6e6e04c5fef5",
   "metadata": {},
   "outputs": [
    {
     "data": {
      "text/plain": [
       "1"
      ]
     },
     "execution_count": 12,
     "metadata": {},
     "output_type": "execute_result"
    }
   ],
   "source": [
    "int(not int(bool(0)))"
   ]
  },
  {
   "cell_type": "code",
   "execution_count": 13,
   "id": "ea28d4a1-ba05-426f-84bf-c67d8c5cca49",
   "metadata": {},
   "outputs": [
    {
     "data": {
      "text/plain": [
       "True"
      ]
     },
     "execution_count": 13,
     "metadata": {},
     "output_type": "execute_result"
    }
   ],
   "source": [
    "bool(1)"
   ]
  },
  {
   "cell_type": "code",
   "execution_count": 14,
   "id": "4cfee016-eaa1-4913-a635-fbc9dda144d0",
   "metadata": {},
   "outputs": [
    {
     "data": {
      "text/plain": [
       "1"
      ]
     },
     "execution_count": 14,
     "metadata": {},
     "output_type": "execute_result"
    }
   ],
   "source": [
    "int(bool(1))"
   ]
  },
  {
   "cell_type": "code",
   "execution_count": 16,
   "id": "b579fd2c-68d6-4c1e-a2d8-bc6f878a33f4",
   "metadata": {},
   "outputs": [
    {
     "data": {
      "text/plain": [
       "False"
      ]
     },
     "execution_count": 16,
     "metadata": {},
     "output_type": "execute_result"
    }
   ],
   "source": [
    "not 1"
   ]
  },
  {
   "cell_type": "code",
   "execution_count": 17,
   "id": "16cd15c7-950c-4962-a1de-9d1016354ee5",
   "metadata": {},
   "outputs": [
    {
     "data": {
      "text/plain": [
       "True"
      ]
     },
     "execution_count": 17,
     "metadata": {},
     "output_type": "execute_result"
    }
   ],
   "source": [
    "not 0"
   ]
  },
  {
   "cell_type": "code",
   "execution_count": 18,
   "id": "d0026add-5892-4713-81e7-174b8b1afd2f",
   "metadata": {},
   "outputs": [
    {
     "data": {
      "text/plain": [
       "0"
      ]
     },
     "execution_count": 18,
     "metadata": {},
     "output_type": "execute_result"
    }
   ],
   "source": [
    "int(not 1)"
   ]
  },
  {
   "cell_type": "code",
   "execution_count": 19,
   "id": "4d82ca1c-a78d-469d-87ff-caa5ec57e86a",
   "metadata": {},
   "outputs": [
    {
     "data": {
      "text/plain": [
       "1"
      ]
     },
     "execution_count": 19,
     "metadata": {},
     "output_type": "execute_result"
    }
   ],
   "source": [
    "int(not 0)"
   ]
  },
  {
   "cell_type": "code",
   "execution_count": 15,
   "id": "d866716a-9cfd-4b4e-8c18-0491e43436c5",
   "metadata": {},
   "outputs": [
    {
     "data": {
      "text/plain": [
       "False"
      ]
     },
     "execution_count": 15,
     "metadata": {},
     "output_type": "execute_result"
    }
   ],
   "source": [
    "not int(bool(1))"
   ]
  },
  {
   "cell_type": "code",
   "execution_count": 20,
   "id": "9b9c1eb6-c492-46f3-98da-ea4c4c534e2a",
   "metadata": {},
   "outputs": [
    {
     "data": {
      "text/plain": [
       "False"
      ]
     },
     "execution_count": 20,
     "metadata": {},
     "output_type": "execute_result"
    }
   ],
   "source": [
    "not 2"
   ]
  },
  {
   "cell_type": "code",
   "execution_count": 23,
   "id": "e1d65379-81be-4e40-a682-f617b4af174e",
   "metadata": {},
   "outputs": [
    {
     "name": "stdout",
     "output_type": "stream",
     "text": [
      "True\n"
     ]
    }
   ],
   "source": [
    "n=range(1,10)\n",
    "print(bool(n))"
   ]
  },
  {
   "cell_type": "code",
   "execution_count": 24,
   "id": "255be04a-a332-46fd-8a48-20f475a80b51",
   "metadata": {},
   "outputs": [
    {
     "data": {
      "text/plain": [
       "False"
      ]
     },
     "execution_count": 24,
     "metadata": {},
     "output_type": "execute_result"
    }
   ],
   "source": [
    "not -1"
   ]
  },
  {
   "cell_type": "code",
   "execution_count": null,
   "id": "0815f7cc-7d58-409b-941c-d3ca580323d8",
   "metadata": {},
   "outputs": [],
   "source": []
  },
  {
   "cell_type": "code",
   "execution_count": 36,
   "id": "1600c3fb-c873-43ea-9fcf-c071dd8a9f21",
   "metadata": {},
   "outputs": [
    {
     "name": "stdout",
     "output_type": "stream",
     "text": [
      "Defined value of start is 1\n",
      "Defined value of stop is 0\n",
      "\n",
      "Defined value of start is 1\n",
      "Value of stop by negating start is 0\n",
      "\n",
      "Value of start by negating stop is 1\n",
      "Defined value of stop is 0\n",
      "\n"
     ]
    }
   ],
   "source": [
    "# Lets define two variables having boolean values True and False-\n",
    "start=1\n",
    "stop=0\n",
    "\n",
    "# Print the values as it is\n",
    "print(f\"Defined value of start is {start}\")\n",
    "print(f\"Defined value of stop is {stop}\\n\")\n",
    "\n",
    "# It can also be written as -\n",
    "print(f\"Defined value of start is {start}\")\n",
    "print(f\"Value of stop by negating start is {int(not start)}\\n\")\n",
    "\n",
    "# alternatively\n",
    "print(f\"Value of start by negating stop is {int(not stop)}\")\n",
    "print(f\"Defined value of stop is {stop}\\n\")"
   ]
  },
  {
   "cell_type": "code",
   "execution_count": 37,
   "id": "23f2224d-b456-4820-bd87-06925098d903",
   "metadata": {},
   "outputs": [
    {
     "name": "stdout",
     "output_type": "stream",
     "text": [
      "Boolean value of no. 0 is False\n",
      "Boolean value of no. 1 is True\n",
      "negation of 0 is True and negation of 1 is False\n",
      "\n",
      "#---------------#\n",
      "\n"
     ]
    }
   ],
   "source": [
    "null=0\n",
    "eins=1\n",
    "\n",
    "print(f\"Boolean value of no. {null} is {bool(null)}\")\n",
    "print(f\"Boolean value of no. {eins} is {bool(eins)}\")\n",
    "print(f\"negation of {null} is {not null} and negation of {eins} is {not eins}\")\n",
    "print(\"\\n#---------------#\\n\")"
   ]
  },
  {
   "cell_type": "code",
   "execution_count": 38,
   "id": "e62d6d4a-fbe1-4ea6-ad4f-7e870896d3b8",
   "metadata": {},
   "outputs": [
    {
     "name": "stdout",
     "output_type": "stream",
     "text": [
      "boolean value of no. -5 is True\n",
      "boolean value of no. 5 is True\n",
      "negation of -5 is False and negation of 5 is False\n",
      "\n",
      "#-------------#\n",
      "\n"
     ]
    }
   ],
   "source": [
    "niveint=-5\n",
    "piveint=5\n",
    "\n",
    "print(f\"boolean value of no. {niveint} is {bool(niveint)}\")\n",
    "print(f\"boolean value of no. {piveint} is {bool(piveint)}\")\n",
    "print(f\"negation of {niveint} is {not niveint} and negation of {piveint} is {not piveint}\")\n",
    "\n",
    "\n",
    "print(\"\\n#-------------#\\n\")"
   ]
  },
  {
   "cell_type": "code",
   "execution_count": 39,
   "id": "8cdfb39c-0d32-4dac-830b-0360f424f4af",
   "metadata": {},
   "outputs": [
    {
     "data": {
      "text/plain": [
       "False"
      ]
     },
     "execution_count": 39,
     "metadata": {},
     "output_type": "execute_result"
    }
   ],
   "source": [
    "not 5\n",
    "not -5"
   ]
  },
  {
   "cell_type": "code",
   "execution_count": 40,
   "id": "454a4a98-d43f-4f4c-b788-a304be9c0f70",
   "metadata": {},
   "outputs": [
    {
     "name": "stdout",
     "output_type": "stream",
     "text": [
      "boolean value of no. -3.14 is True\n",
      "boolean value of no. 3.14 is True\n",
      "negation of -3.14 is False and negation of 3.14 is False\n"
     ]
    }
   ],
   "source": [
    "nivefloat=-3.14\n",
    "pivefloat=3.14\n",
    "\n",
    "print(f\"boolean value of no. {nivefloat} is {bool(nivefloat)}\")\n",
    "print(f\"boolean value of no. {pivefloat} is {bool(pivefloat)}\")\n",
    "print(f\"negation of {nivefloat} is {not nivefloat} and negation of {pivefloat} is {not pivefloat}\")"
   ]
  },
  {
   "cell_type": "markdown",
   "id": "feae1a35-bc2c-4925-b162-05c89be72160",
   "metadata": {},
   "source": [
    "### Logical And"
   ]
  },
  {
   "cell_type": "code",
   "execution_count": 41,
   "id": "727a3f74-62fd-48d9-b183-cc12bbe29a3d",
   "metadata": {},
   "outputs": [
    {
     "name": "stdout",
     "output_type": "stream",
     "text": [
      "Dish contains veg: True\n",
      "Dish contains salt: False\n",
      "Hence dish prepared was good: False\n",
      "\n"
     ]
    }
   ],
   "source": [
    "veg=True\n",
    "salt=False\n",
    "dish=veg and salt\n",
    "\n",
    "print(f\"Dish contains veg: {veg}\")\n",
    "print(f\"Dish contains salt: {salt}\")\n",
    "print(f\"Hence dish prepared was good: {dish}\\n\")"
   ]
  },
  {
   "cell_type": "code",
   "execution_count": 42,
   "id": "8a792388-9905-49b5-a7a4-7036fd58c32c",
   "metadata": {},
   "outputs": [
    {
     "data": {
      "text/plain": [
       "0"
      ]
     },
     "execution_count": 42,
     "metadata": {},
     "output_type": "execute_result"
    }
   ],
   "source": [
    "True*False"
   ]
  },
  {
   "cell_type": "code",
   "execution_count": 43,
   "id": "4a65f82c-66f6-4b90-a111-f2581be3a780",
   "metadata": {},
   "outputs": [
    {
     "data": {
      "text/plain": [
       "1"
      ]
     },
     "execution_count": 43,
     "metadata": {},
     "output_type": "execute_result"
    }
   ],
   "source": [
    "True*True"
   ]
  },
  {
   "cell_type": "code",
   "execution_count": 44,
   "id": "c40b17b2-aaa7-4f9c-98c9-65c74117db5d",
   "metadata": {},
   "outputs": [
    {
     "data": {
      "text/plain": [
       "0"
      ]
     },
     "execution_count": 44,
     "metadata": {},
     "output_type": "execute_result"
    }
   ],
   "source": [
    "False*True"
   ]
  },
  {
   "cell_type": "code",
   "execution_count": 45,
   "id": "8133ebd1-5cc2-4fd6-9001-3a34684f4349",
   "metadata": {},
   "outputs": [
    {
     "data": {
      "text/plain": [
       "0"
      ]
     },
     "execution_count": 45,
     "metadata": {},
     "output_type": "execute_result"
    }
   ],
   "source": [
    "False*False"
   ]
  },
  {
   "cell_type": "code",
   "execution_count": 48,
   "id": "9a9f9be5-e8e3-430d-958f-3d5442919006",
   "metadata": {},
   "outputs": [
    {
     "data": {
      "text/plain": [
       "0"
      ]
     },
     "execution_count": 48,
     "metadata": {},
     "output_type": "execute_result"
    }
   ],
   "source": [
    "int(bool(False*(not False)))"
   ]
  },
  {
   "cell_type": "code",
   "execution_count": 47,
   "id": "414cb2c1-ac3c-49dd-b73f-ba93585ad14a",
   "metadata": {},
   "outputs": [
    {
     "data": {
      "text/plain": [
       "1"
      ]
     },
     "execution_count": 47,
     "metadata": {},
     "output_type": "execute_result"
    }
   ],
   "source": [
    "True*(not False)"
   ]
  },
  {
   "cell_type": "code",
   "execution_count": 49,
   "id": "a66a92ef-6b41-494b-9167-e9a97341df3b",
   "metadata": {},
   "outputs": [
    {
     "data": {
      "text/plain": [
       "True"
      ]
     },
     "execution_count": 49,
     "metadata": {},
     "output_type": "execute_result"
    }
   ],
   "source": [
    "not(True)*False"
   ]
  },
  {
   "cell_type": "code",
   "execution_count": 51,
   "id": "d08ca6cd-184d-4671-9f50-1ace2c9d7d70",
   "metadata": {},
   "outputs": [
    {
     "data": {
      "text/plain": [
       "0"
      ]
     },
     "execution_count": 51,
     "metadata": {},
     "output_type": "execute_result"
    }
   ],
   "source": [
    "(False)*(not (False))"
   ]
  },
  {
   "cell_type": "code",
   "execution_count": 52,
   "id": "32b6eada-b9aa-4587-a410-9a59d7c56954",
   "metadata": {},
   "outputs": [
    {
     "data": {
      "text/plain": [
       "False"
      ]
     },
     "execution_count": 52,
     "metadata": {},
     "output_type": "execute_result"
    }
   ],
   "source": [
    "not(True)"
   ]
  },
  {
   "cell_type": "code",
   "execution_count": 57,
   "id": "5e390bbb-b90f-4e26-8490-9d7352235345",
   "metadata": {},
   "outputs": [
    {
     "data": {
      "text/plain": [
       "True"
      ]
     },
     "execution_count": 57,
     "metadata": {},
     "output_type": "execute_result"
    }
   ],
   "source": [
    "not (False)*(False)"
   ]
  },
  {
   "cell_type": "code",
   "execution_count": 63,
   "id": "be621e44-f53b-4825-8a6a-d367741db871",
   "metadata": {},
   "outputs": [
    {
     "data": {
      "text/plain": [
       "True"
      ]
     },
     "execution_count": 63,
     "metadata": {},
     "output_type": "execute_result"
    }
   ],
   "source": [
    "not False*False==True"
   ]
  },
  {
   "cell_type": "code",
   "execution_count": 64,
   "id": "eb64c768-4b0f-48f4-a9d3-cc34b5f0f620",
   "metadata": {},
   "outputs": [
    {
     "data": {
      "text/plain": [
       "False"
      ]
     },
     "execution_count": 64,
     "metadata": {},
     "output_type": "execute_result"
    }
   ],
   "source": [
    "not False*False==False"
   ]
  },
  {
   "cell_type": "code",
   "execution_count": 66,
   "id": "cdd30344-63bd-4c02-896a-6ff78e0a8bd7",
   "metadata": {},
   "outputs": [
    {
     "name": "stdout",
     "output_type": "stream",
     "text": [
      "True\n"
     ]
    }
   ],
   "source": [
    "print(not(False)*False)"
   ]
  },
  {
   "cell_type": "code",
   "execution_count": 72,
   "id": "b1065a5d-f634-4c3b-8a08-fea822b64f0d",
   "metadata": {},
   "outputs": [
    {
     "name": "stdout",
     "output_type": "stream",
     "text": [
      "0\n"
     ]
    }
   ],
   "source": [
    "print((not False)*(False))\n",
    "\n",
    "# Follows BODMAS rule"
   ]
  },
  {
   "cell_type": "code",
   "execution_count": 69,
   "id": "69839b04-aa74-467e-8908-3bdcaaceeb8b",
   "metadata": {},
   "outputs": [
    {
     "data": {
      "text/plain": [
       "True"
      ]
     },
     "execution_count": 69,
     "metadata": {},
     "output_type": "execute_result"
    }
   ],
   "source": [
    "not 0"
   ]
  },
  {
   "cell_type": "code",
   "execution_count": 70,
   "id": "31a0bc56-2a09-41d6-9c95-8e07026a1d7f",
   "metadata": {},
   "outputs": [
    {
     "data": {
      "text/plain": [
       "False"
      ]
     },
     "execution_count": 70,
     "metadata": {},
     "output_type": "execute_result"
    }
   ],
   "source": [
    "not 1"
   ]
  },
  {
   "cell_type": "code",
   "execution_count": 71,
   "id": "bebb6d3c-993c-454c-b1ac-a333b4aff24d",
   "metadata": {},
   "outputs": [
    {
     "data": {
      "text/plain": [
       "14.0"
      ]
     },
     "execution_count": 71,
     "metadata": {},
     "output_type": "execute_result"
    }
   ],
   "source": [
    "2*3+40/5"
   ]
  },
  {
   "cell_type": "code",
   "execution_count": 75,
   "id": "d689c30a-0123-4da5-9d37-becfddeb3ce2",
   "metadata": {},
   "outputs": [
    {
     "data": {
      "text/plain": [
       "True"
      ]
     },
     "execution_count": 75,
     "metadata": {},
     "output_type": "execute_result"
    }
   ],
   "source": [
    "not False*True==True"
   ]
  },
  {
   "cell_type": "markdown",
   "id": "9dfb49d0-12f0-4dd4-9d55-31eceb0c2020",
   "metadata": {},
   "source": [
    "### Equality Operators"
   ]
  },
  {
   "cell_type": "code",
   "execution_count": 76,
   "id": "0bc86955-4672-480c-bf3f-fa1c5c7b89ae",
   "metadata": {},
   "outputs": [],
   "source": [
    "lst1=[1,2,3,4]\n",
    "lst2=[1,2,3,4]"
   ]
  },
  {
   "cell_type": "code",
   "execution_count": 81,
   "id": "4d99314b-7575-4dd1-b998-070ad5f2dd39",
   "metadata": {},
   "outputs": [
    {
     "data": {
      "text/plain": [
       "94596391503392"
      ]
     },
     "execution_count": 81,
     "metadata": {},
     "output_type": "execute_result"
    }
   ],
   "source": [
    "id(lst1)"
   ]
  },
  {
   "cell_type": "code",
   "execution_count": 82,
   "id": "2fbf3a66-fbb0-4696-a8dd-a8c0c37b9b1a",
   "metadata": {},
   "outputs": [
    {
     "name": "stdout",
     "output_type": "stream",
     "text": [
      "94596391503392\n",
      "139968872410752\n"
     ]
    }
   ],
   "source": [
    "print(id(lst1))\n",
    "print(id(lst2))"
   ]
  },
  {
   "cell_type": "code",
   "execution_count": 85,
   "id": "64b96f2d-88b7-4ba3-822c-9ca0250bab79",
   "metadata": {},
   "outputs": [
    {
     "data": {
      "text/plain": [
       "False"
      ]
     },
     "execution_count": 85,
     "metadata": {},
     "output_type": "execute_result"
    }
   ],
   "source": [
    "lst1 is lst2"
   ]
  },
  {
   "cell_type": "code",
   "execution_count": null,
   "id": "da9e5a3d-aacf-445a-9294-d147071e52cb",
   "metadata": {},
   "outputs": [],
   "source": []
  },
  {
   "cell_type": "code",
   "execution_count": 88,
   "id": "c6592513-92ef-451f-994a-9f6d28d638d6",
   "metadata": {},
   "outputs": [],
   "source": [
    "lst1=[1,2,3,4]\n",
    "lst2=lst1"
   ]
  },
  {
   "cell_type": "code",
   "execution_count": 89,
   "id": "a94196a8-ffb5-4e6e-aa1d-cabedb861c93",
   "metadata": {},
   "outputs": [
    {
     "name": "stdout",
     "output_type": "stream",
     "text": [
      "139968872234560\n",
      "139968872234560\n"
     ]
    }
   ],
   "source": [
    "print(id(lst1))\n",
    "print(id(lst2))"
   ]
  },
  {
   "cell_type": "code",
   "execution_count": 90,
   "id": "da5a3bb4-2d15-41ec-bf3d-664d5ff49851",
   "metadata": {},
   "outputs": [
    {
     "data": {
      "text/plain": [
       "True"
      ]
     },
     "execution_count": 90,
     "metadata": {},
     "output_type": "execute_result"
    }
   ],
   "source": [
    "lst1 is lst2"
   ]
  },
  {
   "cell_type": "code",
   "execution_count": null,
   "id": "1267df72-192b-44b8-b9e4-2be149b5e416",
   "metadata": {},
   "outputs": [],
   "source": []
  },
  {
   "cell_type": "code",
   "execution_count": 91,
   "id": "23f466ae-b876-4d06-a8c6-2edd1add0385",
   "metadata": {},
   "outputs": [
    {
     "data": {
      "text/plain": [
       "True"
      ]
     },
     "execution_count": 91,
     "metadata": {},
     "output_type": "execute_result"
    }
   ],
   "source": [
    "lst1=[1,2,3,4]\n",
    "lst2=[1,2,3,4]\n",
    "\n",
    "lst1 is not lst2"
   ]
  },
  {
   "cell_type": "code",
   "execution_count": 92,
   "id": "96321b01-0d44-45cd-9c3f-da144c0f7aa2",
   "metadata": {},
   "outputs": [
    {
     "data": {
      "text/plain": [
       "True"
      ]
     },
     "execution_count": 92,
     "metadata": {},
     "output_type": "execute_result"
    }
   ],
   "source": [
    "lst1==lst2"
   ]
  },
  {
   "cell_type": "code",
   "execution_count": null,
   "id": "9db354bb-1b0f-440a-94fc-423a0f045088",
   "metadata": {},
   "outputs": [],
   "source": []
  },
  {
   "cell_type": "code",
   "execution_count": 96,
   "id": "0c62b333-673d-4d16-8cab-d708c8e54d91",
   "metadata": {},
   "outputs": [
    {
     "name": "stdout",
     "output_type": "stream",
     "text": [
      "True\n",
      "False\n"
     ]
    }
   ],
   "source": [
    "lst3=[1,2,3,4]\n",
    "lst4=[1,2,3,5]\n",
    "print(lst3!=lst4)\n",
    "print(lst3==lst4)"
   ]
  },
  {
   "cell_type": "code",
   "execution_count": 99,
   "id": "169c5088-f3cf-4816-8985-5ef0537a759b",
   "metadata": {},
   "outputs": [
    {
     "name": "stdout",
     "output_type": "stream",
     "text": [
      "139969489191184\n",
      "139969489191184\n"
     ]
    }
   ],
   "source": [
    "a=2\n",
    "b=2\n",
    "\n",
    "print(id(a))\n",
    "print(id(b))"
   ]
  },
  {
   "cell_type": "code",
   "execution_count": 100,
   "id": "e8897298-6952-45d9-8ee9-466a5bbba8ae",
   "metadata": {},
   "outputs": [
    {
     "name": "stdout",
     "output_type": "stream",
     "text": [
      "139968872411376\n",
      "139968872411376\n"
     ]
    }
   ],
   "source": [
    "str1=\"DRay\"\n",
    "str2=\"DRay\"\n",
    "print(id(str1))\n",
    "print(id(str2))"
   ]
  },
  {
   "cell_type": "code",
   "execution_count": null,
   "id": "1fa08689-bda3-48ed-95e1-7028bf1f23fa",
   "metadata": {},
   "outputs": [],
   "source": []
  },
  {
   "cell_type": "code",
   "execution_count": 101,
   "id": "fa46f645-7d10-4b11-9e54-cb85f147f6d7",
   "metadata": {},
   "outputs": [
    {
     "name": "stdout",
     "output_type": "stream",
     "text": [
      "139968872411376\n",
      "139968871793456\n"
     ]
    }
   ],
   "source": [
    "str1=\"DRay\"\n",
    "str2=\"DRay12\"\n",
    "print(id(str1))\n",
    "print(id(str2))"
   ]
  },
  {
   "cell_type": "code",
   "execution_count": 102,
   "id": "5735fbf2-93bc-48d9-bc51-1018537adfb5",
   "metadata": {},
   "outputs": [
    {
     "data": {
      "text/plain": [
       "[1, 2, 3, 4]"
      ]
     },
     "execution_count": 102,
     "metadata": {},
     "output_type": "execute_result"
    }
   ],
   "source": [
    "lst1"
   ]
  },
  {
   "cell_type": "code",
   "execution_count": 103,
   "id": "1b52006e-9a2b-4705-8723-880d3730fdf9",
   "metadata": {},
   "outputs": [
    {
     "data": {
      "text/plain": [
       "1"
      ]
     },
     "execution_count": 103,
     "metadata": {},
     "output_type": "execute_result"
    }
   ],
   "source": [
    "lst1[0]"
   ]
  },
  {
   "cell_type": "code",
   "execution_count": 105,
   "id": "a59981cc-b6f4-4c9c-a4c3-9761ce11eeac",
   "metadata": {},
   "outputs": [],
   "source": [
    "lst1[0]=10 \n",
    "\n",
    "\n",
    "#mutable"
   ]
  },
  {
   "cell_type": "code",
   "execution_count": 106,
   "id": "e05eb1c0-3941-48c8-814b-ea9d9cf355c7",
   "metadata": {},
   "outputs": [
    {
     "data": {
      "text/plain": [
       "[10, 2, 3, 4]"
      ]
     },
     "execution_count": 106,
     "metadata": {},
     "output_type": "execute_result"
    }
   ],
   "source": [
    "lst1"
   ]
  },
  {
   "cell_type": "code",
   "execution_count": 107,
   "id": "c65b9745-a2b1-4703-b62c-cb9a381d473b",
   "metadata": {},
   "outputs": [
    {
     "data": {
      "text/plain": [
       "'DRay'"
      ]
     },
     "execution_count": 107,
     "metadata": {},
     "output_type": "execute_result"
    }
   ],
   "source": [
    "str1"
   ]
  },
  {
   "cell_type": "code",
   "execution_count": 1,
   "id": "206697ad-6d80-4b23-8e2a-df4847d8588a",
   "metadata": {},
   "outputs": [
    {
     "ename": "TypeError",
     "evalue": "'type' object does not support item assignment",
     "output_type": "error",
     "traceback": [
      "\u001b[0;31m---------------------------------------------------------------------------\u001b[0m",
      "\u001b[0;31mTypeError\u001b[0m                                 Traceback (most recent call last)",
      "Cell \u001b[0;32mIn[1], line 1\u001b[0m\n\u001b[0;32m----> 1\u001b[0m \u001b[38;5;28;43mstr\u001b[39;49m\u001b[43m[\u001b[49m\u001b[38;5;241;43m0\u001b[39;49m\u001b[43m]\u001b[49m\u001b[38;5;241m=\u001b[39m\u001b[38;5;124m\"\u001b[39m\u001b[38;5;124ma\u001b[39m\u001b[38;5;124m\"\u001b[39m  \n\u001b[1;32m      3\u001b[0m \u001b[38;5;66;03m# immutable\u001b[39;00m\n",
      "\u001b[0;31mTypeError\u001b[0m: 'type' object does not support item assignment"
     ]
    }
   ],
   "source": [
    "str[0]=\"a\"  \n",
    "\n",
    "# immutable"
   ]
  },
  {
   "cell_type": "markdown",
   "id": "dca723d0-52d7-4bb8-8acb-6801091fe13e",
   "metadata": {},
   "source": [
    "### Comparison operation"
   ]
  },
  {
   "cell_type": "code",
   "execution_count": 13,
   "id": "a55f73fe-cb75-4f7b-9f27-b1e5d0825956",
   "metadata": {},
   "outputs": [
    {
     "name": "stdout",
     "output_type": "stream",
     "text": [
      "bike is faster than car: False\n",
      "car is faster than bike: True\n"
     ]
    }
   ],
   "source": [
    "max_speed_of_bike=150\n",
    "max_speed_of_car=200\n",
    "\n",
    "print(f\"bike is faster than car: {max_speed_of_bike>max_speed_of_car}\")\n",
    "print(f\"car is faster than bike: {max_speed_of_bike<max_speed_of_car}\")"
   ]
  },
  {
   "cell_type": "markdown",
   "id": "6f8f3269-521b-4b55-83b9-53297cd61e69",
   "metadata": {},
   "source": [
    "### Arithmetic Operations"
   ]
  },
  {
   "cell_type": "code",
   "execution_count": 14,
   "id": "e77beb0c-c38b-456b-b48c-bac152aec354",
   "metadata": {},
   "outputs": [],
   "source": [
    "a=5\n",
    "b=10"
   ]
  },
  {
   "cell_type": "code",
   "execution_count": 15,
   "id": "9a54fe87-650a-414b-b81f-4d98b1c76ac6",
   "metadata": {},
   "outputs": [
    {
     "data": {
      "text/plain": [
       "50"
      ]
     },
     "execution_count": 15,
     "metadata": {},
     "output_type": "execute_result"
    }
   ],
   "source": [
    "b*a"
   ]
  },
  {
   "cell_type": "code",
   "execution_count": 16,
   "id": "e5385c12-900f-4753-b3ce-03a34c3a8efb",
   "metadata": {},
   "outputs": [
    {
     "data": {
      "text/plain": [
       "15"
      ]
     },
     "execution_count": 16,
     "metadata": {},
     "output_type": "execute_result"
    }
   ],
   "source": [
    "b+a"
   ]
  },
  {
   "cell_type": "code",
   "execution_count": 17,
   "id": "5bcb4ee6-026f-45ac-8999-a8f9e197b07e",
   "metadata": {},
   "outputs": [
    {
     "data": {
      "text/plain": [
       "2.0"
      ]
     },
     "execution_count": 17,
     "metadata": {},
     "output_type": "execute_result"
    }
   ],
   "source": [
    "b/a"
   ]
  },
  {
   "cell_type": "code",
   "execution_count": 18,
   "id": "2ad1c21f-fa4f-4ddd-97f4-b61c7c462e18",
   "metadata": {},
   "outputs": [
    {
     "data": {
      "text/plain": [
       "0.5"
      ]
     },
     "execution_count": 18,
     "metadata": {},
     "output_type": "execute_result"
    }
   ],
   "source": [
    "a/b"
   ]
  },
  {
   "cell_type": "code",
   "execution_count": 19,
   "id": "f4384ca4-1782-4fa4-93e4-6ad64833b23b",
   "metadata": {},
   "outputs": [
    {
     "data": {
      "text/plain": [
       "0"
      ]
     },
     "execution_count": 19,
     "metadata": {},
     "output_type": "execute_result"
    }
   ],
   "source": [
    "a//b"
   ]
  },
  {
   "cell_type": "code",
   "execution_count": 20,
   "id": "79260eaf-d1de-470c-81bd-fe87c92710ac",
   "metadata": {},
   "outputs": [
    {
     "data": {
      "text/plain": [
       "2"
      ]
     },
     "execution_count": 20,
     "metadata": {},
     "output_type": "execute_result"
    }
   ],
   "source": [
    "b//a"
   ]
  },
  {
   "cell_type": "code",
   "execution_count": 21,
   "id": "13ece316-e5ab-45d7-9503-36dfbf1d8da3",
   "metadata": {},
   "outputs": [
    {
     "data": {
      "text/plain": [
       "0"
      ]
     },
     "execution_count": 21,
     "metadata": {},
     "output_type": "execute_result"
    }
   ],
   "source": [
    "## Displays the remainder\n",
    "b%a"
   ]
  },
  {
   "cell_type": "code",
   "execution_count": 23,
   "id": "6348259e-e9b5-4ed2-9003-81d393f587e5",
   "metadata": {},
   "outputs": [
    {
     "data": {
      "text/plain": [
       "5"
      ]
     },
     "execution_count": 23,
     "metadata": {},
     "output_type": "execute_result"
    }
   ],
   "source": [
    "a%b"
   ]
  },
  {
   "cell_type": "markdown",
   "id": "485795ec-a7c0-4efd-b817-e603d10e0e87",
   "metadata": {},
   "source": [
    "### Bitwise Operator"
   ]
  },
  {
   "cell_type": "code",
   "execution_count": 24,
   "id": "9d1f31f8-28db-4a7e-a7db-d05960466b01",
   "metadata": {},
   "outputs": [
    {
     "data": {
      "text/plain": [
       "'0b1010'"
      ]
     },
     "execution_count": 24,
     "metadata": {},
     "output_type": "execute_result"
    }
   ],
   "source": [
    "var=10\n",
    "bin(var)"
   ]
  },
  {
   "cell_type": "code",
   "execution_count": 25,
   "id": "44e9eb7e-5bc7-4e50-81da-b24425b4b5e9",
   "metadata": {},
   "outputs": [
    {
     "data": {
      "text/plain": [
       "'0b1010'"
      ]
     },
     "execution_count": 25,
     "metadata": {},
     "output_type": "execute_result"
    }
   ],
   "source": [
    "bin(10)"
   ]
  },
  {
   "cell_type": "code",
   "execution_count": 26,
   "id": "7b2ffdb5-be58-4c23-a48f-5a5d6e0a100b",
   "metadata": {},
   "outputs": [
    {
     "data": {
      "text/plain": [
       "False"
      ]
     },
     "execution_count": 26,
     "metadata": {},
     "output_type": "execute_result"
    }
   ],
   "source": [
    "True & False"
   ]
  },
  {
   "cell_type": "code",
   "execution_count": 27,
   "id": "491d534c-3bae-436f-9bda-bf1e914a8212",
   "metadata": {},
   "outputs": [
    {
     "data": {
      "text/plain": [
       "True"
      ]
     },
     "execution_count": 27,
     "metadata": {},
     "output_type": "execute_result"
    }
   ],
   "source": [
    "True|False"
   ]
  },
  {
   "cell_type": "code",
   "execution_count": 28,
   "id": "155e5f0d-4e78-4cc9-9d5b-34001dd65cf3",
   "metadata": {},
   "outputs": [
    {
     "data": {
      "text/plain": [
       "5"
      ]
     },
     "execution_count": 28,
     "metadata": {},
     "output_type": "execute_result"
    }
   ],
   "source": [
    "10 >> 1\n",
    "\n",
    "## 1010 --> 0101"
   ]
  },
  {
   "cell_type": "code",
   "execution_count": 30,
   "id": "617a3be4-8b32-4ab7-b59f-aeaa7a880147",
   "metadata": {},
   "outputs": [
    {
     "data": {
      "text/plain": [
       "20"
      ]
     },
     "execution_count": 30,
     "metadata": {},
     "output_type": "execute_result"
    }
   ],
   "source": [
    "10 << 1\n"
   ]
  },
  {
   "cell_type": "markdown",
   "id": "1aea25e1-a249-42e0-b494-d3aa1d65d343",
   "metadata": {},
   "source": [
    "### Strings"
   ]
  },
  {
   "cell_type": "code",
   "execution_count": 32,
   "id": "837bc485-df0c-4265-a0a6-977a2ea40c86",
   "metadata": {},
   "outputs": [
    {
     "data": {
      "text/plain": [
       "'Joy Mohun Bagan A.C. 1889'"
      ]
     },
     "execution_count": 32,
     "metadata": {},
     "output_type": "execute_result"
    }
   ],
   "source": [
    "\"\"\n",
    "''\n",
    "\"Joy Mohun Bagan A.C. 1889\""
   ]
  },
  {
   "cell_type": "code",
   "execution_count": 33,
   "id": "179054f6-a85b-4c8e-8c60-73368ad15923",
   "metadata": {},
   "outputs": [],
   "source": [
    "str1=\"Joy Mohun Bagan A.C. 1889\""
   ]
  },
  {
   "cell_type": "code",
   "execution_count": 34,
   "id": "a96c9d8d-893c-45bd-97fe-40b3fe451d9d",
   "metadata": {},
   "outputs": [
    {
     "data": {
      "text/plain": [
       "str"
      ]
     },
     "execution_count": 34,
     "metadata": {},
     "output_type": "execute_result"
    }
   ],
   "source": [
    "type(str1)"
   ]
  },
  {
   "cell_type": "code",
   "execution_count": 35,
   "id": "a9738f4e-76b9-407b-9fd5-ac4e1549c10e",
   "metadata": {},
   "outputs": [
    {
     "data": {
      "text/plain": [
       "'J'"
      ]
     },
     "execution_count": 35,
     "metadata": {},
     "output_type": "execute_result"
    }
   ],
   "source": [
    "str1[0]"
   ]
  },
  {
   "cell_type": "code",
   "execution_count": 36,
   "id": "be8e6017-0090-4b4b-83cb-990ce90c31bf",
   "metadata": {},
   "outputs": [
    {
     "ename": "NameError",
     "evalue": "name 'J' is not defined",
     "output_type": "error",
     "traceback": [
      "\u001b[0;31m---------------------------------------------------------------------------\u001b[0m",
      "\u001b[0;31mNameError\u001b[0m                                 Traceback (most recent call last)",
      "Cell \u001b[0;32mIn[36], line 1\u001b[0m\n\u001b[0;32m----> 1\u001b[0m str1[\u001b[38;5;241m0\u001b[39m]\u001b[38;5;241m=\u001b[39m\u001b[43mJ\u001b[49m\n",
      "\u001b[0;31mNameError\u001b[0m: name 'J' is not defined"
     ]
    }
   ],
   "source": [
    "str1[0]=J"
   ]
  },
  {
   "cell_type": "code",
   "execution_count": 39,
   "id": "a692e964-ebc0-4d9b-9d42-e987dc2cff38",
   "metadata": {},
   "outputs": [],
   "source": [
    "str1=\"Live Green, Bleed Maroon!\""
   ]
  },
  {
   "cell_type": "code",
   "execution_count": 42,
   "id": "f960a5ab-99b1-482a-a3c7-1632cf018f3e",
   "metadata": {},
   "outputs": [
    {
     "data": {
      "text/plain": [
       "'Live Green, Bleed Maroon!'"
      ]
     },
     "execution_count": 42,
     "metadata": {},
     "output_type": "execute_result"
    }
   ],
   "source": [
    "str1"
   ]
  },
  {
   "cell_type": "code",
   "execution_count": null,
   "id": "884ed15d-c9e9-4235-a3b6-c8b571dc0217",
   "metadata": {},
   "outputs": [],
   "source": [
    "str1."
   ]
  },
  {
   "cell_type": "code",
   "execution_count": 45,
   "id": "aeec3086-de34-4e0c-8f26-71d7e75ed243",
   "metadata": {},
   "outputs": [],
   "source": [
    "welcome_note=\"Hello World\""
   ]
  },
  {
   "cell_type": "code",
   "execution_count": 46,
   "id": "810fae97-556d-4227-a7de-4b7dc27e35f9",
   "metadata": {},
   "outputs": [
    {
     "data": {
      "text/plain": [
       "['__add__',\n",
       " '__class__',\n",
       " '__contains__',\n",
       " '__delattr__',\n",
       " '__dir__',\n",
       " '__doc__',\n",
       " '__eq__',\n",
       " '__format__',\n",
       " '__ge__',\n",
       " '__getattribute__',\n",
       " '__getitem__',\n",
       " '__getnewargs__',\n",
       " '__gt__',\n",
       " '__hash__',\n",
       " '__init__',\n",
       " '__init_subclass__',\n",
       " '__iter__',\n",
       " '__le__',\n",
       " '__len__',\n",
       " '__lt__',\n",
       " '__mod__',\n",
       " '__mul__',\n",
       " '__ne__',\n",
       " '__new__',\n",
       " '__reduce__',\n",
       " '__reduce_ex__',\n",
       " '__repr__',\n",
       " '__rmod__',\n",
       " '__rmul__',\n",
       " '__setattr__',\n",
       " '__sizeof__',\n",
       " '__str__',\n",
       " '__subclasshook__',\n",
       " 'capitalize',\n",
       " 'casefold',\n",
       " 'center',\n",
       " 'count',\n",
       " 'encode',\n",
       " 'endswith',\n",
       " 'expandtabs',\n",
       " 'find',\n",
       " 'format',\n",
       " 'format_map',\n",
       " 'index',\n",
       " 'isalnum',\n",
       " 'isalpha',\n",
       " 'isascii',\n",
       " 'isdecimal',\n",
       " 'isdigit',\n",
       " 'isidentifier',\n",
       " 'islower',\n",
       " 'isnumeric',\n",
       " 'isprintable',\n",
       " 'isspace',\n",
       " 'istitle',\n",
       " 'isupper',\n",
       " 'join',\n",
       " 'ljust',\n",
       " 'lower',\n",
       " 'lstrip',\n",
       " 'maketrans',\n",
       " 'partition',\n",
       " 'removeprefix',\n",
       " 'removesuffix',\n",
       " 'replace',\n",
       " 'rfind',\n",
       " 'rindex',\n",
       " 'rjust',\n",
       " 'rpartition',\n",
       " 'rsplit',\n",
       " 'rstrip',\n",
       " 'split',\n",
       " 'splitlines',\n",
       " 'startswith',\n",
       " 'strip',\n",
       " 'swapcase',\n",
       " 'title',\n",
       " 'translate',\n",
       " 'upper',\n",
       " 'zfill']"
      ]
     },
     "execution_count": 46,
     "metadata": {},
     "output_type": "execute_result"
    }
   ],
   "source": [
    "dir(welcome_note.)"
   ]
  },
  {
   "cell_type": "code",
   "execution_count": 60,
   "id": "aa7f4933-6bd1-4ac4-9341-2f9d8fd379e8",
   "metadata": {},
   "outputs": [],
   "source": [
    "str2=\"Live green, bleed maroon\""
   ]
  },
  {
   "cell_type": "code",
   "execution_count": 61,
   "id": "e7281dea-e144-4d14-83eb-c4e13be06858",
   "metadata": {},
   "outputs": [
    {
     "data": {
      "text/plain": [
       "'g'"
      ]
     },
     "execution_count": 61,
     "metadata": {},
     "output_type": "execute_result"
    }
   ],
   "source": [
    "str2[5]"
   ]
  },
  {
   "cell_type": "code",
   "execution_count": 62,
   "id": "cf0e6e1d-09d8-4c21-9500-4dfe73d4d27e",
   "metadata": {},
   "outputs": [
    {
     "data": {
      "text/plain": [
       "' green, bleed maroon'"
      ]
     },
     "execution_count": 62,
     "metadata": {},
     "output_type": "execute_result"
    }
   ],
   "source": [
    "# slice operation\n",
    "str2[4:]"
   ]
  },
  {
   "cell_type": "code",
   "execution_count": 63,
   "id": "ab5fef34-5e44-49bb-8074-1afd9e66b287",
   "metadata": {},
   "outputs": [
    {
     "data": {
      "text/plain": [
       "'green'"
      ]
     },
     "execution_count": 63,
     "metadata": {},
     "output_type": "execute_result"
    }
   ],
   "source": [
    "str2[5:10]"
   ]
  },
  {
   "cell_type": "code",
   "execution_count": 64,
   "id": "5a98334a-a0af-47e7-88cd-0b19ff89367d",
   "metadata": {},
   "outputs": [
    {
     "data": {
      "text/plain": [
       "'n'"
      ]
     },
     "execution_count": 64,
     "metadata": {},
     "output_type": "execute_result"
    }
   ],
   "source": [
    "str2[-1]"
   ]
  },
  {
   "cell_type": "code",
   "execution_count": 65,
   "id": "151ea5dc-f54b-4d0c-9d70-0e59de0863b5",
   "metadata": {},
   "outputs": [
    {
     "data": {
      "text/plain": [
       "'n'"
      ]
     },
     "execution_count": 65,
     "metadata": {},
     "output_type": "execute_result"
    }
   ],
   "source": [
    "str2[-1:]"
   ]
  },
  {
   "cell_type": "code",
   "execution_count": 67,
   "id": "1113f88f-9e90-412b-b42f-4ce45e369f2c",
   "metadata": {},
   "outputs": [
    {
     "data": {
      "text/plain": [
       "'oon'"
      ]
     },
     "execution_count": 67,
     "metadata": {},
     "output_type": "execute_result"
    }
   ],
   "source": [
    "str2[-3:]"
   ]
  },
  {
   "cell_type": "code",
   "execution_count": 69,
   "id": "5e179b9b-c76a-45d6-b51a-85faff2716a4",
   "metadata": {},
   "outputs": [
    {
     "data": {
      "text/plain": [
       "'maroon'"
      ]
     },
     "execution_count": 69,
     "metadata": {},
     "output_type": "execute_result"
    }
   ],
   "source": [
    "str2[-6:]"
   ]
  },
  {
   "cell_type": "code",
   "execution_count": 71,
   "id": "718c621a-c167-4b2a-b51d-1137ca1cfde3",
   "metadata": {},
   "outputs": [
    {
     "data": {
      "text/plain": [
       "'green'"
      ]
     },
     "execution_count": 71,
     "metadata": {},
     "output_type": "execute_result"
    }
   ],
   "source": [
    "str2[-19:-14]"
   ]
  },
  {
   "cell_type": "code",
   "execution_count": 74,
   "id": "8cafe4e5-9aa3-46f5-a06d-a55a25cd1428",
   "metadata": {},
   "outputs": [
    {
     "data": {
      "text/plain": [
       "'green'"
      ]
     },
     "execution_count": 74,
     "metadata": {},
     "output_type": "execute_result"
    }
   ],
   "source": [
    "str2[-19:10]"
   ]
  },
  {
   "cell_type": "code",
   "execution_count": 80,
   "id": "cdec5e58-8083-431a-a52e-c1c1a61ccbc8",
   "metadata": {},
   "outputs": [
    {
     "data": {
      "text/plain": [
       "'Live green, bleed maroo'"
      ]
     },
     "execution_count": 80,
     "metadata": {},
     "output_type": "execute_result"
    }
   ],
   "source": [
    "str2[:-1]"
   ]
  },
  {
   "cell_type": "code",
   "execution_count": 81,
   "id": "105623e4-e6f7-44f3-bd1f-939ed2271900",
   "metadata": {},
   "outputs": [
    {
     "data": {
      "text/plain": [
       "'Live green, bleed maroon'"
      ]
     },
     "execution_count": 81,
     "metadata": {},
     "output_type": "execute_result"
    }
   ],
   "source": [
    "str2[:]"
   ]
  },
  {
   "cell_type": "code",
   "execution_count": 82,
   "id": "9003ca09-315f-475b-b4c6-f7c7ce2320d5",
   "metadata": {},
   "outputs": [],
   "source": [
    "nation=\"England\""
   ]
  },
  {
   "cell_type": "code",
   "execution_count": 83,
   "id": "a044ec8c-f613-4b20-a580-01f9c0546fe3",
   "metadata": {},
   "outputs": [
    {
     "data": {
      "text/plain": [
       "'g'"
      ]
     },
     "execution_count": 83,
     "metadata": {},
     "output_type": "execute_result"
    }
   ],
   "source": [
    "nation[-5]"
   ]
  },
  {
   "cell_type": "code",
   "execution_count": 84,
   "id": "50efe141-87d9-4f23-ac15-7c30dd281880",
   "metadata": {},
   "outputs": [
    {
     "data": {
      "text/plain": [
       "'and'"
      ]
     },
     "execution_count": 84,
     "metadata": {},
     "output_type": "execute_result"
    }
   ],
   "source": [
    "nation[-3:]"
   ]
  },
  {
   "cell_type": "code",
   "execution_count": 87,
   "id": "dd049e60-395f-4c7c-9cb1-484a34be6118",
   "metadata": {},
   "outputs": [
    {
     "data": {
      "text/plain": [
       "'gl'"
      ]
     },
     "execution_count": 87,
     "metadata": {},
     "output_type": "execute_result"
    }
   ],
   "source": [
    "nation[-5:4]"
   ]
  },
  {
   "cell_type": "code",
   "execution_count": 89,
   "id": "fa750281-7250-4d55-89ea-4c4c712f353b",
   "metadata": {},
   "outputs": [
    {
     "data": {
      "text/plain": [
       "''"
      ]
     },
     "execution_count": 89,
     "metadata": {},
     "output_type": "execute_result"
    }
   ],
   "source": [
    "nation[-5:2]"
   ]
  },
  {
   "cell_type": "code",
   "execution_count": 90,
   "id": "81defc5b-d9dd-46a3-8c5b-e7fc9565f91c",
   "metadata": {},
   "outputs": [
    {
     "data": {
      "text/plain": [
       "'England'"
      ]
     },
     "execution_count": 90,
     "metadata": {},
     "output_type": "execute_result"
    }
   ],
   "source": [
    "nation[::]"
   ]
  },
  {
   "cell_type": "code",
   "execution_count": 91,
   "id": "24d8a6a6-ccda-4ffe-97fb-dc0ce4c09896",
   "metadata": {},
   "outputs": [
    {
     "data": {
      "text/plain": [
       "'dnalgnE'"
      ]
     },
     "execution_count": 91,
     "metadata": {},
     "output_type": "execute_result"
    }
   ],
   "source": [
    "nation[::-1]\n",
    "\n",
    "# every 1 element"
   ]
  },
  {
   "cell_type": "code",
   "execution_count": 97,
   "id": "872cf85f-7395-4a6e-b890-9c0de6733c26",
   "metadata": {},
   "outputs": [
    {
     "data": {
      "text/plain": [
       "'dagE'"
      ]
     },
     "execution_count": 97,
     "metadata": {},
     "output_type": "execute_result"
    }
   ],
   "source": [
    "nation[::-2]\n",
    "\n",
    "# Every 2nd element"
   ]
  },
  {
   "cell_type": "code",
   "execution_count": 99,
   "id": "1da9bff0-ca9c-406e-8b3a-9f18e13e3a45",
   "metadata": {},
   "outputs": [
    {
     "data": {
      "text/plain": [
       "'dlE'"
      ]
     },
     "execution_count": 99,
     "metadata": {},
     "output_type": "execute_result"
    }
   ],
   "source": [
    "nation[::-3]\n",
    "\n",
    "# Every 3rd element\n",
    "## it is step size"
   ]
  },
  {
   "cell_type": "code",
   "execution_count": null,
   "id": "627054dc-141b-4162-915e-b58d27514f7b",
   "metadata": {},
   "outputs": [],
   "source": []
  },
  {
   "cell_type": "code",
   "execution_count": 113,
   "id": "ce39e518-cd29-4edb-86e7-24a712d111cc",
   "metadata": {},
   "outputs": [],
   "source": [
    "str3=\"0123456789\""
   ]
  },
  {
   "cell_type": "code",
   "execution_count": 135,
   "id": "96d4789f-d0f4-48ba-8a12-556dfb7337fe",
   "metadata": {},
   "outputs": [
    {
     "data": {
      "text/plain": [
       "'0'"
      ]
     },
     "execution_count": 135,
     "metadata": {},
     "output_type": "execute_result"
    }
   ],
   "source": [
    "str3[0]"
   ]
  },
  {
   "cell_type": "code",
   "execution_count": 136,
   "id": "f28c4baf-8ef0-49c7-a204-192c1714a654",
   "metadata": {},
   "outputs": [
    {
     "data": {
      "text/plain": [
       "'9'"
      ]
     },
     "execution_count": 136,
     "metadata": {},
     "output_type": "execute_result"
    }
   ],
   "source": [
    "str3[-1]"
   ]
  },
  {
   "cell_type": "code",
   "execution_count": 114,
   "id": "87cebf5a-7f7f-474f-9828-03f3f33dce62",
   "metadata": {},
   "outputs": [
    {
     "data": {
      "text/plain": [
       "'97531'"
      ]
     },
     "execution_count": 114,
     "metadata": {},
     "output_type": "execute_result"
    }
   ],
   "source": [
    "str3[::-2]"
   ]
  },
  {
   "cell_type": "code",
   "execution_count": 115,
   "id": "44ab9efe-73cb-4b1b-ad8e-fae0eef05f39",
   "metadata": {},
   "outputs": [
    {
     "data": {
      "text/plain": [
       "'975'"
      ]
     },
     "execution_count": 115,
     "metadata": {},
     "output_type": "execute_result"
    }
   ],
   "source": [
    "str3[10:4:-2]"
   ]
  },
  {
   "cell_type": "code",
   "execution_count": 116,
   "id": "78c49b9b-6591-436f-ba66-a611dc2716b7",
   "metadata": {},
   "outputs": [
    {
     "data": {
      "text/plain": [
       "'96'"
      ]
     },
     "execution_count": 116,
     "metadata": {},
     "output_type": "execute_result"
    }
   ],
   "source": [
    "str3[10:4:-3]"
   ]
  },
  {
   "cell_type": "code",
   "execution_count": 117,
   "id": "c07f1996-8b4f-4c7f-b9c4-0debc73144bf",
   "metadata": {},
   "outputs": [
    {
     "data": {
      "text/plain": [
       "'543210'"
      ]
     },
     "execution_count": 117,
     "metadata": {},
     "output_type": "execute_result"
    }
   ],
   "source": [
    "str3[5::-1]"
   ]
  },
  {
   "cell_type": "code",
   "execution_count": 118,
   "id": "6c661073-f7a3-4e6b-9cca-9d5fee7eeb5f",
   "metadata": {},
   "outputs": [],
   "source": [
    "pwdsm=\"Data Science Masters\""
   ]
  },
  {
   "cell_type": "code",
   "execution_count": 130,
   "id": "669238cd-3526-49eb-a49b-539d19de493c",
   "metadata": {},
   "outputs": [
    {
     "data": {
      "text/plain": [
       "'Science'"
      ]
     },
     "execution_count": 130,
     "metadata": {},
     "output_type": "execute_result"
    }
   ],
   "source": [
    "pwdsm[5:12:1]"
   ]
  },
  {
   "cell_type": "code",
   "execution_count": 128,
   "id": "0192d812-93e7-4eec-84de-890fa4296cf5",
   "metadata": {},
   "outputs": [
    {
     "data": {
      "text/plain": [
       "'ecneicS'"
      ]
     },
     "execution_count": 128,
     "metadata": {},
     "output_type": "execute_result"
    }
   ],
   "source": [
    "pwdsm[-9:-16:-1]"
   ]
  },
  {
   "cell_type": "code",
   "execution_count": 131,
   "id": "a56c80dc-0d87-415d-b17f-1866f96d0200",
   "metadata": {},
   "outputs": [
    {
     "data": {
      "text/plain": [
       "'ecneicS'"
      ]
     },
     "execution_count": 131,
     "metadata": {},
     "output_type": "execute_result"
    }
   ],
   "source": [
    "pwdsm[11:4:-1]"
   ]
  },
  {
   "cell_type": "code",
   "execution_count": 133,
   "id": "34617cfc-f127-4bb5-a727-c8c144bca284",
   "metadata": {},
   "outputs": [
    {
     "data": {
      "text/plain": [
       "'D'"
      ]
     },
     "execution_count": 133,
     "metadata": {},
     "output_type": "execute_result"
    }
   ],
   "source": [
    "pwdsm[0]"
   ]
  },
  {
   "cell_type": "code",
   "execution_count": 134,
   "id": "70bccdc1-2313-462f-aa23-3582928e141b",
   "metadata": {},
   "outputs": [
    {
     "data": {
      "text/plain": [
       "'s'"
      ]
     },
     "execution_count": 134,
     "metadata": {},
     "output_type": "execute_result"
    }
   ],
   "source": [
    "pwdsm[-1]"
   ]
  },
  {
   "cell_type": "code",
   "execution_count": 140,
   "id": "ed6eab97-f517-403e-96da-8b082e2832fe",
   "metadata": {},
   "outputs": [
    {
     "data": {
      "text/plain": [
       "'Data Science MastersPWSkills'"
      ]
     },
     "execution_count": 140,
     "metadata": {},
     "output_type": "execute_result"
    }
   ],
   "source": [
    "pwdsm + \"PWSkills\"\n",
    "\n",
    "# concatenation"
   ]
  },
  {
   "cell_type": "code",
   "execution_count": 141,
   "id": "6562286b-8503-4653-900f-7042c90d051c",
   "metadata": {},
   "outputs": [
    {
     "name": "stdout",
     "output_type": "stream",
     "text": [
      "Hey there!!\n"
     ]
    }
   ],
   "source": [
    "print(\"Hey\"+\" there!!\")"
   ]
  },
  {
   "cell_type": "code",
   "execution_count": 144,
   "id": "727c6095-42ff-44d2-9be7-0f0cda261d6d",
   "metadata": {},
   "outputs": [
    {
     "data": {
      "text/plain": [
       "'Data Science MastersData Science Masters'"
      ]
     },
     "execution_count": 144,
     "metadata": {},
     "output_type": "execute_result"
    }
   ],
   "source": [
    "pwdsm*2"
   ]
  },
  {
   "cell_type": "code",
   "execution_count": 145,
   "id": "65d78860-8529-4581-930c-ff4b4287baa4",
   "metadata": {},
   "outputs": [
    {
     "data": {
      "text/plain": [
       "20"
      ]
     },
     "execution_count": 145,
     "metadata": {},
     "output_type": "execute_result"
    }
   ],
   "source": [
    "len(pwdsm)"
   ]
  },
  {
   "cell_type": "code",
   "execution_count": 149,
   "id": "4d3b1f11-5687-488a-b104-88287e58d2f7",
   "metadata": {},
   "outputs": [
    {
     "data": {
      "text/plain": [
       "0"
      ]
     },
     "execution_count": 149,
     "metadata": {},
     "output_type": "execute_result"
    }
   ],
   "source": [
    "# find function\n",
    "\n",
    "pwdsm.find(\"D\")"
   ]
  },
  {
   "cell_type": "code",
   "execution_count": 150,
   "id": "09f60767-4682-4d28-b1cf-223f7cf0c0b8",
   "metadata": {},
   "outputs": [
    {
     "data": {
      "text/plain": [
       "1"
      ]
     },
     "execution_count": 150,
     "metadata": {},
     "output_type": "execute_result"
    }
   ],
   "source": [
    "pwdsm.find(\"a\")"
   ]
  },
  {
   "cell_type": "code",
   "execution_count": 153,
   "id": "dfb83dc9-5cd9-4e9e-a5e8-1c8deb4f97d7",
   "metadata": {},
   "outputs": [
    {
     "data": {
      "text/plain": [
       "14"
      ]
     },
     "execution_count": 153,
     "metadata": {},
     "output_type": "execute_result"
    }
   ],
   "source": [
    "pwdsm.find(\"a\",10,17)"
   ]
  },
  {
   "cell_type": "code",
   "execution_count": null,
   "id": "a3677601-ea7f-4227-a377-401199fa0d9a",
   "metadata": {},
   "outputs": [],
   "source": []
  },
  {
   "cell_type": "code",
   "execution_count": 154,
   "id": "abb1aac8-7e89-47d0-8988-1e9d74ccc520",
   "metadata": {},
   "outputs": [
    {
     "data": {
      "text/plain": [
       "-1"
      ]
     },
     "execution_count": 154,
     "metadata": {},
     "output_type": "execute_result"
    }
   ],
   "source": [
    "pwdsm.find(\"z\")"
   ]
  },
  {
   "cell_type": "code",
   "execution_count": 155,
   "id": "bd43bd90-4165-4549-9d3a-15fd4b929405",
   "metadata": {},
   "outputs": [
    {
     "data": {
      "text/plain": [
       "3"
      ]
     },
     "execution_count": 155,
     "metadata": {},
     "output_type": "execute_result"
    }
   ],
   "source": [
    "## count()\n",
    "pwdsm.count('a')"
   ]
  },
  {
   "cell_type": "code",
   "execution_count": 156,
   "id": "f4019838-2ecc-43cd-adb4-5673ffdeac46",
   "metadata": {},
   "outputs": [
    {
     "data": {
      "text/plain": [
       "2"
      ]
     },
     "execution_count": 156,
     "metadata": {},
     "output_type": "execute_result"
    }
   ],
   "source": [
    "pwdsm.count(\" \")"
   ]
  },
  {
   "cell_type": "code",
   "execution_count": 157,
   "id": "c6ef876c-b6d4-4453-8750-0554abb62e84",
   "metadata": {},
   "outputs": [
    {
     "data": {
      "text/plain": [
       "21"
      ]
     },
     "execution_count": 157,
     "metadata": {},
     "output_type": "execute_result"
    }
   ],
   "source": [
    "pwdsm.count(\"\")"
   ]
  },
  {
   "cell_type": "code",
   "execution_count": 158,
   "id": "23edf8eb-3229-4b72-97f4-9d28706eb6f0",
   "metadata": {},
   "outputs": [
    {
     "data": {
      "text/plain": [
       "2"
      ]
     },
     "execution_count": 158,
     "metadata": {},
     "output_type": "execute_result"
    }
   ],
   "source": [
    "pwdsm.count(\"a\",0,5)"
   ]
  },
  {
   "cell_type": "code",
   "execution_count": 162,
   "id": "b147d6fd-e924-4e79-9275-40756e95b69b",
   "metadata": {},
   "outputs": [
    {
     "data": {
      "text/plain": [
       "1"
      ]
     },
     "execution_count": 162,
     "metadata": {},
     "output_type": "execute_result"
    }
   ],
   "source": [
    "pwdsm.count(\"Science\")"
   ]
  },
  {
   "cell_type": "code",
   "execution_count": 163,
   "id": "9fe5d559-fe36-48d7-9825-23f550f67651",
   "metadata": {},
   "outputs": [
    {
     "data": {
      "text/plain": [
       "['Data', 'Science', 'Masters']"
      ]
     },
     "execution_count": 163,
     "metadata": {},
     "output_type": "execute_result"
    }
   ],
   "source": [
    "pwdsm.split(\" \")"
   ]
  },
  {
   "cell_type": "code",
   "execution_count": 194,
   "id": "6df54fcd-91f8-41ac-a921-d3bd4fd0707f",
   "metadata": {},
   "outputs": [
    {
     "data": {
      "text/plain": [
       "['D', 't', ' Science M', 'sters']"
      ]
     },
     "execution_count": 194,
     "metadata": {},
     "output_type": "execute_result"
    }
   ],
   "source": [
    "pwdsm.split(\"a\")"
   ]
  },
  {
   "cell_type": "code",
   "execution_count": 196,
   "id": "2f190bfe-2fbb-4db5-bda9-066e61bee11a",
   "metadata": {},
   "outputs": [
    {
     "data": {
      "text/plain": [
       "('D', 'a', 'ta Science Masters')"
      ]
     },
     "execution_count": 196,
     "metadata": {},
     "output_type": "execute_result"
    }
   ],
   "source": [
    "pwdsm.partition(\"a\")"
   ]
  },
  {
   "cell_type": "code",
   "execution_count": 197,
   "id": "7118be1b-ed39-4f95-8af4-78ea4edfabc0",
   "metadata": {},
   "outputs": [
    {
     "data": {
      "text/plain": [
       "'DATA SCIENCE MASTERS'"
      ]
     },
     "execution_count": 197,
     "metadata": {},
     "output_type": "execute_result"
    }
   ],
   "source": [
    "## String upper case\n",
    "pwdsm.upper()"
   ]
  },
  {
   "cell_type": "code",
   "execution_count": 2,
   "id": "2127efac-bc68-4ea3-a469-df752e0bd1df",
   "metadata": {},
   "outputs": [
    {
     "data": {
      "text/plain": [
       "'data science masters'"
      ]
     },
     "execution_count": 2,
     "metadata": {},
     "output_type": "execute_result"
    }
   ],
   "source": [
    "## String Lower case\n",
    "pwdsm=\"Data Science Masters\"\n",
    "pwdsm.lower()"
   ]
  },
  {
   "cell_type": "code",
   "execution_count": 3,
   "id": "a7bfa044-f098-4908-8c84-ee810b28c50b",
   "metadata": {},
   "outputs": [
    {
     "data": {
      "text/plain": [
       "'dATA sCIENCE mASTERS'"
      ]
     },
     "execution_count": 3,
     "metadata": {},
     "output_type": "execute_result"
    }
   ],
   "source": [
    "pwdsm.swapcase()"
   ]
  },
  {
   "cell_type": "code",
   "execution_count": 4,
   "id": "d3d5031f-31e3-4d0a-b146-d4fc01e6ff75",
   "metadata": {},
   "outputs": [
    {
     "data": {
      "text/plain": [
       "'West Bengal'"
      ]
     },
     "execution_count": 4,
     "metadata": {},
     "output_type": "execute_result"
    }
   ],
   "source": [
    "state=\"west bengal\"\n",
    "state.title()"
   ]
  },
  {
   "cell_type": "code",
   "execution_count": 6,
   "id": "d6b83efb-4ace-48de-ae28-2b4489087481",
   "metadata": {},
   "outputs": [
    {
     "data": {
      "text/plain": [
       "3"
      ]
     },
     "execution_count": 6,
     "metadata": {},
     "output_type": "execute_result"
    }
   ],
   "source": [
    "pwdsm.upper().count('E')"
   ]
  },
  {
   "cell_type": "code",
   "execution_count": null,
   "id": "e7949c7e-ed32-41cb-815e-7a9d969d99d9",
   "metadata": {},
   "outputs": [],
   "source": []
  }
 ],
 "metadata": {
  "kernelspec": {
   "display_name": "Python 3 (ipykernel)",
   "language": "python",
   "name": "python3"
  },
  "language_info": {
   "codemirror_mode": {
    "name": "ipython",
    "version": 3
   },
   "file_extension": ".py",
   "mimetype": "text/x-python",
   "name": "python",
   "nbconvert_exporter": "python",
   "pygments_lexer": "ipython3",
   "version": "3.10.8"
  }
 },
 "nbformat": 4,
 "nbformat_minor": 5
}
