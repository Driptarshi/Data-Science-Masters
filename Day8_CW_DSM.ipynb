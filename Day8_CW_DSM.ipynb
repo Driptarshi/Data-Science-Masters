{
 "cells": [
  {
   "cell_type": "markdown",
   "id": "2c8bb66f-b32b-4be3-b23c-6f82daccbfcd",
   "metadata": {},
   "source": [
    "## Day_8_CW_PWDSM\n",
    "## 5th Feb'23 OOPS"
   ]
  },
  {
   "cell_type": "markdown",
   "id": "e78ae18a-24d9-4896-8852-e2f288cdd0ae",
   "metadata": {},
   "source": [
    "### OOPS"
   ]
  },
  {
   "cell_type": "markdown",
   "id": "0d7117d8-9144-4f67-a1ec-1c8a962807c7",
   "metadata": {},
   "source": [
    "\"OOPS\" stands for Object Oriented Programming System"
   ]
  },
  {
   "cell_type": "code",
   "execution_count": 1,
   "id": "1a937fe2-3595-4231-87ac-722ac9b55e41",
   "metadata": {},
   "outputs": [],
   "source": [
    "a=1"
   ]
  },
  {
   "cell_type": "code",
   "execution_count": 2,
   "id": "64c75d0f-a8df-4b70-9a30-3404eaa8bc69",
   "metadata": {},
   "outputs": [
    {
     "name": "stdout",
     "output_type": "stream",
     "text": [
      "<class 'int'>\n"
     ]
    }
   ],
   "source": [
    "print(type(a))"
   ]
  },
  {
   "cell_type": "code",
   "execution_count": 3,
   "id": "e2a8f5d0-6f2a-4e44-8837-ca61ef8fe8f3",
   "metadata": {},
   "outputs": [
    {
     "name": "stdout",
     "output_type": "stream",
     "text": [
      "<class 'str'>\n"
     ]
    }
   ],
   "source": [
    "print(type(\"qwerty\"))"
   ]
  },
  {
   "cell_type": "code",
   "execution_count": 4,
   "id": "128bd7bc-46e0-4910-8593-35611ad66afa",
   "metadata": {},
   "outputs": [
    {
     "ename": "SyntaxError",
     "evalue": "incomplete input (830330367.py, line 3)",
     "output_type": "error",
     "traceback": [
      "\u001b[0;36m  Cell \u001b[0;32mIn[4], line 3\u001b[0;36m\u001b[0m\n\u001b[0;31m    \u001b[0m\n\u001b[0m    ^\u001b[0m\n\u001b[0;31mSyntaxError\u001b[0m\u001b[0;31m:\u001b[0m incomplete input\n"
     ]
    }
   ],
   "source": [
    "class test:\n",
    "    \n",
    "    "
   ]
  },
  {
   "cell_type": "code",
   "execution_count": 5,
   "id": "9a092985-6ca6-4b57-b42b-a83ccac331d3",
   "metadata": {},
   "outputs": [],
   "source": [
    "class test:\n",
    "    pass"
   ]
  },
  {
   "cell_type": "code",
   "execution_count": 6,
   "id": "377bf7ab-6415-4992-adc9-4933796ccf02",
   "metadata": {},
   "outputs": [],
   "source": [
    "a=test()"
   ]
  },
  {
   "cell_type": "code",
   "execution_count": 7,
   "id": "a8d1269f-b0bd-4d56-a3c8-cdebbb2e9a02",
   "metadata": {},
   "outputs": [
    {
     "data": {
      "text/plain": [
       "__main__.test"
      ]
     },
     "execution_count": 7,
     "metadata": {},
     "output_type": "execute_result"
    }
   ],
   "source": [
    "type(a)"
   ]
  },
  {
   "cell_type": "code",
   "execution_count": 8,
   "id": "eeee4ee9-2938-4823-ab02-42dafd4bafee",
   "metadata": {},
   "outputs": [
    {
     "name": "stdout",
     "output_type": "stream",
     "text": [
      "<class '__main__.test'>\n"
     ]
    }
   ],
   "source": [
    "print(type(a))"
   ]
  },
  {
   "cell_type": "code",
   "execution_count": 9,
   "id": "ad58a08e-3016-43a6-93f5-113f8c63b887",
   "metadata": {},
   "outputs": [],
   "source": [
    "class University_of_Calcutta:\n",
    "    \n",
    "    def welcome_message():\n",
    "        print(\"Welcome to Baansh Bagan\")"
   ]
  },
  {
   "cell_type": "code",
   "execution_count": 10,
   "id": "c9757059-8f0a-446d-ad61-22e5860d3b3b",
   "metadata": {},
   "outputs": [],
   "source": [
    "drip = University_of_Calcutta()"
   ]
  },
  {
   "cell_type": "code",
   "execution_count": 11,
   "id": "213885ae-9dd9-4ee7-9558-4febf5dc4208",
   "metadata": {},
   "outputs": [
    {
     "ename": "TypeError",
     "evalue": "University_of_Calcutta.welcome_message() takes 0 positional arguments but 1 was given",
     "output_type": "error",
     "traceback": [
      "\u001b[0;31m---------------------------------------------------------------------------\u001b[0m",
      "\u001b[0;31mTypeError\u001b[0m                                 Traceback (most recent call last)",
      "Cell \u001b[0;32mIn[11], line 1\u001b[0m\n\u001b[0;32m----> 1\u001b[0m \u001b[43mdrip\u001b[49m\u001b[38;5;241;43m.\u001b[39;49m\u001b[43mwelcome_message\u001b[49m\u001b[43m(\u001b[49m\u001b[43m)\u001b[49m\n",
      "\u001b[0;31mTypeError\u001b[0m: University_of_Calcutta.welcome_message() takes 0 positional arguments but 1 was given"
     ]
    }
   ],
   "source": [
    "drip.welcome_message()"
   ]
  },
  {
   "cell_type": "code",
   "execution_count": 12,
   "id": "aedd2041-b44a-4e27-a4b7-ec5b7f649a3e",
   "metadata": {},
   "outputs": [],
   "source": [
    "class University_of_Calcutta:\n",
    "    \n",
    "    def welcome_message(self):\n",
    "        print(\"Welcome to Baansh Bagan\")"
   ]
  },
  {
   "cell_type": "code",
   "execution_count": 15,
   "id": "3d3d7046-8dee-4394-959e-c3b8f9464edf",
   "metadata": {},
   "outputs": [],
   "source": [
    "drip = University_of_Calcutta()"
   ]
  },
  {
   "cell_type": "code",
   "execution_count": 16,
   "id": "c3d9d119-fb93-4751-91a2-78520dfe2e4f",
   "metadata": {},
   "outputs": [
    {
     "name": "stdout",
     "output_type": "stream",
     "text": [
      "Welcome to Baansh Bagan\n"
     ]
    }
   ],
   "source": [
    "drip.welcome_message()"
   ]
  },
  {
   "cell_type": "code",
   "execution_count": 19,
   "id": "6a00c5b7-ba12-49ba-a73c-cf90c7739320",
   "metadata": {},
   "outputs": [],
   "source": [
    "anshu = University_of_Calcutta()"
   ]
  },
  {
   "cell_type": "code",
   "execution_count": 20,
   "id": "f8b2691d-5ad4-4bb7-bd9c-9d803a27684c",
   "metadata": {},
   "outputs": [
    {
     "name": "stdout",
     "output_type": "stream",
     "text": [
      "Welcome to Baansh Bagan\n"
     ]
    }
   ],
   "source": [
    "anshu.welcome_message()"
   ]
  },
  {
   "cell_type": "code",
   "execution_count": 21,
   "id": "fffabafb-c06a-4d51-85fa-4cd7c43eb9da",
   "metadata": {},
   "outputs": [],
   "source": [
    "a=1"
   ]
  },
  {
   "cell_type": "code",
   "execution_count": 22,
   "id": "332b66da-23af-4fbe-8122-3a861c106f10",
   "metadata": {},
   "outputs": [],
   "source": [
    "b=2"
   ]
  },
  {
   "cell_type": "code",
   "execution_count": 23,
   "id": "b8d9e5cc-d634-4b91-894a-d33cd0dcb1df",
   "metadata": {},
   "outputs": [],
   "source": [
    "class University_of_Calcutta_College_sq():\n",
    "    \n",
    "    def __init__(self, phone_number, email_id, registration_no):\n",
    "        self.phone_number = phone_number\n",
    "        self.email_id = email_id\n",
    "        self.registration_no = registration_no\n",
    "        \n",
    "    def return_student_details(self):\n",
    "        return self.phone_number , self.email_id , self.registration_no"
   ]
  },
  {
   "cell_type": "code",
   "execution_count": 24,
   "id": "fbbe77b1-338b-4573-a8f8-1051f6ecf1ae",
   "metadata": {},
   "outputs": [
    {
     "ename": "TypeError",
     "evalue": "University_of_Calcutta_College_sq.__init__() missing 3 required positional arguments: 'phone_number', 'email_id', and 'registration_no'",
     "output_type": "error",
     "traceback": [
      "\u001b[0;31m---------------------------------------------------------------------------\u001b[0m",
      "\u001b[0;31mTypeError\u001b[0m                                 Traceback (most recent call last)",
      "Cell \u001b[0;32mIn[24], line 1\u001b[0m\n\u001b[0;32m----> 1\u001b[0m drip \u001b[38;5;241m=\u001b[39m \u001b[43mUniversity_of_Calcutta_College_sq\u001b[49m\u001b[43m(\u001b[49m\u001b[43m)\u001b[49m\n",
      "\u001b[0;31mTypeError\u001b[0m: University_of_Calcutta_College_sq.__init__() missing 3 required positional arguments: 'phone_number', 'email_id', and 'registration_no'"
     ]
    }
   ],
   "source": [
    "drip = University_of_Calcutta_College_sq()"
   ]
  },
  {
   "cell_type": "code",
   "execution_count": 25,
   "id": "7e86eedf-c776-4b2c-a876-17180e4abeea",
   "metadata": {},
   "outputs": [],
   "source": [
    "drip = University_of_Calcutta_College_sq(9007484000,\"drip@gmail.com\",201700007)"
   ]
  },
  {
   "cell_type": "code",
   "execution_count": 26,
   "id": "a1fb5f52-a6a0-4a25-a586-4262d91173b3",
   "metadata": {},
   "outputs": [
    {
     "data": {
      "text/plain": [
       "'drip@gmail.com'"
      ]
     },
     "execution_count": 26,
     "metadata": {},
     "output_type": "execute_result"
    }
   ],
   "source": [
    "drip.email_id"
   ]
  },
  {
   "cell_type": "code",
   "execution_count": 27,
   "id": "f21f244c-d8a8-4fbb-96cf-10a0c068ed56",
   "metadata": {},
   "outputs": [
    {
     "data": {
      "text/plain": [
       "9007484000"
      ]
     },
     "execution_count": 27,
     "metadata": {},
     "output_type": "execute_result"
    }
   ],
   "source": [
    "drip.phone_number"
   ]
  },
  {
   "cell_type": "code",
   "execution_count": 28,
   "id": "11be83e4-7c07-40ca-b417-3f7d2c4409a7",
   "metadata": {},
   "outputs": [
    {
     "data": {
      "text/plain": [
       "201700007"
      ]
     },
     "execution_count": 28,
     "metadata": {},
     "output_type": "execute_result"
    }
   ],
   "source": [
    "drip.registration_no"
   ]
  },
  {
   "cell_type": "code",
   "execution_count": 29,
   "id": "6f116d69-3abd-44e4-a3fa-5622cf07a5d5",
   "metadata": {},
   "outputs": [
    {
     "data": {
      "text/plain": [
       "(9007484000, 'drip@gmail.com', 201700007)"
      ]
     },
     "execution_count": 29,
     "metadata": {},
     "output_type": "execute_result"
    }
   ],
   "source": [
    "drip.return_student_details()"
   ]
  },
  {
   "cell_type": "code",
   "execution_count": 30,
   "id": "fe06d1a4-d6ca-43ac-bc89-0d91f28de58f",
   "metadata": {},
   "outputs": [],
   "source": [
    "anshu = University_of_Calcutta_College_sq(9007484001,\"anshu@gmail.com\",201700017)"
   ]
  },
  {
   "cell_type": "code",
   "execution_count": 31,
   "id": "ff42a324-c0d8-4e63-8df4-9af6d69edd44",
   "metadata": {},
   "outputs": [
    {
     "data": {
      "text/plain": [
       "9007484001"
      ]
     },
     "execution_count": 31,
     "metadata": {},
     "output_type": "execute_result"
    }
   ],
   "source": [
    "anshu.phone_number"
   ]
  },
  {
   "cell_type": "code",
   "execution_count": 32,
   "id": "d9c950f4-1d9c-4623-995e-86d3fddb2ca5",
   "metadata": {},
   "outputs": [
    {
     "data": {
      "text/plain": [
       "201700017"
      ]
     },
     "execution_count": 32,
     "metadata": {},
     "output_type": "execute_result"
    }
   ],
   "source": [
    "anshu.registration_no"
   ]
  },
  {
   "cell_type": "code",
   "execution_count": 33,
   "id": "2d7366a6-ec9c-46f7-aa1c-ac66ca84f744",
   "metadata": {},
   "outputs": [
    {
     "data": {
      "text/plain": [
       "'anshu@gmail.com'"
      ]
     },
     "execution_count": 33,
     "metadata": {},
     "output_type": "execute_result"
    }
   ],
   "source": [
    "anshu.email_id"
   ]
  },
  {
   "cell_type": "code",
   "execution_count": 35,
   "id": "459fa420-da4c-48ba-acb5-b35c8a9b8f55",
   "metadata": {},
   "outputs": [
    {
     "data": {
      "text/plain": [
       "(9007484001, 'anshu@gmail.com', 201700017)"
      ]
     },
     "execution_count": 35,
     "metadata": {},
     "output_type": "execute_result"
    }
   ],
   "source": [
    "anshu.return_student_details()"
   ]
  },
  {
   "cell_type": "code",
   "execution_count": 37,
   "id": "edd74757-1a43-4392-8c1e-1eb2e03e2908",
   "metadata": {},
   "outputs": [],
   "source": [
    "class University_of_Calcutta_Rajabazar():\n",
    "    \n",
    "    def __init__(drip, phone_number, email_id, registration_no):\n",
    "        drip.phone_number = phone_number\n",
    "        drip.email_id = email_id\n",
    "        drip.registration_no = registration_no\n",
    "        \n",
    "    def return_student_details(drip):\n",
    "        return drip.phone_number , drip.email_id , drip.registration_no"
   ]
  },
  {
   "cell_type": "code",
   "execution_count": 38,
   "id": "f373f2bd-3dc4-4405-b1b6-0c67c6c3c91e",
   "metadata": {},
   "outputs": [],
   "source": [
    "rahul = University_of_Calcutta_Rajabazar(9007484002,\"rahul@gmail.com\",201700018)"
   ]
  },
  {
   "cell_type": "code",
   "execution_count": 39,
   "id": "61a5bf27-20cf-4050-9710-de604028f298",
   "metadata": {},
   "outputs": [
    {
     "data": {
      "text/plain": [
       "9007484002"
      ]
     },
     "execution_count": 39,
     "metadata": {},
     "output_type": "execute_result"
    }
   ],
   "source": [
    "rahul.phone_number"
   ]
  },
  {
   "cell_type": "code",
   "execution_count": 40,
   "id": "c3ff9b1e-4ff0-4808-9a77-87bd46a55490",
   "metadata": {},
   "outputs": [
    {
     "data": {
      "text/plain": [
       "'rahul@gmail.com'"
      ]
     },
     "execution_count": 40,
     "metadata": {},
     "output_type": "execute_result"
    }
   ],
   "source": [
    "rahul.email_id"
   ]
  },
  {
   "cell_type": "code",
   "execution_count": 41,
   "id": "c0f10bb0-a52c-4c5f-87ea-6edaf030b534",
   "metadata": {},
   "outputs": [
    {
     "data": {
      "text/plain": [
       "201700018"
      ]
     },
     "execution_count": 41,
     "metadata": {},
     "output_type": "execute_result"
    }
   ],
   "source": [
    "rahul.registration_no"
   ]
  },
  {
   "cell_type": "code",
   "execution_count": 44,
   "id": "2667dad4-3bee-4640-9bb1-adda5ab9b588",
   "metadata": {},
   "outputs": [
    {
     "data": {
      "text/plain": [
       "(9007484002, 'rahul@gmail.com', 201700018)"
      ]
     },
     "execution_count": 44,
     "metadata": {},
     "output_type": "execute_result"
    }
   ],
   "source": [
    "rahul.return_student_details()"
   ]
  },
  {
   "cell_type": "code",
   "execution_count": 45,
   "id": "0a6e5e81-54d4-46b3-b795-f4ec68a09d87",
   "metadata": {},
   "outputs": [],
   "source": [
    "class University_of_Calcutta_Ballygaunge():\n",
    "    \n",
    "    def __init__(drip, phone_number, email_id, registration_no):\n",
    "        drip.phone_number = phone_number\n",
    "        drip.email_id = email_id\n",
    "        drip.registration_no = registration_no\n",
    "        \n",
    "    def return_student_details(drip):\n",
    "        return drip.phone_number , drip.email_id , drip.registration_no"
   ]
  },
  {
   "cell_type": "code",
   "execution_count": 46,
   "id": "5385745c-197d-4987-b3bc-93b95b9dd3c5",
   "metadata": {},
   "outputs": [],
   "source": [
    "anshu = University_of_Calcutta_Ballygaunge(9007484001,\"anshu@gmail.com\",201700017)"
   ]
  },
  {
   "cell_type": "code",
   "execution_count": 47,
   "id": "044091aa-0999-49b8-8b8f-bea23fc0fa4d",
   "metadata": {},
   "outputs": [
    {
     "data": {
      "text/plain": [
       "9007484001"
      ]
     },
     "execution_count": 47,
     "metadata": {},
     "output_type": "execute_result"
    }
   ],
   "source": [
    "anshu.phone_number"
   ]
  },
  {
   "cell_type": "code",
   "execution_count": 48,
   "id": "9acbbb20-0a0f-4d3d-9dc0-5ad317e56d8b",
   "metadata": {},
   "outputs": [],
   "source": [
    "class University_of_Calcutta_Ballygaunge():\n",
    "    \n",
    "    def __init__(drip, phone_number, email_id, registration_no):\n",
    "        drip.phone_number1 = phone_number\n",
    "        drip.email_id = email_id\n",
    "        drip.registration_no = registration_no\n",
    "        \n",
    "    def return_student_details(drip):\n",
    "        return drip.phone_number , drip.email_id , drip.registration_no"
   ]
  },
  {
   "cell_type": "code",
   "execution_count": 51,
   "id": "4d72b439-22e1-4875-8230-c0e6a5993680",
   "metadata": {},
   "outputs": [],
   "source": [
    "anshu = University_of_Calcutta_Ballygaunge(9007484001,\"anshu@gmail.com\",201700017)"
   ]
  },
  {
   "cell_type": "code",
   "execution_count": 52,
   "id": "e58b1a59-21c5-4a4a-a02f-eebced64a9f0",
   "metadata": {},
   "outputs": [
    {
     "ename": "AttributeError",
     "evalue": "'University_of_Calcutta_Ballygaunge' object has no attribute 'phone_number'",
     "output_type": "error",
     "traceback": [
      "\u001b[0;31m---------------------------------------------------------------------------\u001b[0m",
      "\u001b[0;31mAttributeError\u001b[0m                            Traceback (most recent call last)",
      "Cell \u001b[0;32mIn[52], line 1\u001b[0m\n\u001b[0;32m----> 1\u001b[0m \u001b[43manshu\u001b[49m\u001b[38;5;241;43m.\u001b[39;49m\u001b[43mphone_number\u001b[49m\n",
      "\u001b[0;31mAttributeError\u001b[0m: 'University_of_Calcutta_Ballygaunge' object has no attribute 'phone_number'"
     ]
    }
   ],
   "source": [
    "anshu.phone_number"
   ]
  },
  {
   "cell_type": "code",
   "execution_count": 53,
   "id": "760df795-0f9c-4e7f-a57a-0d0db9c14514",
   "metadata": {},
   "outputs": [
    {
     "data": {
      "text/plain": [
       "9007484001"
      ]
     },
     "execution_count": 53,
     "metadata": {},
     "output_type": "execute_result"
    }
   ],
   "source": [
    "anshu.phone_number1"
   ]
  },
  {
   "cell_type": "code",
   "execution_count": 54,
   "id": "e1fdadc5-d4ae-4e74-ad00-db5717498c64",
   "metadata": {},
   "outputs": [
    {
     "ename": "AttributeError",
     "evalue": "'University_of_Calcutta_Ballygaunge' object has no attribute 'phone_number'",
     "output_type": "error",
     "traceback": [
      "\u001b[0;31m---------------------------------------------------------------------------\u001b[0m",
      "\u001b[0;31mAttributeError\u001b[0m                            Traceback (most recent call last)",
      "Cell \u001b[0;32mIn[54], line 1\u001b[0m\n\u001b[0;32m----> 1\u001b[0m \u001b[43manshu\u001b[49m\u001b[38;5;241;43m.\u001b[39;49m\u001b[43mreturn_student_details\u001b[49m\u001b[43m(\u001b[49m\u001b[43m)\u001b[49m\n",
      "Cell \u001b[0;32mIn[48], line 9\u001b[0m, in \u001b[0;36mUniversity_of_Calcutta_Ballygaunge.return_student_details\u001b[0;34m(drip)\u001b[0m\n\u001b[1;32m      8\u001b[0m \u001b[38;5;28;01mdef\u001b[39;00m \u001b[38;5;21mreturn_student_details\u001b[39m(drip):\n\u001b[0;32m----> 9\u001b[0m     \u001b[38;5;28;01mreturn\u001b[39;00m \u001b[43mdrip\u001b[49m\u001b[38;5;241;43m.\u001b[39;49m\u001b[43mphone_number\u001b[49m , drip\u001b[38;5;241m.\u001b[39memail_id , drip\u001b[38;5;241m.\u001b[39mregistration_no\n",
      "\u001b[0;31mAttributeError\u001b[0m: 'University_of_Calcutta_Ballygaunge' object has no attribute 'phone_number'"
     ]
    }
   ],
   "source": [
    "anshu.return_student_details()"
   ]
  },
  {
   "cell_type": "code",
   "execution_count": 55,
   "id": "0ba4a6c5-8cc3-47ee-86fb-73b4af47ab85",
   "metadata": {},
   "outputs": [],
   "source": [
    "class University_of_Calcutta_Ballygaunge():\n",
    "    \n",
    "    def __init__(drip, phone_number, email_id, registration_no):\n",
    "        drip.phone_number1 = phone_number\n",
    "        drip.email_id = email_id\n",
    "        drip.registration_no = registration_no\n",
    "        \n",
    "    def return_student_details(drip):\n",
    "        return drip.phone_number1 , drip.email_id , drip.registration_no"
   ]
  },
  {
   "cell_type": "code",
   "execution_count": 58,
   "id": "5b567cd2-0a94-433e-98cf-637da799aa62",
   "metadata": {},
   "outputs": [],
   "source": [
    "anshu = University_of_Calcutta_Ballygaunge(9007484001,\"anshu@gmail.com\",201700017)"
   ]
  },
  {
   "cell_type": "code",
   "execution_count": 59,
   "id": "7fc70e69-7c05-47c2-908d-91e4afb51fef",
   "metadata": {},
   "outputs": [
    {
     "data": {
      "text/plain": [
       "(9007484001, 'anshu@gmail.com', 201700017)"
      ]
     },
     "execution_count": 59,
     "metadata": {},
     "output_type": "execute_result"
    }
   ],
   "source": [
    "anshu.return_student_details()"
   ]
  },
  {
   "cell_type": "code",
   "execution_count": 60,
   "id": "f59ef1b6-3292-4f39-8d2c-1af500f35488",
   "metadata": {},
   "outputs": [
    {
     "data": {
      "text/plain": [
       "9007484001"
      ]
     },
     "execution_count": 60,
     "metadata": {},
     "output_type": "execute_result"
    }
   ],
   "source": [
    "anshu.phone_number1"
   ]
  },
  {
   "cell_type": "code",
   "execution_count": null,
   "id": "50b86f52-b67b-4458-9d62-b3b05be661ce",
   "metadata": {},
   "outputs": [],
   "source": []
  }
 ],
 "metadata": {
  "kernelspec": {
   "display_name": "Python 3 (ipykernel)",
   "language": "python",
   "name": "python3"
  },
  "language_info": {
   "codemirror_mode": {
    "name": "ipython",
    "version": 3
   },
   "file_extension": ".py",
   "mimetype": "text/x-python",
   "name": "python",
   "nbconvert_exporter": "python",
   "pygments_lexer": "ipython3",
   "version": "3.10.8"
  }
 },
 "nbformat": 4,
 "nbformat_minor": 5
}
