{
 "cells": [
  {
   "cell_type": "code",
   "execution_count": 5,
   "id": "e736bc61-fdcb-4d9b-97d9-e543fc778df3",
   "metadata": {},
   "outputs": [],
   "source": [
    "a=10"
   ]
  },
  {
   "cell_type": "code",
   "execution_count": 6,
   "id": "862d0f3f-f165-40c9-9f5a-6c26909a8f5c",
   "metadata": {},
   "outputs": [
    {
     "data": {
      "text/plain": [
       "10"
      ]
     },
     "execution_count": 6,
     "metadata": {},
     "output_type": "execute_result"
    }
   ],
   "source": [
    "a"
   ]
  },
  {
   "cell_type": "code",
   "execution_count": 7,
   "id": "f0747adb-adfb-4277-a268-4e355e8fb269",
   "metadata": {},
   "outputs": [
    {
     "data": {
      "text/plain": [
       "20"
      ]
     },
     "execution_count": 7,
     "metadata": {},
     "output_type": "execute_result"
    }
   ],
   "source": [
    "## Comments\n",
    "## for single we use ##\n",
    "## this is function\n",
    "# this is comment\n",
    "a=20\n",
    "a"
   ]
  },
  {
   "cell_type": "code",
   "execution_count": 8,
   "id": "f41d551c-1f0b-46aa-b4b2-95fdf09b5180",
   "metadata": {},
   "outputs": [
    {
     "data": {
      "text/plain": [
       "20"
      ]
     },
     "execution_count": 8,
     "metadata": {},
     "output_type": "execute_result"
    }
   ],
   "source": [
    "\"\"\"\n",
    "hello this is an example of multi line comments\n",
    "hgvxjhvbvf\n",
    "hgvfhvgnh\n",
    "\"\"\"\n",
    "a=20\n",
    "a"
   ]
  },
  {
   "cell_type": "markdown",
   "id": "9ffee1b8-1d39-4673-83c3-4a4444eb889f",
   "metadata": {},
   "source": [
    "# Hello\n",
    "## Hello1\n",
    "### Hello2\n",
    "1. Hello guys how are you"
   ]
  },
  {
   "cell_type": "markdown",
   "id": "313c4f20-679b-4912-9be4-1c4cd8117a99",
   "metadata": {},
   "source": [
    "### Numbers"
   ]
  },
  {
   "cell_type": "code",
   "execution_count": 10,
   "id": "0c8a272f-27f9-49b0-9c0b-b9248e0b3c75",
   "metadata": {},
   "outputs": [
    {
     "name": "stdout",
     "output_type": "stream",
     "text": [
      "5\n"
     ]
    }
   ],
   "source": [
    "print(1+4)"
   ]
  },
  {
   "cell_type": "code",
   "execution_count": 11,
   "id": "3306eeca-52ba-44ef-9049-12aa893fa892",
   "metadata": {},
   "outputs": [
    {
     "data": {
      "text/plain": [
       "5"
      ]
     },
     "execution_count": 11,
     "metadata": {},
     "output_type": "execute_result"
    }
   ],
   "source": [
    "1+4"
   ]
  },
  {
   "cell_type": "code",
   "execution_count": 12,
   "id": "50568445-7270-44f5-9af6-5753986a9156",
   "metadata": {},
   "outputs": [
    {
     "data": {
      "text/plain": [
       "4"
      ]
     },
     "execution_count": 12,
     "metadata": {},
     "output_type": "execute_result"
    }
   ],
   "source": [
    "a=4\n",
    "a"
   ]
  },
  {
   "cell_type": "code",
   "execution_count": 13,
   "id": "908fb935-1fbd-4d47-9671-5251cc9f75a3",
   "metadata": {},
   "outputs": [
    {
     "name": "stdout",
     "output_type": "stream",
     "text": [
      "4\n"
     ]
    }
   ],
   "source": [
    "a=4\n",
    "print(a)"
   ]
  },
  {
   "cell_type": "code",
   "execution_count": 14,
   "id": "e1e836a3-6442-401e-9f67-2d11c9130da6",
   "metadata": {},
   "outputs": [
    {
     "name": "stdout",
     "output_type": "stream",
     "text": [
      "hello world\n"
     ]
    }
   ],
   "source": [
    "print(\"hello world\")"
   ]
  },
  {
   "cell_type": "code",
   "execution_count": 15,
   "id": "e7f0d537-06a2-4efe-9c63-cdc78210c353",
   "metadata": {},
   "outputs": [
    {
     "name": "stdout",
     "output_type": "stream",
     "text": [
      "My name is Driptarshi Ray\n"
     ]
    }
   ],
   "source": [
    "print(\"My name is Driptarshi Ray\")"
   ]
  },
  {
   "cell_type": "code",
   "execution_count": 17,
   "id": "ac2b129d-ae4c-4163-a8a1-cfea4722e6d0",
   "metadata": {},
   "outputs": [
    {
     "name": "stdout",
     "output_type": "stream",
     "text": [
      "My name Driptarshi Ray I live in noapara I am a Physics Student I used study in Holy Palace Multipurpose Institute I graduated with physics from University of Calcutta\n"
     ]
    }
   ],
   "source": [
    "print(\"My name Driptarshi Ray I live in noapara I am a Physics Student I used study in Holy Palace Multipurpose Institute I graduated with physics from University of Calcutta\")"
   ]
  },
  {
   "cell_type": "code",
   "execution_count": 22,
   "id": "f9abf39e-7ec3-42a0-93d0-abecda478278",
   "metadata": {},
   "outputs": [
    {
     "name": "stdout",
     "output_type": "stream",
     "text": [
      "My name Driptarshi Ray I live in noapara I am a Physics Student I used study in Holy Palace Multipurpose Institute \n",
      "I graduated with physics from University of Calcutta\n"
     ]
    }
   ],
   "source": [
    "print(\"My name Driptarshi Ray I live in noapara I am a Physics Student I used study in Holy Palace Multipurpose Institute \\nI graduated with physics from University of Calcutta\")"
   ]
  },
  {
   "cell_type": "markdown",
   "id": "edab5e63-c8a5-4a00-9c42-3a65f2e0a093",
   "metadata": {},
   "source": [
    "## Variable Assignment"
   ]
  },
  {
   "cell_type": "code",
   "execution_count": 27,
   "id": "f507c2bd-e6b8-4403-97cc-b7884f72403b",
   "metadata": {},
   "outputs": [],
   "source": [
    "name=\"Driptarshi Ray\"\n",
    "University=\"University of Calcutta\""
   ]
  },
  {
   "cell_type": "code",
   "execution_count": 28,
   "id": "04bf7543-a33a-4324-a014-9e2fc853706f",
   "metadata": {},
   "outputs": [
    {
     "data": {
      "text/plain": [
       "'Driptarshi Ray'"
      ]
     },
     "execution_count": 28,
     "metadata": {},
     "output_type": "execute_result"
    }
   ],
   "source": [
    "name"
   ]
  },
  {
   "cell_type": "code",
   "execution_count": 33,
   "id": "e9d0666a-13f5-4864-aaea-fdc192f38239",
   "metadata": {},
   "outputs": [],
   "source": [
    "name=\"DR\""
   ]
  },
  {
   "cell_type": "code",
   "execution_count": 34,
   "id": "10719ac8-ab21-4fe2-843e-e6a19805a2b8",
   "metadata": {},
   "outputs": [
    {
     "data": {
      "text/plain": [
       "'DR'"
      ]
     },
     "execution_count": 34,
     "metadata": {},
     "output_type": "execute_result"
    }
   ],
   "source": [
    "name"
   ]
  },
  {
   "cell_type": "code",
   "execution_count": 29,
   "id": "2d05af25-2b04-4894-ac6b-a0d987db11ac",
   "metadata": {},
   "outputs": [
    {
     "data": {
      "text/plain": [
       "'University of Calcutta'"
      ]
     },
     "execution_count": 29,
     "metadata": {},
     "output_type": "execute_result"
    }
   ],
   "source": [
    "University"
   ]
  },
  {
   "cell_type": "code",
   "execution_count": 31,
   "id": "6fb3ce90-027a-4cb7-bc68-e5ad6ecaced2",
   "metadata": {},
   "outputs": [],
   "source": [
    "number=10"
   ]
  },
  {
   "cell_type": "code",
   "execution_count": 32,
   "id": "0c091bf6-27ef-467f-af22-c6f775fa83fd",
   "metadata": {},
   "outputs": [
    {
     "data": {
      "text/plain": [
       "10"
      ]
     },
     "execution_count": 32,
     "metadata": {},
     "output_type": "execute_result"
    }
   ],
   "source": [
    "number"
   ]
  },
  {
   "cell_type": "code",
   "execution_count": 35,
   "id": "6031641f-5e99-49da-9477-3b12064f64ab",
   "metadata": {},
   "outputs": [
    {
     "data": {
      "text/plain": [
       "20"
      ]
     },
     "execution_count": 35,
     "metadata": {},
     "output_type": "execute_result"
    }
   ],
   "source": [
    "number=20\n",
    "number"
   ]
  },
  {
   "cell_type": "code",
   "execution_count": 36,
   "id": "ea593dd6-8b10-4c5c-84f6-7bf6044955b5",
   "metadata": {},
   "outputs": [
    {
     "data": {
      "text/plain": [
       "''"
      ]
     },
     "execution_count": 36,
     "metadata": {},
     "output_type": "execute_result"
    }
   ],
   "source": [
    "\"\""
   ]
  },
  {
   "cell_type": "code",
   "execution_count": 37,
   "id": "00f10b65-9b1c-40cc-8803-22ff083a61cd",
   "metadata": {},
   "outputs": [
    {
     "data": {
      "text/plain": [
       "''"
      ]
     },
     "execution_count": 37,
     "metadata": {},
     "output_type": "execute_result"
    }
   ],
   "source": [
    "''"
   ]
  },
  {
   "cell_type": "code",
   "execution_count": 41,
   "id": "e8117e4d-c66a-476a-96fa-a81553502e04",
   "metadata": {},
   "outputs": [
    {
     "data": {
      "text/plain": [
       "str"
      ]
     },
     "execution_count": 41,
     "metadata": {},
     "output_type": "execute_result"
    }
   ],
   "source": [
    "type(\"\")"
   ]
  },
  {
   "cell_type": "code",
   "execution_count": 40,
   "id": "23847728-2460-4bc0-adef-a9070baf103c",
   "metadata": {},
   "outputs": [
    {
     "data": {
      "text/plain": [
       "str"
      ]
     },
     "execution_count": 40,
     "metadata": {},
     "output_type": "execute_result"
    }
   ],
   "source": [
    "type(\"abc\")"
   ]
  },
  {
   "cell_type": "code",
   "execution_count": 42,
   "id": "2ae0ae60-9038-4571-8128-4e37aa83a5af",
   "metadata": {},
   "outputs": [
    {
     "data": {
      "text/plain": [
       "str"
      ]
     },
     "execution_count": 42,
     "metadata": {},
     "output_type": "execute_result"
    }
   ],
   "source": [
    "type(name)"
   ]
  },
  {
   "cell_type": "code",
   "execution_count": 43,
   "id": "92ee09f9-e5a9-4774-bb33-726d989caebd",
   "metadata": {},
   "outputs": [
    {
     "data": {
      "text/plain": [
       "int"
      ]
     },
     "execution_count": 43,
     "metadata": {},
     "output_type": "execute_result"
    }
   ],
   "source": [
    "type(number)"
   ]
  },
  {
   "cell_type": "code",
   "execution_count": 44,
   "id": "2a8be51b-a47a-4871-86c5-4778477a22ea",
   "metadata": {},
   "outputs": [],
   "source": [
    "decimal_num=2.5"
   ]
  },
  {
   "cell_type": "code",
   "execution_count": 45,
   "id": "c792972d-832b-4e66-b746-b69ec30940c6",
   "metadata": {},
   "outputs": [
    {
     "data": {
      "text/plain": [
       "2.5"
      ]
     },
     "execution_count": 45,
     "metadata": {},
     "output_type": "execute_result"
    }
   ],
   "source": [
    "decimal_num"
   ]
  },
  {
   "cell_type": "code",
   "execution_count": 46,
   "id": "8ab73b73-040f-46dd-82d4-5ee1e8444474",
   "metadata": {},
   "outputs": [
    {
     "data": {
      "text/plain": [
       "float"
      ]
     },
     "execution_count": 46,
     "metadata": {},
     "output_type": "execute_result"
    }
   ],
   "source": [
    "type(decimal_num)"
   ]
  },
  {
   "cell_type": "code",
   "execution_count": 47,
   "id": "8952b2f2-6ba2-465c-a119-e3b38473353e",
   "metadata": {},
   "outputs": [
    {
     "data": {
      "text/plain": [
       "str"
      ]
     },
     "execution_count": 47,
     "metadata": {},
     "output_type": "execute_result"
    }
   ],
   "source": [
    "type(\"\")"
   ]
  },
  {
   "cell_type": "code",
   "execution_count": 48,
   "id": "00c4f1a9-dd80-45d0-859c-7dbdb833fc39",
   "metadata": {},
   "outputs": [
    {
     "data": {
      "text/plain": [
       "(1+2j)"
      ]
     },
     "execution_count": 48,
     "metadata": {},
     "output_type": "execute_result"
    }
   ],
   "source": [
    "1+2j"
   ]
  },
  {
   "cell_type": "code",
   "execution_count": 49,
   "id": "391e0cf2-86f8-465f-95f5-de0e55ff42c9",
   "metadata": {},
   "outputs": [
    {
     "data": {
      "text/plain": [
       "complex"
      ]
     },
     "execution_count": 49,
     "metadata": {},
     "output_type": "execute_result"
    }
   ],
   "source": [
    "type(1+2j)"
   ]
  },
  {
   "cell_type": "code",
   "execution_count": 51,
   "id": "98944fb5-06a0-4b72-a338-0ea7f73fc84d",
   "metadata": {},
   "outputs": [
    {
     "name": "stdout",
     "output_type": "stream",
     "text": [
      "hello\n",
      "hello\n"
     ]
    }
   ],
   "source": [
    "print(\"hello\")\n",
    "print('hello')"
   ]
  },
  {
   "cell_type": "code",
   "execution_count": 52,
   "id": "862a84cb-7469-4ddb-a481-2294517180f6",
   "metadata": {},
   "outputs": [
    {
     "data": {
      "text/plain": [
       "complex"
      ]
     },
     "execution_count": 52,
     "metadata": {},
     "output_type": "execute_result"
    }
   ],
   "source": [
    "type(1+2j-1-2j)"
   ]
  },
  {
   "cell_type": "code",
   "execution_count": 53,
   "id": "cee23593-c139-4de3-8ccb-eed389b994e9",
   "metadata": {},
   "outputs": [
    {
     "name": "stdout",
     "output_type": "stream",
     "text": [
      "DR\n",
      "Driptarshi Ray\n"
     ]
    }
   ],
   "source": [
    "## variables are case sensitive\n",
    "Name=\"Driptarshi Ray\"\n",
    "name=\"DR\"\n",
    "print(name)\n",
    "print(Name)"
   ]
  },
  {
   "cell_type": "code",
   "execution_count": 54,
   "id": "daef34b2-8ee5-451a-8f6e-b2cd1d13e5f2",
   "metadata": {},
   "outputs": [
    {
     "data": {
      "text/plain": [
       "True"
      ]
     },
     "execution_count": 54,
     "metadata": {},
     "output_type": "execute_result"
    }
   ],
   "source": [
    "## Boolean\n",
    "True"
   ]
  },
  {
   "cell_type": "code",
   "execution_count": 55,
   "id": "0499f4fa-e853-4766-a479-87158f707744",
   "metadata": {},
   "outputs": [
    {
     "data": {
      "text/plain": [
       "False"
      ]
     },
     "execution_count": 55,
     "metadata": {},
     "output_type": "execute_result"
    }
   ],
   "source": [
    "False"
   ]
  },
  {
   "cell_type": "code",
   "execution_count": 57,
   "id": "727a7de8-388c-4be7-92e0-6d43e27e2072",
   "metadata": {},
   "outputs": [
    {
     "data": {
      "text/plain": [
       "True"
      ]
     },
     "execution_count": 57,
     "metadata": {},
     "output_type": "execute_result"
    }
   ],
   "source": [
    "True or False"
   ]
  },
  {
   "cell_type": "code",
   "execution_count": 58,
   "id": "90e71f10-6d79-4cd6-a793-ce3dcb3f19a5",
   "metadata": {},
   "outputs": [
    {
     "data": {
      "text/plain": [
       "False"
      ]
     },
     "execution_count": 58,
     "metadata": {},
     "output_type": "execute_result"
    }
   ],
   "source": [
    "True and False"
   ]
  },
  {
   "cell_type": "code",
   "execution_count": 59,
   "id": "ad769f9f-1205-4bc7-a73d-8102a7e3dc90",
   "metadata": {},
   "outputs": [
    {
     "data": {
      "text/plain": [
       "True"
      ]
     },
     "execution_count": 59,
     "metadata": {},
     "output_type": "execute_result"
    }
   ],
   "source": [
    "True and False or True"
   ]
  },
  {
   "cell_type": "code",
   "execution_count": 62,
   "id": "23f4fe4c-b2dd-4d82-ba78-3780193a84d6",
   "metadata": {},
   "outputs": [
    {
     "data": {
      "text/plain": [
       "False"
      ]
     },
     "execution_count": 62,
     "metadata": {},
     "output_type": "execute_result"
    }
   ],
   "source": [
    "not True"
   ]
  },
  {
   "cell_type": "code",
   "execution_count": 64,
   "id": "5cb0c400-6f0d-4a7d-b7ee-aa4105072bbb",
   "metadata": {},
   "outputs": [
    {
     "data": {
      "text/plain": [
       "True"
      ]
     },
     "execution_count": 64,
     "metadata": {},
     "output_type": "execute_result"
    }
   ],
   "source": [
    "not False"
   ]
  },
  {
   "cell_type": "code",
   "execution_count": 65,
   "id": "8bd568ab-c1dc-434a-bb0a-5b420ebc3b17",
   "metadata": {},
   "outputs": [
    {
     "data": {
      "text/plain": [
       "True"
      ]
     },
     "execution_count": 65,
     "metadata": {},
     "output_type": "execute_result"
    }
   ],
   "source": [
    "True or not False"
   ]
  },
  {
   "cell_type": "code",
   "execution_count": 66,
   "id": "3f72e1cf-8fbd-4601-837f-b5071827b5c1",
   "metadata": {},
   "outputs": [
    {
     "data": {
      "text/plain": [
       "bool"
      ]
     },
     "execution_count": 66,
     "metadata": {},
     "output_type": "execute_result"
    }
   ],
   "source": [
    "type(not True)"
   ]
  },
  {
   "cell_type": "code",
   "execution_count": 68,
   "id": "9413c329-6284-430c-950b-adb7d06ea454",
   "metadata": {},
   "outputs": [
    {
     "data": {
      "text/plain": [
       "bool"
      ]
     },
     "execution_count": 68,
     "metadata": {},
     "output_type": "execute_result"
    }
   ],
   "source": [
    "type(True)"
   ]
  },
  {
   "cell_type": "code",
   "execution_count": 70,
   "id": "d444e92c-e4cc-43b5-a2e6-24598c9aa21c",
   "metadata": {},
   "outputs": [
    {
     "data": {
      "text/plain": [
       "True"
      ]
     },
     "execution_count": 70,
     "metadata": {},
     "output_type": "execute_result"
    }
   ],
   "source": [
    "bool(1)"
   ]
  },
  {
   "cell_type": "code",
   "execution_count": 71,
   "id": "5c288756-3eca-40fe-9dc0-6680e9386fb8",
   "metadata": {},
   "outputs": [
    {
     "name": "stdout",
     "output_type": "stream",
     "text": [
      "False\n"
     ]
    }
   ],
   "source": [
    "print(bool(0))"
   ]
  },
  {
   "cell_type": "code",
   "execution_count": 75,
   "id": "61429453-d643-4746-956d-9b2eeb430bd8",
   "metadata": {},
   "outputs": [
    {
     "name": "stdout",
     "output_type": "stream",
     "text": [
      "False\n"
     ]
    }
   ],
   "source": [
    "b=0\n",
    "if bool(b)==False:\n",
    "    print(\"False\")"
   ]
  },
  {
   "cell_type": "code",
   "execution_count": 76,
   "id": "7e76fbad-6983-4796-8aa5-48f4cc499cbe",
   "metadata": {},
   "outputs": [
    {
     "data": {
      "text/plain": [
       "'12'"
      ]
     },
     "execution_count": 76,
     "metadata": {},
     "output_type": "execute_result"
    }
   ],
   "source": [
    "str(12)"
   ]
  },
  {
   "cell_type": "code",
   "execution_count": 77,
   "id": "2ec1bad9-217a-4289-90be-0f08584bbe22",
   "metadata": {},
   "outputs": [
    {
     "data": {
      "text/plain": [
       "12"
      ]
     },
     "execution_count": 77,
     "metadata": {},
     "output_type": "execute_result"
    }
   ],
   "source": [
    "int('12')"
   ]
  },
  {
   "cell_type": "markdown",
   "id": "f457db00-7ff9-4b84-90f7-c034f9a9f5f4",
   "metadata": {},
   "source": [
    "## Dynamic Typing"
   ]
  },
  {
   "cell_type": "code",
   "execution_count": null,
   "id": "b1a2db66-1aa2-429b-9d9d-4592486d3a7b",
   "metadata": {},
   "outputs": [],
   "source": [
    "a=12\n",
    "str1=\"Driptarshi\"\n",
    "a=\"var\""
   ]
  },
  {
   "cell_type": "code",
   "execution_count": 78,
   "id": "e9df67bd-434b-4aa0-9fec-e0c871ff9458",
   "metadata": {},
   "outputs": [
    {
     "data": {
      "text/plain": [
       "int"
      ]
     },
     "execution_count": 78,
     "metadata": {},
     "output_type": "execute_result"
    }
   ],
   "source": [
    "type(int('23'))"
   ]
  },
  {
   "cell_type": "code",
   "execution_count": 79,
   "id": "885c37bc-aa71-4942-94f3-c82ebe59dce1",
   "metadata": {},
   "outputs": [
    {
     "data": {
      "text/plain": [
       "int"
      ]
     },
     "execution_count": 79,
     "metadata": {},
     "output_type": "execute_result"
    }
   ],
   "source": [
    "type(a)"
   ]
  },
  {
   "cell_type": "code",
   "execution_count": 80,
   "id": "f877516e-9637-42df-ba07-f97dff2e1af5",
   "metadata": {},
   "outputs": [
    {
     "name": "stdout",
     "output_type": "stream",
     "text": [
      "<class 'int'>\n"
     ]
    }
   ],
   "source": [
    "print(type(a))"
   ]
  },
  {
   "cell_type": "code",
   "execution_count": 81,
   "id": "f516c15e-efe0-490a-9987-a7ed70cd81a2",
   "metadata": {},
   "outputs": [],
   "source": [
    "b=\"var\""
   ]
  },
  {
   "cell_type": "code",
   "execution_count": 82,
   "id": "3da65b4f-919f-4793-a5a0-2e5680e624ee",
   "metadata": {},
   "outputs": [
    {
     "data": {
      "text/plain": [
       "str"
      ]
     },
     "execution_count": 82,
     "metadata": {},
     "output_type": "execute_result"
    }
   ],
   "source": [
    "type(b)"
   ]
  },
  {
   "cell_type": "code",
   "execution_count": 83,
   "id": "96b3b76a-7919-47b8-95e2-23b904a041b3",
   "metadata": {},
   "outputs": [
    {
     "name": "stdout",
     "output_type": "stream",
     "text": [
      "<class 'str'>\n"
     ]
    }
   ],
   "source": [
    "print(type(b))"
   ]
  },
  {
   "cell_type": "code",
   "execution_count": 85,
   "id": "b81ca303-9137-4672-b119-e3accf6f7095",
   "metadata": {},
   "outputs": [
    {
     "data": {
      "text/plain": [
       "123"
      ]
     },
     "execution_count": 85,
     "metadata": {},
     "output_type": "execute_result"
    }
   ],
   "source": [
    "int(123)"
   ]
  },
  {
   "cell_type": "code",
   "execution_count": 86,
   "id": "f1e4bded-3e75-44de-b9f5-9e193baa7c33",
   "metadata": {},
   "outputs": [
    {
     "data": {
      "text/plain": [
       "3"
      ]
     },
     "execution_count": 86,
     "metadata": {},
     "output_type": "execute_result"
    }
   ],
   "source": [
    "int(3.141414141414141414)"
   ]
  },
  {
   "cell_type": "code",
   "execution_count": null,
   "id": "4007f738-a3b8-4b81-a5fd-eb5f643fde1b",
   "metadata": {},
   "outputs": [],
   "source": [
    "## concatenation between different types"
   ]
  },
  {
   "cell_type": "code",
   "execution_count": 87,
   "id": "cb27855b-ae3a-4332-b49e-23b3e7b30c38",
   "metadata": {},
   "outputs": [
    {
     "data": {
      "text/plain": [
       "'11'"
      ]
     },
     "execution_count": 87,
     "metadata": {},
     "output_type": "execute_result"
    }
   ],
   "source": [
    "\"1\"+\"1\""
   ]
  },
  {
   "cell_type": "code",
   "execution_count": 88,
   "id": "35a23970-87cd-4c49-9e64-35953035c8d7",
   "metadata": {},
   "outputs": [
    {
     "data": {
      "text/plain": [
       "2"
      ]
     },
     "execution_count": 88,
     "metadata": {},
     "output_type": "execute_result"
    }
   ],
   "source": [
    "int(\"1\") + int(\"1\")"
   ]
  },
  {
   "cell_type": "code",
   "execution_count": 94,
   "id": "dab7e6d2-0bff-4df8-b446-b0e7f5400bf0",
   "metadata": {},
   "outputs": [
    {
     "name": "stdout",
     "output_type": "stream",
     "text": [
      "1111\n"
     ]
    }
   ],
   "source": [
    "print(\"1\"*4)"
   ]
  },
  {
   "cell_type": "code",
   "execution_count": 95,
   "id": "07f14d33-cf70-4b28-b3f2-109fb49074da",
   "metadata": {},
   "outputs": [
    {
     "data": {
      "text/plain": [
       "True"
      ]
     },
     "execution_count": 95,
     "metadata": {},
     "output_type": "execute_result"
    }
   ],
   "source": [
    "bool(2)"
   ]
  },
  {
   "cell_type": "code",
   "execution_count": 96,
   "id": "e86d51e2-b183-420d-99ed-f3ae31d6ae11",
   "metadata": {},
   "outputs": [
    {
     "data": {
      "text/plain": [
       "True"
      ]
     },
     "execution_count": 96,
     "metadata": {},
     "output_type": "execute_result"
    }
   ],
   "source": [
    "bool(-2)"
   ]
  },
  {
   "cell_type": "code",
   "execution_count": 97,
   "id": "1e80570a-c85c-4e28-b4fe-1c89505b8704",
   "metadata": {},
   "outputs": [
    {
     "data": {
      "text/plain": [
       "True"
      ]
     },
     "execution_count": 97,
     "metadata": {},
     "output_type": "execute_result"
    }
   ],
   "source": [
    "bool(1.23)"
   ]
  },
  {
   "cell_type": "code",
   "execution_count": 98,
   "id": "b3825457-5f53-428a-810f-f8f40cfdf6c4",
   "metadata": {},
   "outputs": [
    {
     "data": {
      "text/plain": [
       "True"
      ]
     },
     "execution_count": 98,
     "metadata": {},
     "output_type": "execute_result"
    }
   ],
   "source": [
    "bool(0.23)"
   ]
  },
  {
   "cell_type": "code",
   "execution_count": null,
   "id": "7e585268-4963-4f9f-9ce3-49b5ec3c7a20",
   "metadata": {},
   "outputs": [],
   "source": []
  }
 ],
 "metadata": {
  "kernelspec": {
   "display_name": "Python 3 (ipykernel)",
   "language": "python",
   "name": "python3"
  },
  "language_info": {
   "codemirror_mode": {
    "name": "ipython",
    "version": 3
   },
   "file_extension": ".py",
   "mimetype": "text/x-python",
   "name": "python",
   "nbconvert_exporter": "python",
   "pygments_lexer": "ipython3",
   "version": "3.10.8"
  }
 },
 "nbformat": 4,
 "nbformat_minor": 5
}
