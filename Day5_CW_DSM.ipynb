{
 "cells": [
  {
   "cell_type": "markdown",
   "id": "4fd0ab96-46f8-4b55-927e-cf8374d11cba",
   "metadata": {},
   "source": [
    "## Tuples"
   ]
  },
  {
   "cell_type": "code",
   "execution_count": 2,
   "id": "ebb7f70c-664f-4a91-b3fb-b35ffe579ec9",
   "metadata": {},
   "outputs": [],
   "source": [
    "t=()"
   ]
  },
  {
   "cell_type": "code",
   "execution_count": 3,
   "id": "7647736d-d469-4ac9-8e30-c519e3e02054",
   "metadata": {},
   "outputs": [
    {
     "data": {
      "text/plain": [
       "tuple"
      ]
     },
     "execution_count": 3,
     "metadata": {},
     "output_type": "execute_result"
    }
   ],
   "source": [
    "type(t)"
   ]
  },
  {
   "cell_type": "code",
   "execution_count": 4,
   "id": "0c3ffa9f-fcf0-4941-98dc-940e7fff2fa5",
   "metadata": {},
   "outputs": [],
   "source": [
    "t1=(1,2,3,3.14,3+14j,\"Driptarshi\",True)"
   ]
  },
  {
   "cell_type": "code",
   "execution_count": 5,
   "id": "3dede2d4-320d-424b-b168-441fe9da4600",
   "metadata": {},
   "outputs": [
    {
     "data": {
      "text/plain": [
       "tuple"
      ]
     },
     "execution_count": 5,
     "metadata": {},
     "output_type": "execute_result"
    }
   ],
   "source": [
    "type(t1)"
   ]
  },
  {
   "cell_type": "code",
   "execution_count": 6,
   "id": "786b8eb8-bc55-4fe9-a59d-ba6a59f39f20",
   "metadata": {},
   "outputs": [],
   "source": [
    "L=[1,2,3,4]"
   ]
  },
  {
   "cell_type": "code",
   "execution_count": 7,
   "id": "85c92876-6ec0-4f33-b949-d7f0de410742",
   "metadata": {},
   "outputs": [
    {
     "data": {
      "text/plain": [
       "list"
      ]
     },
     "execution_count": 7,
     "metadata": {},
     "output_type": "execute_result"
    }
   ],
   "source": [
    "type(L)"
   ]
  },
  {
   "cell_type": "code",
   "execution_count": 8,
   "id": "e9dd2664-7f4e-45cd-b09f-583a557be907",
   "metadata": {},
   "outputs": [
    {
     "data": {
      "text/plain": [
       "(1, 2, 3, 3.14, (3+14j), 'Driptarshi', True)"
      ]
     },
     "execution_count": 8,
     "metadata": {},
     "output_type": "execute_result"
    }
   ],
   "source": [
    "t1"
   ]
  },
  {
   "cell_type": "code",
   "execution_count": 9,
   "id": "ff3fc797-916d-413a-b837-a7636c27b87a",
   "metadata": {},
   "outputs": [
    {
     "data": {
      "text/plain": [
       "1"
      ]
     },
     "execution_count": 9,
     "metadata": {},
     "output_type": "execute_result"
    }
   ],
   "source": [
    "t1[0]"
   ]
  },
  {
   "cell_type": "code",
   "execution_count": 10,
   "id": "99cb0fd2-b9d8-4655-ade6-39d0252c2003",
   "metadata": {},
   "outputs": [
    {
     "data": {
      "text/plain": [
       "'Driptarshi'"
      ]
     },
     "execution_count": 10,
     "metadata": {},
     "output_type": "execute_result"
    }
   ],
   "source": [
    "t1[5]"
   ]
  },
  {
   "cell_type": "code",
   "execution_count": 11,
   "id": "ec8952f8-da5d-4af1-a92a-aa95c7b83b35",
   "metadata": {},
   "outputs": [
    {
     "data": {
      "text/plain": [
       "(True, 'Driptarshi', (3+14j), 3.14, 3, 2, 1)"
      ]
     },
     "execution_count": 11,
     "metadata": {},
     "output_type": "execute_result"
    }
   ],
   "source": [
    "t1[::-1]"
   ]
  },
  {
   "cell_type": "code",
   "execution_count": 12,
   "id": "b23dba51-8488-40ea-b825-7d6fdf6587f0",
   "metadata": {},
   "outputs": [],
   "source": [
    "t1=t1[::-1]"
   ]
  },
  {
   "cell_type": "code",
   "execution_count": 13,
   "id": "755ab1a8-6bc2-4d05-a7cc-bbe06f9ab224",
   "metadata": {},
   "outputs": [
    {
     "data": {
      "text/plain": [
       "(True, 'Driptarshi', (3+14j), 3.14, 3, 2, 1)"
      ]
     },
     "execution_count": 13,
     "metadata": {},
     "output_type": "execute_result"
    }
   ],
   "source": [
    "t1"
   ]
  },
  {
   "cell_type": "code",
   "execution_count": 14,
   "id": "a8f35d94-507f-4906-a604-122a05a396e2",
   "metadata": {},
   "outputs": [
    {
     "data": {
      "text/plain": [
       "('Driptarshi', (3+14j), 3.14)"
      ]
     },
     "execution_count": 14,
     "metadata": {},
     "output_type": "execute_result"
    }
   ],
   "source": [
    "t1[1:4]"
   ]
  },
  {
   "cell_type": "code",
   "execution_count": 15,
   "id": "1e0f8595-37ec-4cd0-926f-00bc214b36c8",
   "metadata": {},
   "outputs": [
    {
     "data": {
      "text/plain": [
       "('Driptarshi', 3.14)"
      ]
     },
     "execution_count": 15,
     "metadata": {},
     "output_type": "execute_result"
    }
   ],
   "source": [
    "t1[1:4:2]"
   ]
  },
  {
   "cell_type": "code",
   "execution_count": 16,
   "id": "64bbcc29-394e-40bf-bbb6-955951026048",
   "metadata": {},
   "outputs": [
    {
     "data": {
      "text/plain": [
       "(3, 3.14, (3+14j))"
      ]
     },
     "execution_count": 16,
     "metadata": {},
     "output_type": "execute_result"
    }
   ],
   "source": [
    "t1[4:1:-1]"
   ]
  },
  {
   "cell_type": "code",
   "execution_count": 17,
   "id": "e61b4a79-54c3-41de-a408-62f35b8ff231",
   "metadata": {},
   "outputs": [
    {
     "data": {
      "text/plain": [
       "(True, 'Driptarshi', (3+14j), 3.14, 3, 2, 1)"
      ]
     },
     "execution_count": 17,
     "metadata": {},
     "output_type": "execute_result"
    }
   ],
   "source": [
    "t1"
   ]
  },
  {
   "cell_type": "code",
   "execution_count": 18,
   "id": "102ffbcc-37f6-423f-a225-b57fc71785f5",
   "metadata": {},
   "outputs": [
    {
     "data": {
      "text/plain": [
       "1"
      ]
     },
     "execution_count": 18,
     "metadata": {},
     "output_type": "execute_result"
    }
   ],
   "source": [
    "t1.count(\"Driptarshi\")"
   ]
  },
  {
   "cell_type": "code",
   "execution_count": 19,
   "id": "b9e6d3dc-f1fe-4e6a-90cb-5e0c4eb09561",
   "metadata": {},
   "outputs": [
    {
     "data": {
      "text/plain": [
       "0"
      ]
     },
     "execution_count": 19,
     "metadata": {},
     "output_type": "execute_result"
    }
   ],
   "source": [
    "t1.count(5)"
   ]
  },
  {
   "cell_type": "code",
   "execution_count": 20,
   "id": "e5ea20f9-56c7-4d42-9480-a09eabb1a12e",
   "metadata": {},
   "outputs": [
    {
     "data": {
      "text/plain": [
       "0"
      ]
     },
     "execution_count": 20,
     "metadata": {},
     "output_type": "execute_result"
    }
   ],
   "source": [
    "t1.index(1)\n",
    "\n",
    "# True => 1"
   ]
  },
  {
   "cell_type": "code",
   "execution_count": 21,
   "id": "a4c6da0e-5151-4b7d-b8aa-1992a8b760e9",
   "metadata": {},
   "outputs": [
    {
     "data": {
      "text/plain": [
       "5"
      ]
     },
     "execution_count": 21,
     "metadata": {},
     "output_type": "execute_result"
    }
   ],
   "source": [
    "t1.index(2)"
   ]
  },
  {
   "cell_type": "code",
   "execution_count": 22,
   "id": "718b7fc2-b4d4-4d50-bbe8-b01535906a91",
   "metadata": {},
   "outputs": [
    {
     "data": {
      "text/plain": [
       "3"
      ]
     },
     "execution_count": 22,
     "metadata": {},
     "output_type": "execute_result"
    }
   ],
   "source": [
    "t1.index(3.14)"
   ]
  },
  {
   "cell_type": "code",
   "execution_count": 23,
   "id": "9c39ce61-6912-4d72-8be6-490010cc8e9c",
   "metadata": {},
   "outputs": [
    {
     "data": {
      "text/plain": [
       "1"
      ]
     },
     "execution_count": 23,
     "metadata": {},
     "output_type": "execute_result"
    }
   ],
   "source": [
    "t1.index(\"Driptarshi\")"
   ]
  },
  {
   "cell_type": "code",
   "execution_count": 25,
   "id": "e161fa9b-9ce3-4350-90c0-09e09ad3a603",
   "metadata": {},
   "outputs": [
    {
     "data": {
      "text/plain": [
       "(True, 'Driptarshi', (3+14j), 3.14, 3, 2, 1)"
      ]
     },
     "execution_count": 25,
     "metadata": {},
     "output_type": "execute_result"
    }
   ],
   "source": [
    "t1"
   ]
  },
  {
   "cell_type": "code",
   "execution_count": 29,
   "id": "f6bd1775-fcc2-44c2-8f16-2673df64797c",
   "metadata": {},
   "outputs": [
    {
     "data": {
      "text/plain": [
       "2"
      ]
     },
     "execution_count": 29,
     "metadata": {},
     "output_type": "execute_result"
    }
   ],
   "source": [
    "t1.count(True)\n",
    "\n",
    "# True => 1"
   ]
  },
  {
   "cell_type": "code",
   "execution_count": 30,
   "id": "b5aee5cd-bd56-4beb-aaee-d434e7ebb390",
   "metadata": {},
   "outputs": [
    {
     "data": {
      "text/plain": [
       "2"
      ]
     },
     "execution_count": 30,
     "metadata": {},
     "output_type": "execute_result"
    }
   ],
   "source": [
    "t1.count(1)\n",
    "\n",
    "# 1=> True"
   ]
  },
  {
   "cell_type": "code",
   "execution_count": 31,
   "id": "b90169d8-4b6f-4f30-a490-39a8e0e05518",
   "metadata": {},
   "outputs": [
    {
     "data": {
      "text/plain": [
       "(True, 'Driptarshi', (3+14j), 3.14, 3, 2, 1)"
      ]
     },
     "execution_count": 31,
     "metadata": {},
     "output_type": "execute_result"
    }
   ],
   "source": [
    "t1"
   ]
  },
  {
   "cell_type": "code",
   "execution_count": 32,
   "id": "0aeca93f-b870-4cd9-82af-e629b3c2a5cd",
   "metadata": {},
   "outputs": [
    {
     "data": {
      "text/plain": [
       "[1, 2, 3, 4]"
      ]
     },
     "execution_count": 32,
     "metadata": {},
     "output_type": "execute_result"
    }
   ],
   "source": [
    "L"
   ]
  },
  {
   "cell_type": "code",
   "execution_count": 33,
   "id": "cca9210e-1753-4d82-9d8f-898a70453994",
   "metadata": {},
   "outputs": [
    {
     "data": {
      "text/plain": [
       "True"
      ]
     },
     "execution_count": 33,
     "metadata": {},
     "output_type": "execute_result"
    }
   ],
   "source": [
    "t1[0]"
   ]
  },
  {
   "cell_type": "code",
   "execution_count": null,
   "id": "bf4f30ce-9c2b-4a17-a5b2-adabfa3031eb",
   "metadata": {},
   "outputs": [],
   "source": [
    "# Tuples bascically follow Immutability concepts where it is not going to allow you\n",
    "# to change any elemrntat a particular index"
   ]
  },
  {
   "cell_type": "code",
   "execution_count": 34,
   "id": "4e3854c2-d6e6-487a-bf7d-dbe40d30238e",
   "metadata": {},
   "outputs": [
    {
     "ename": "TypeError",
     "evalue": "'tuple' object does not support item assignment",
     "output_type": "error",
     "traceback": [
      "\u001b[0;31m---------------------------------------------------------------------------\u001b[0m",
      "\u001b[0;31mTypeError\u001b[0m                                 Traceback (most recent call last)",
      "Cell \u001b[0;32mIn[34], line 1\u001b[0m\n\u001b[0;32m----> 1\u001b[0m \u001b[43mt1\u001b[49m\u001b[43m[\u001b[49m\u001b[38;5;241;43m0\u001b[39;49m\u001b[43m]\u001b[49m\u001b[38;5;241m=\u001b[39m\u001b[38;5;241m123\u001b[39m\n",
      "\u001b[0;31mTypeError\u001b[0m: 'tuple' object does not support item assignment"
     ]
    }
   ],
   "source": [
    "t1[0]=123"
   ]
  },
  {
   "cell_type": "code",
   "execution_count": 35,
   "id": "3159414b-a0af-4cd3-a8b1-50b75439995c",
   "metadata": {},
   "outputs": [
    {
     "data": {
      "text/plain": [
       "[1, 2, 3, 4]"
      ]
     },
     "execution_count": 35,
     "metadata": {},
     "output_type": "execute_result"
    }
   ],
   "source": [
    "L"
   ]
  },
  {
   "cell_type": "code",
   "execution_count": 37,
   "id": "164b0098-2c29-45f9-9336-8062472a17c2",
   "metadata": {},
   "outputs": [],
   "source": [
    "L[0]=100"
   ]
  },
  {
   "cell_type": "code",
   "execution_count": 39,
   "id": "c5634e8e-57f0-462f-8d9d-c360ce495ce9",
   "metadata": {},
   "outputs": [
    {
     "data": {
      "text/plain": [
       "[100, 2, 3, 4]"
      ]
     },
     "execution_count": 39,
     "metadata": {},
     "output_type": "execute_result"
    }
   ],
   "source": [
    "L"
   ]
  },
  {
   "cell_type": "code",
   "execution_count": 40,
   "id": "ac9286d0-c7b6-4d5b-bb50-eebdfb0fd92e",
   "metadata": {},
   "outputs": [
    {
     "data": {
      "text/plain": [
       "(True, 'Driptarshi', (3+14j), 3.14, 3, 2, 1)"
      ]
     },
     "execution_count": 40,
     "metadata": {},
     "output_type": "execute_result"
    }
   ],
   "source": [
    "t1"
   ]
  },
  {
   "cell_type": "code",
   "execution_count": 41,
   "id": "9d8f4bef-25e7-4407-80a2-f5d5c4db811d",
   "metadata": {},
   "outputs": [
    {
     "name": "stdout",
     "output_type": "stream",
     "text": [
      "True <class 'bool'>\n",
      "Driptarshi <class 'str'>\n",
      "(3+14j) <class 'complex'>\n",
      "3.14 <class 'float'>\n",
      "3 <class 'int'>\n",
      "2 <class 'int'>\n",
      "1 <class 'int'>\n"
     ]
    }
   ],
   "source": [
    "for i in t1:\n",
    "    print(i,type(i))"
   ]
  },
  {
   "cell_type": "code",
   "execution_count": 42,
   "id": "309c119e-71b4-47f5-a926-13721c3fd7a1",
   "metadata": {},
   "outputs": [],
   "source": [
    "t2=[1,2,3,3,4]"
   ]
  },
  {
   "cell_type": "code",
   "execution_count": 43,
   "id": "71c135b1-8df7-4298-8e39-8d58b9bf812e",
   "metadata": {},
   "outputs": [
    {
     "data": {
      "text/plain": [
       "[1, 2, 3, 3, 4, 1, 2, 3, 3, 4, 1, 2, 3, 3, 4]"
      ]
     },
     "execution_count": 43,
     "metadata": {},
     "output_type": "execute_result"
    }
   ],
   "source": [
    "t2*3"
   ]
  },
  {
   "cell_type": "code",
   "execution_count": 44,
   "id": "34c4fd04-3aec-4965-83d0-eff7ee1c5ed3",
   "metadata": {},
   "outputs": [
    {
     "data": {
      "text/plain": [
       "4"
      ]
     },
     "execution_count": 44,
     "metadata": {},
     "output_type": "execute_result"
    }
   ],
   "source": [
    "max(t2)"
   ]
  },
  {
   "cell_type": "code",
   "execution_count": 47,
   "id": "9f752c1e-41db-435f-bae8-0f7868184611",
   "metadata": {},
   "outputs": [
    {
     "data": {
      "text/plain": [
       "1"
      ]
     },
     "execution_count": 47,
     "metadata": {},
     "output_type": "execute_result"
    }
   ],
   "source": [
    "min(t2)"
   ]
  },
  {
   "cell_type": "code",
   "execution_count": 48,
   "id": "3ffea306-acc2-48a5-af80-02476b5e15ea",
   "metadata": {},
   "outputs": [],
   "source": [
    "t1=(1,2,3,4)\n",
    "t2=(1,2,3,4)"
   ]
  },
  {
   "cell_type": "code",
   "execution_count": 49,
   "id": "dcd964bd-be9f-40b2-a45a-123ac844ebe1",
   "metadata": {},
   "outputs": [],
   "source": [
    "t3=(t1,t2)"
   ]
  },
  {
   "cell_type": "code",
   "execution_count": 50,
   "id": "65e3e5cd-a8be-43bf-a776-b38d1d8deb05",
   "metadata": {},
   "outputs": [
    {
     "data": {
      "text/plain": [
       "((1, 2, 3, 4), (1, 2, 3, 4))"
      ]
     },
     "execution_count": 50,
     "metadata": {},
     "output_type": "execute_result"
    }
   ],
   "source": [
    "t3"
   ]
  },
  {
   "cell_type": "code",
   "execution_count": 51,
   "id": "921bb3be-b2f3-40c2-81e1-990afb72c840",
   "metadata": {},
   "outputs": [],
   "source": [
    "t4=((1,2,3,4,5),[1,2,3,4,5,6,7,8])"
   ]
  },
  {
   "cell_type": "code",
   "execution_count": 52,
   "id": "f8aa8249-883d-4645-b362-90374a8b1b82",
   "metadata": {},
   "outputs": [
    {
     "data": {
      "text/plain": [
       "((1, 2, 3, 4, 5), [1, 2, 3, 4, 5, 6, 7, 8])"
      ]
     },
     "execution_count": 52,
     "metadata": {},
     "output_type": "execute_result"
    }
   ],
   "source": [
    "t4"
   ]
  },
  {
   "cell_type": "code",
   "execution_count": 53,
   "id": "3785aae7-e865-46c6-aa8d-fbc9a9450db5",
   "metadata": {},
   "outputs": [],
   "source": [
    "del t4"
   ]
  },
  {
   "cell_type": "code",
   "execution_count": 54,
   "id": "f6beb8a2-2bb0-4f8f-936d-e2f81364e422",
   "metadata": {},
   "outputs": [
    {
     "ename": "NameError",
     "evalue": "name 't4' is not defined",
     "output_type": "error",
     "traceback": [
      "\u001b[0;31m---------------------------------------------------------------------------\u001b[0m",
      "\u001b[0;31mNameError\u001b[0m                                 Traceback (most recent call last)",
      "Cell \u001b[0;32mIn[54], line 1\u001b[0m\n\u001b[0;32m----> 1\u001b[0m \u001b[43mt4\u001b[49m\n",
      "\u001b[0;31mNameError\u001b[0m: name 't4' is not defined"
     ]
    }
   ],
   "source": [
    "t4"
   ]
  },
  {
   "cell_type": "code",
   "execution_count": 55,
   "id": "03d3ba09-9c8e-4ec3-908c-0a7bd8bcec2c",
   "metadata": {},
   "outputs": [
    {
     "data": {
      "text/plain": [
       "(1, 2, 3, 4)"
      ]
     },
     "execution_count": 55,
     "metadata": {},
     "output_type": "execute_result"
    }
   ],
   "source": [
    "t1"
   ]
  },
  {
   "cell_type": "code",
   "execution_count": 56,
   "id": "f219a7e7-6690-4263-8c0c-c8da70acbbd3",
   "metadata": {},
   "outputs": [
    {
     "data": {
      "text/plain": [
       "4"
      ]
     },
     "execution_count": 56,
     "metadata": {},
     "output_type": "execute_result"
    }
   ],
   "source": [
    "len(t1)"
   ]
  },
  {
   "cell_type": "code",
   "execution_count": 57,
   "id": "786a048a-50a6-4c17-b859-afc40f5fbeff",
   "metadata": {},
   "outputs": [
    {
     "data": {
      "text/plain": [
       "(1, 2, 3, 4)"
      ]
     },
     "execution_count": 57,
     "metadata": {},
     "output_type": "execute_result"
    }
   ],
   "source": [
    "t1"
   ]
  },
  {
   "cell_type": "code",
   "execution_count": 58,
   "id": "50119fee-220a-436c-a62a-f9ec68fbaff5",
   "metadata": {},
   "outputs": [
    {
     "data": {
      "text/plain": [
       "False"
      ]
     },
     "execution_count": 58,
     "metadata": {},
     "output_type": "execute_result"
    }
   ],
   "source": [
    "\"Driptarshi\" in t1"
   ]
  },
  {
   "cell_type": "code",
   "execution_count": 59,
   "id": "8b5aa3d9-3691-4c83-916f-c65080e2d774",
   "metadata": {},
   "outputs": [
    {
     "data": {
      "text/plain": [
       "True"
      ]
     },
     "execution_count": 59,
     "metadata": {},
     "output_type": "execute_result"
    }
   ],
   "source": [
    "True in t1"
   ]
  },
  {
   "cell_type": "code",
   "execution_count": 60,
   "id": "bb2c944a-ee16-4cb7-acc3-be9ebb1852b8",
   "metadata": {},
   "outputs": [
    {
     "data": {
      "text/plain": [
       "True"
      ]
     },
     "execution_count": 60,
     "metadata": {},
     "output_type": "execute_result"
    }
   ],
   "source": [
    "4 in t1"
   ]
  },
  {
   "cell_type": "markdown",
   "id": "2fa22cba-7d68-4c35-a908-875dbad70889",
   "metadata": {},
   "source": [
    "## Sets"
   ]
  },
  {
   "cell_type": "code",
   "execution_count": 4,
   "id": "480ff9b7-e0ca-4553-9576-dd08c0b2325f",
   "metadata": {},
   "outputs": [],
   "source": [
    "s={}"
   ]
  },
  {
   "cell_type": "code",
   "execution_count": 5,
   "id": "a1b2bff4-799a-4b7b-bcf7-458e2a8e173a",
   "metadata": {},
   "outputs": [
    {
     "data": {
      "text/plain": [
       "dict"
      ]
     },
     "execution_count": 5,
     "metadata": {},
     "output_type": "execute_result"
    }
   ],
   "source": [
    "type(s)"
   ]
  },
  {
   "cell_type": "code",
   "execution_count": 6,
   "id": "eeb69906-b561-4b79-9953-6d8c3179e68d",
   "metadata": {},
   "outputs": [],
   "source": [
    "s1={1,2,3,4,5}"
   ]
  },
  {
   "cell_type": "code",
   "execution_count": 7,
   "id": "c8417582-4df8-45af-9e75-77953f874e2e",
   "metadata": {},
   "outputs": [
    {
     "data": {
      "text/plain": [
       "set"
      ]
     },
     "execution_count": 7,
     "metadata": {},
     "output_type": "execute_result"
    }
   ],
   "source": [
    "type(s1)"
   ]
  },
  {
   "cell_type": "code",
   "execution_count": 10,
   "id": "88280afe-3c87-4dd2-8816-b30a06624821",
   "metadata": {},
   "outputs": [],
   "source": [
    "s2={1,1,2,2,10,12,15,20,20,20,40,40,40,40,100,80,99,100,80,200}"
   ]
  },
  {
   "cell_type": "code",
   "execution_count": 11,
   "id": "33549a74-2e26-47cb-abb5-f434f17e1c8a",
   "metadata": {},
   "outputs": [
    {
     "data": {
      "text/plain": [
       "{1, 2, 10, 12, 15, 20, 40, 80, 99, 100, 200}"
      ]
     },
     "execution_count": 11,
     "metadata": {},
     "output_type": "execute_result"
    }
   ],
   "source": [
    "s2"
   ]
  },
  {
   "cell_type": "code",
   "execution_count": 16,
   "id": "240ceeda-42c4-4e8c-aa82-3e0b42ee3b27",
   "metadata": {},
   "outputs": [],
   "source": [
    "L=list(s2)"
   ]
  },
  {
   "cell_type": "code",
   "execution_count": 17,
   "id": "7cc7180b-5851-4bdf-8904-5f9ac1caacae",
   "metadata": {},
   "outputs": [
    {
     "data": {
      "text/plain": [
       "(1, 2, 99, 100, 40, 200, 10, 12, 15, 80, 20)"
      ]
     },
     "execution_count": 17,
     "metadata": {},
     "output_type": "execute_result"
    }
   ],
   "source": [
    "tuple(s2)"
   ]
  },
  {
   "cell_type": "code",
   "execution_count": 18,
   "id": "e4fbd297-efb7-4944-92f3-028e8fff6523",
   "metadata": {},
   "outputs": [
    {
     "data": {
      "text/plain": [
       "set"
      ]
     },
     "execution_count": 18,
     "metadata": {},
     "output_type": "execute_result"
    }
   ],
   "source": [
    "type(s2)"
   ]
  },
  {
   "cell_type": "code",
   "execution_count": 19,
   "id": "7529f301-a226-4271-9880-fcba696f5912",
   "metadata": {},
   "outputs": [
    {
     "data": {
      "text/plain": [
       "list"
      ]
     },
     "execution_count": 19,
     "metadata": {},
     "output_type": "execute_result"
    }
   ],
   "source": [
    "type(L)"
   ]
  },
  {
   "cell_type": "code",
   "execution_count": 20,
   "id": "a6de77a5-4fe3-4c02-956b-43c6291095f2",
   "metadata": {},
   "outputs": [
    {
     "data": {
      "text/plain": [
       "{1, 2, 10, 12, 15, 20, 40, 80, 99, 100, 200}"
      ]
     },
     "execution_count": 20,
     "metadata": {},
     "output_type": "execute_result"
    }
   ],
   "source": [
    "set(L)"
   ]
  },
  {
   "cell_type": "code",
   "execution_count": 22,
   "id": "03967eb1-bdf4-4665-a659-5620a6ee14c9",
   "metadata": {},
   "outputs": [
    {
     "ename": "TypeError",
     "evalue": "unhashable type: 'list'",
     "output_type": "error",
     "traceback": [
      "\u001b[0;31m---------------------------------------------------------------------------\u001b[0m",
      "\u001b[0;31mTypeError\u001b[0m                                 Traceback (most recent call last)",
      "Cell \u001b[0;32mIn[22], line 1\u001b[0m\n\u001b[0;32m----> 1\u001b[0m s4\u001b[38;5;241m=\u001b[39m{\u001b[38;5;241m1\u001b[39m,\u001b[38;5;241m2\u001b[39m,\u001b[38;5;241m3\u001b[39m,\u001b[38;5;241m4\u001b[39m,\u001b[38;5;241m5\u001b[39m,[\u001b[38;5;241m1\u001b[39m]}\n",
      "\u001b[0;31mTypeError\u001b[0m: unhashable type: 'list'"
     ]
    }
   ],
   "source": [
    "s4={1,2,3,4,5,[1]}"
   ]
  },
  {
   "cell_type": "code",
   "execution_count": 23,
   "id": "9274115a-e20d-4767-b338-267c65dae6bb",
   "metadata": {},
   "outputs": [],
   "source": [
    "s5={1,2,3,4,5,(1,2,3,4,5)}"
   ]
  },
  {
   "cell_type": "code",
   "execution_count": 25,
   "id": "8959ffc5-dcd6-4c70-bc63-83af9890bf14",
   "metadata": {},
   "outputs": [
    {
     "data": {
      "text/plain": [
       "{(1, 2, 3, 4, 5), 1, 2, 3, 4, 5}"
      ]
     },
     "execution_count": 25,
     "metadata": {},
     "output_type": "execute_result"
    }
   ],
   "source": [
    "s5"
   ]
  },
  {
   "cell_type": "code",
   "execution_count": 26,
   "id": "952d8186-9e2d-42df-b05f-8bed6c8a4035",
   "metadata": {},
   "outputs": [],
   "source": [
    "s6={\"Driptarshi\",\"driptarshi\",4,2,3,5,1}"
   ]
  },
  {
   "cell_type": "code",
   "execution_count": 27,
   "id": "e4119f9f-fe84-4f85-ac6e-9d29a64bb46a",
   "metadata": {},
   "outputs": [
    {
     "data": {
      "text/plain": [
       "{1, 2, 3, 4, 5, 'Driptarshi', 'driptarshi'}"
      ]
     },
     "execution_count": 27,
     "metadata": {},
     "output_type": "execute_result"
    }
   ],
   "source": [
    "s6"
   ]
  },
  {
   "cell_type": "code",
   "execution_count": 28,
   "id": "722c9533-eef0-437c-9054-12f747bdf55b",
   "metadata": {},
   "outputs": [],
   "source": [
    "s7={2,4,3,5,1,\"Driptarshi\",\"Driptarshi\"}"
   ]
  },
  {
   "cell_type": "code",
   "execution_count": 29,
   "id": "acbe6920-cb52-4869-ac95-e3d682716d53",
   "metadata": {},
   "outputs": [
    {
     "data": {
      "text/plain": [
       "{1, 2, 3, 4, 5, 'Driptarshi'}"
      ]
     },
     "execution_count": 29,
     "metadata": {},
     "output_type": "execute_result"
    }
   ],
   "source": [
    "s7"
   ]
  },
  {
   "cell_type": "code",
   "execution_count": 30,
   "id": "b205d76c-5463-44e3-8230-9246f69adf46",
   "metadata": {},
   "outputs": [
    {
     "ename": "TypeError",
     "evalue": "'set' object is not subscriptable",
     "output_type": "error",
     "traceback": [
      "\u001b[0;31m---------------------------------------------------------------------------\u001b[0m",
      "\u001b[0;31mTypeError\u001b[0m                                 Traceback (most recent call last)",
      "Cell \u001b[0;32mIn[30], line 1\u001b[0m\n\u001b[0;32m----> 1\u001b[0m \u001b[43ms7\u001b[49m\u001b[43m[\u001b[49m\u001b[38;5;241;43m0\u001b[39;49m\u001b[43m]\u001b[49m\n",
      "\u001b[0;31mTypeError\u001b[0m: 'set' object is not subscriptable"
     ]
    }
   ],
   "source": [
    "s7[0]"
   ]
  },
  {
   "cell_type": "code",
   "execution_count": 31,
   "id": "c1ca9ece-d50d-451e-8904-1200f59e0004",
   "metadata": {},
   "outputs": [
    {
     "ename": "TypeError",
     "evalue": "'set' object is not subscriptable",
     "output_type": "error",
     "traceback": [
      "\u001b[0;31m---------------------------------------------------------------------------\u001b[0m",
      "\u001b[0;31mTypeError\u001b[0m                                 Traceback (most recent call last)",
      "Cell \u001b[0;32mIn[31], line 1\u001b[0m\n\u001b[0;32m----> 1\u001b[0m \u001b[43ms7\u001b[49m\u001b[43m[\u001b[49m\u001b[43m:\u001b[49m\u001b[43m:\u001b[49m\u001b[38;5;241;43m-\u001b[39;49m\u001b[38;5;241;43m1\u001b[39;49m\u001b[43m]\u001b[49m\n",
      "\u001b[0;31mTypeError\u001b[0m: 'set' object is not subscriptable"
     ]
    }
   ],
   "source": [
    "s7[::-1]"
   ]
  },
  {
   "cell_type": "code",
   "execution_count": 32,
   "id": "9cb683d2-519e-4ca1-a575-2c72c7e0a8fc",
   "metadata": {},
   "outputs": [
    {
     "data": {
      "text/plain": [
       "{1, 2, 3, 4, 5, 'Driptarshi'}"
      ]
     },
     "execution_count": 32,
     "metadata": {},
     "output_type": "execute_result"
    }
   ],
   "source": [
    "s7"
   ]
  },
  {
   "cell_type": "code",
   "execution_count": 33,
   "id": "995c2131-200d-492f-a8a6-2e6198e41c3e",
   "metadata": {},
   "outputs": [
    {
     "name": "stdout",
     "output_type": "stream",
     "text": [
      "1\n",
      "2\n",
      "3\n",
      "4\n",
      "5\n",
      "Driptarshi\n"
     ]
    }
   ],
   "source": [
    "for i in s7:\n",
    "    print(i)"
   ]
  },
  {
   "cell_type": "code",
   "execution_count": 34,
   "id": "15bbdc5c-3150-4252-ab16-50ec193bb169",
   "metadata": {},
   "outputs": [
    {
     "data": {
      "text/plain": [
       "{1, 2, 3, 4, 5, 'Driptarshi'}"
      ]
     },
     "execution_count": 34,
     "metadata": {},
     "output_type": "execute_result"
    }
   ],
   "source": [
    "s7"
   ]
  },
  {
   "cell_type": "code",
   "execution_count": 35,
   "id": "aa7108f9-c6a1-4278-8a38-350e74044d89",
   "metadata": {},
   "outputs": [],
   "source": [
    "s7.add(12)"
   ]
  },
  {
   "cell_type": "code",
   "execution_count": 36,
   "id": "dcd6ea1a-2936-45b1-86c8-6bfd01b5723f",
   "metadata": {},
   "outputs": [
    {
     "data": {
      "text/plain": [
       "{1, 12, 2, 3, 4, 5, 'Driptarshi'}"
      ]
     },
     "execution_count": 36,
     "metadata": {},
     "output_type": "execute_result"
    }
   ],
   "source": [
    "s7"
   ]
  },
  {
   "cell_type": "code",
   "execution_count": 37,
   "id": "4d4fa421-c630-4add-9b91-eee160971da7",
   "metadata": {},
   "outputs": [],
   "source": [
    "s7.add(2)"
   ]
  },
  {
   "cell_type": "code",
   "execution_count": 38,
   "id": "c59afb21-eaa0-4f74-a796-c5ba86733ad2",
   "metadata": {},
   "outputs": [
    {
     "data": {
      "text/plain": [
       "{1, 12, 2, 3, 4, 5, 'Driptarshi'}"
      ]
     },
     "execution_count": 38,
     "metadata": {},
     "output_type": "execute_result"
    }
   ],
   "source": [
    "s7"
   ]
  },
  {
   "cell_type": "code",
   "execution_count": 39,
   "id": "30293e99-053c-48ff-835f-c904e761713b",
   "metadata": {},
   "outputs": [],
   "source": [
    "s7.add(\"Ray\")"
   ]
  },
  {
   "cell_type": "code",
   "execution_count": 40,
   "id": "63e96253-05e4-4e59-b2e2-5c1e66dd6375",
   "metadata": {},
   "outputs": [
    {
     "data": {
      "text/plain": [
       "{1, 12, 2, 3, 4, 5, 'Driptarshi', 'Ray'}"
      ]
     },
     "execution_count": 40,
     "metadata": {},
     "output_type": "execute_result"
    }
   ],
   "source": [
    "s7"
   ]
  },
  {
   "cell_type": "code",
   "execution_count": 41,
   "id": "dbf7a29f-49aa-438e-a158-a27759d7866e",
   "metadata": {},
   "outputs": [
    {
     "data": {
      "text/plain": [
       "8"
      ]
     },
     "execution_count": 41,
     "metadata": {},
     "output_type": "execute_result"
    }
   ],
   "source": [
    "len(s7)"
   ]
  },
  {
   "cell_type": "code",
   "execution_count": 42,
   "id": "52209394-038c-4b56-ab82-8f643f6b21ca",
   "metadata": {},
   "outputs": [],
   "source": [
    "s7.add(34)"
   ]
  },
  {
   "cell_type": "code",
   "execution_count": 43,
   "id": "d5079ba5-b295-4de4-b19f-c53b9b852ad4",
   "metadata": {},
   "outputs": [
    {
     "data": {
      "text/plain": [
       "{1, 12, 2, 3, 34, 4, 5, 'Driptarshi', 'Ray'}"
      ]
     },
     "execution_count": 43,
     "metadata": {},
     "output_type": "execute_result"
    }
   ],
   "source": [
    "s7"
   ]
  },
  {
   "cell_type": "code",
   "execution_count": 47,
   "id": "c5e76944-d862-4d6e-bfa6-6dd1782d96c1",
   "metadata": {},
   "outputs": [
    {
     "data": {
      "text/plain": [
       "1"
      ]
     },
     "execution_count": 47,
     "metadata": {},
     "output_type": "execute_result"
    }
   ],
   "source": [
    "s7.pop()"
   ]
  },
  {
   "cell_type": "code",
   "execution_count": 48,
   "id": "02ebf539-f8cd-402f-9ae0-dfef940c9215",
   "metadata": {},
   "outputs": [
    {
     "data": {
      "text/plain": [
       "{12, 2, 3, 34, 4, 5, 'Driptarshi', 'Ray'}"
      ]
     },
     "execution_count": 48,
     "metadata": {},
     "output_type": "execute_result"
    }
   ],
   "source": [
    "s7"
   ]
  },
  {
   "cell_type": "code",
   "execution_count": 49,
   "id": "4fbe34c8-285e-4050-8721-cb052a4a5dd9",
   "metadata": {},
   "outputs": [
    {
     "data": {
      "text/plain": [
       "2"
      ]
     },
     "execution_count": 49,
     "metadata": {},
     "output_type": "execute_result"
    }
   ],
   "source": [
    "s7.pop()"
   ]
  },
  {
   "cell_type": "code",
   "execution_count": 50,
   "id": "75d522a9-08a1-4ab5-bf96-b0b01c212434",
   "metadata": {},
   "outputs": [
    {
     "data": {
      "text/plain": [
       "{12, 3, 34, 4, 5, 'Driptarshi', 'Ray'}"
      ]
     },
     "execution_count": 50,
     "metadata": {},
     "output_type": "execute_result"
    }
   ],
   "source": [
    "s7"
   ]
  },
  {
   "cell_type": "code",
   "execution_count": 51,
   "id": "866e05fa-550d-4a23-a143-fea5f5914c93",
   "metadata": {},
   "outputs": [
    {
     "data": {
      "text/plain": [
       "3"
      ]
     },
     "execution_count": 51,
     "metadata": {},
     "output_type": "execute_result"
    }
   ],
   "source": [
    "s7.pop()"
   ]
  },
  {
   "cell_type": "code",
   "execution_count": 52,
   "id": "064674e2-39db-4194-bcc2-95dcc7b3f1a4",
   "metadata": {},
   "outputs": [
    {
     "data": {
      "text/plain": [
       "{12, 34, 4, 5, 'Driptarshi', 'Ray'}"
      ]
     },
     "execution_count": 52,
     "metadata": {},
     "output_type": "execute_result"
    }
   ],
   "source": [
    "s7"
   ]
  },
  {
   "cell_type": "code",
   "execution_count": 53,
   "id": "c8e3eb53-3bfe-4643-9fca-038e32f469a5",
   "metadata": {},
   "outputs": [
    {
     "ename": "TypeError",
     "evalue": "set.pop() takes no arguments (1 given)",
     "output_type": "error",
     "traceback": [
      "\u001b[0;31m---------------------------------------------------------------------------\u001b[0m",
      "\u001b[0;31mTypeError\u001b[0m                                 Traceback (most recent call last)",
      "Cell \u001b[0;32mIn[53], line 1\u001b[0m\n\u001b[0;32m----> 1\u001b[0m \u001b[43ms7\u001b[49m\u001b[38;5;241;43m.\u001b[39;49m\u001b[43mpop\u001b[49m\u001b[43m(\u001b[49m\u001b[38;5;241;43m0\u001b[39;49m\u001b[43m)\u001b[49m\n",
      "\u001b[0;31mTypeError\u001b[0m: set.pop() takes no arguments (1 given)"
     ]
    }
   ],
   "source": [
    "s7.pop(0)"
   ]
  },
  {
   "cell_type": "code",
   "execution_count": 54,
   "id": "8be3bc8c-294d-4d64-aa1a-3c2a6bff0922",
   "metadata": {},
   "outputs": [],
   "source": [
    "s8={1,2,3,4,5,\"abc\"}"
   ]
  },
  {
   "cell_type": "code",
   "execution_count": 55,
   "id": "e95b7416-3c2c-41a2-93b5-c3a25bfd39a8",
   "metadata": {},
   "outputs": [
    {
     "data": {
      "text/plain": [
       "{1, 2, 3, 4, 5, 'abc'}"
      ]
     },
     "execution_count": 55,
     "metadata": {},
     "output_type": "execute_result"
    }
   ],
   "source": [
    "s8"
   ]
  },
  {
   "cell_type": "code",
   "execution_count": 56,
   "id": "24ac75b1-b4a5-4e92-ba58-01af48fdaf58",
   "metadata": {},
   "outputs": [],
   "source": [
    "s8.clear()"
   ]
  },
  {
   "cell_type": "code",
   "execution_count": 57,
   "id": "6a881ee3-8507-4e6d-bde1-0015d4fec0c2",
   "metadata": {},
   "outputs": [
    {
     "data": {
      "text/plain": [
       "set()"
      ]
     },
     "execution_count": 57,
     "metadata": {},
     "output_type": "execute_result"
    }
   ],
   "source": [
    "s8"
   ]
  },
  {
   "cell_type": "code",
   "execution_count": 58,
   "id": "6bdffa37-9dfa-428a-956b-55a5dc121521",
   "metadata": {},
   "outputs": [],
   "source": [
    "s9={1,2,3,4,5}\n",
    "s10={1,2,3,4,6}"
   ]
  },
  {
   "cell_type": "code",
   "execution_count": 60,
   "id": "d3000b33-2de9-46d7-be2c-10d612e58a87",
   "metadata": {},
   "outputs": [
    {
     "data": {
      "text/plain": [
       "{5}"
      ]
     },
     "execution_count": 60,
     "metadata": {},
     "output_type": "execute_result"
    }
   ],
   "source": [
    "s9.difference(s10)"
   ]
  },
  {
   "cell_type": "code",
   "execution_count": 61,
   "id": "73fe8d49-3b61-4924-b9dc-856c21508afb",
   "metadata": {},
   "outputs": [
    {
     "data": {
      "text/plain": [
       "{6}"
      ]
     },
     "execution_count": 61,
     "metadata": {},
     "output_type": "execute_result"
    }
   ],
   "source": [
    "s10.difference(s9)"
   ]
  },
  {
   "cell_type": "code",
   "execution_count": 62,
   "id": "7e47f381-caae-4eef-a9a5-b677d0b09389",
   "metadata": {},
   "outputs": [],
   "source": [
    "s11={1,2,3,4,5}"
   ]
  },
  {
   "cell_type": "code",
   "execution_count": 63,
   "id": "a717f6e0-dde5-4f27-a9a7-eeef0de65243",
   "metadata": {},
   "outputs": [
    {
     "data": {
      "text/plain": [
       "set()"
      ]
     },
     "execution_count": 63,
     "metadata": {},
     "output_type": "execute_result"
    }
   ],
   "source": [
    "s11.difference(s9)"
   ]
  },
  {
   "cell_type": "code",
   "execution_count": 66,
   "id": "923f2c45-569e-4441-81b6-57592d581242",
   "metadata": {},
   "outputs": [
    {
     "data": {
      "text/plain": [
       "139706923439200"
      ]
     },
     "execution_count": 66,
     "metadata": {},
     "output_type": "execute_result"
    }
   ],
   "source": [
    "id(s9)"
   ]
  },
  {
   "cell_type": "code",
   "execution_count": 67,
   "id": "a206cbdf-a54d-4c02-80ed-148edcb7f09b",
   "metadata": {},
   "outputs": [
    {
     "data": {
      "text/plain": [
       "139706923350752"
      ]
     },
     "execution_count": 67,
     "metadata": {},
     "output_type": "execute_result"
    }
   ],
   "source": [
    "id(s11)"
   ]
  },
  {
   "cell_type": "markdown",
   "id": "1a96d222-ba7f-4f5a-8d22-0cf68470f46c",
   "metadata": {},
   "source": [
    "## Dictionary"
   ]
  },
  {
   "cell_type": "code",
   "execution_count": 1,
   "id": "9f2680ea-aba7-4257-a348-446b70d1c920",
   "metadata": {},
   "outputs": [],
   "source": [
    "# dict={key: value, key': value',...}"
   ]
  },
  {
   "cell_type": "code",
   "execution_count": 2,
   "id": "34d91454-ff51-4f4b-8c10-b15e74303aa8",
   "metadata": {},
   "outputs": [],
   "source": [
    "d={}"
   ]
  },
  {
   "cell_type": "code",
   "execution_count": 3,
   "id": "14e1bbd4-a11f-4929-ab2b-6f000c72300b",
   "metadata": {},
   "outputs": [
    {
     "data": {
      "text/plain": [
       "dict"
      ]
     },
     "execution_count": 3,
     "metadata": {},
     "output_type": "execute_result"
    }
   ],
   "source": [
    "type(d)"
   ]
  },
  {
   "cell_type": "code",
   "execution_count": 4,
   "id": "2a8fcafe-7f19-41c2-83c5-e3cf97e19a16",
   "metadata": {},
   "outputs": [],
   "source": [
    "d1={\"name\": \"Driptarshi\",\"Email_id\": \"driptarshirqy1757@gmail.com\",\"Number\": 9007484938}"
   ]
  },
  {
   "cell_type": "code",
   "execution_count": 5,
   "id": "aa3a9605-8165-40d8-8daf-98295ad6169a",
   "metadata": {},
   "outputs": [
    {
     "data": {
      "text/plain": [
       "dict"
      ]
     },
     "execution_count": 5,
     "metadata": {},
     "output_type": "execute_result"
    }
   ],
   "source": [
    "type(d1)"
   ]
  },
  {
   "cell_type": "code",
   "execution_count": 6,
   "id": "7c1dba7d-1af9-464e-91d3-2056eabc327f",
   "metadata": {},
   "outputs": [
    {
     "data": {
      "text/plain": [
       "{'name': 'Driptarshi',\n",
       " 'Email_id': 'driptarshirqy1757@gmail.com',\n",
       " 'Number': 9007484938}"
      ]
     },
     "execution_count": 6,
     "metadata": {},
     "output_type": "execute_result"
    }
   ],
   "source": [
    "d1"
   ]
  },
  {
   "cell_type": "code",
   "execution_count": 7,
   "id": "529b70ed-affc-4132-846b-49ae22c3e8d8",
   "metadata": {},
   "outputs": [],
   "source": [
    "d2={\"name\": \"DR\", \"name\": \"Driptarshi Ray\"}"
   ]
  },
  {
   "cell_type": "code",
   "execution_count": 8,
   "id": "8b0bacc2-1564-41c4-ad2c-2ab5c48245bf",
   "metadata": {},
   "outputs": [
    {
     "data": {
      "text/plain": [
       "{'name': 'Driptarshi Ray'}"
      ]
     },
     "execution_count": 8,
     "metadata": {},
     "output_type": "execute_result"
    }
   ],
   "source": [
    "d2"
   ]
  },
  {
   "cell_type": "code",
   "execution_count": 9,
   "id": "cc966186-4212-47b1-b336-60db498ce487",
   "metadata": {},
   "outputs": [],
   "source": [
    "d3={123:\"abc\"}"
   ]
  },
  {
   "cell_type": "code",
   "execution_count": 10,
   "id": "6a56085f-6cba-4ebd-bd89-916b736c2c2f",
   "metadata": {},
   "outputs": [
    {
     "data": {
      "text/plain": [
       "{123: 'abc'}"
      ]
     },
     "execution_count": 10,
     "metadata": {},
     "output_type": "execute_result"
    }
   ],
   "source": [
    "d3"
   ]
  },
  {
   "cell_type": "code",
   "execution_count": 11,
   "id": "576498bc-4aff-473b-8e53-e6d8696a4931",
   "metadata": {},
   "outputs": [],
   "source": [
    "d4={123: \"abc\", 123: \"def\"}"
   ]
  },
  {
   "cell_type": "code",
   "execution_count": 12,
   "id": "b913cdc5-4321-4336-9212-55be07082476",
   "metadata": {},
   "outputs": [
    {
     "data": {
      "text/plain": [
       "{123: 'def'}"
      ]
     },
     "execution_count": 12,
     "metadata": {},
     "output_type": "execute_result"
    }
   ],
   "source": [
    "d4"
   ]
  },
  {
   "cell_type": "code",
   "execution_count": 14,
   "id": "7dfb9f4e-a8a5-402c-8af2-650d02e05532",
   "metadata": {},
   "outputs": [],
   "source": [
    "d5={3.14: \"abc\"}"
   ]
  },
  {
   "cell_type": "code",
   "execution_count": 15,
   "id": "72807fbb-6b9c-4b28-bd19-432f710aab89",
   "metadata": {},
   "outputs": [
    {
     "data": {
      "text/plain": [
       "{3.14: 'abc'}"
      ]
     },
     "execution_count": 15,
     "metadata": {},
     "output_type": "execute_result"
    }
   ],
   "source": [
    "d5"
   ]
  },
  {
   "cell_type": "code",
   "execution_count": 16,
   "id": "bd036f43-3d22-4d42-845b-9c7ec0502dee",
   "metadata": {},
   "outputs": [],
   "source": [
    "d6={True: \"abc\"}"
   ]
  },
  {
   "cell_type": "code",
   "execution_count": 17,
   "id": "7e5ade9f-f407-4e95-a5fa-0d70dc43f34e",
   "metadata": {},
   "outputs": [
    {
     "data": {
      "text/plain": [
       "{True: 'abc'}"
      ]
     },
     "execution_count": 17,
     "metadata": {},
     "output_type": "execute_result"
    }
   ],
   "source": [
    "d6"
   ]
  },
  {
   "cell_type": "code",
   "execution_count": 18,
   "id": "a6e1560a-bdd8-45ca-8e12-adeb67476fd1",
   "metadata": {},
   "outputs": [
    {
     "ename": "SyntaxError",
     "evalue": "invalid syntax (1775126407.py, line 1)",
     "output_type": "error",
     "traceback": [
      "\u001b[0;36m  Cell \u001b[0;32mIn[18], line 1\u001b[0;36m\u001b[0m\n\u001b[0;31m    d7={@: \"abc\"}\u001b[0m\n\u001b[0m        ^\u001b[0m\n\u001b[0;31mSyntaxError\u001b[0m\u001b[0;31m:\u001b[0m invalid syntax\n"
     ]
    }
   ],
   "source": [
    "d7={@: \"abc\"}"
   ]
  },
  {
   "cell_type": "code",
   "execution_count": 19,
   "id": "f7f351ad-9868-40d9-a895-726eaed1130e",
   "metadata": {},
   "outputs": [
    {
     "ename": "TypeError",
     "evalue": "unhashable type: 'list'",
     "output_type": "error",
     "traceback": [
      "\u001b[0;31m---------------------------------------------------------------------------\u001b[0m",
      "\u001b[0;31mTypeError\u001b[0m                                 Traceback (most recent call last)",
      "Cell \u001b[0;32mIn[19], line 1\u001b[0m\n\u001b[0;32m----> 1\u001b[0m d8\u001b[38;5;241m=\u001b[39m{[\u001b[38;5;241m1\u001b[39m,\u001b[38;5;241m2\u001b[39m,\u001b[38;5;241m3\u001b[39m]: \u001b[38;5;124m\"\u001b[39m\u001b[38;5;124mabc\u001b[39m\u001b[38;5;124m\"\u001b[39m}\n",
      "\u001b[0;31mTypeError\u001b[0m: unhashable type: 'list'"
     ]
    }
   ],
   "source": [
    "d8={[1,2,3]: \"abc\"}"
   ]
  },
  {
   "cell_type": "code",
   "execution_count": null,
   "id": "e999aedf-d65e-47a0-a147-af44ecd5866d",
   "metadata": {},
   "outputs": [],
   "source": [
    "d9={(1,2,3): \"abc\"}"
   ]
  },
  {
   "cell_type": "code",
   "execution_count": 20,
   "id": "0ba30074-6edf-4f44-89c5-b87d1f9bfe93",
   "metadata": {},
   "outputs": [
    {
     "ename": "NameError",
     "evalue": "name 'd9' is not defined",
     "output_type": "error",
     "traceback": [
      "\u001b[0;31m---------------------------------------------------------------------------\u001b[0m",
      "\u001b[0;31mNameError\u001b[0m                                 Traceback (most recent call last)",
      "Cell \u001b[0;32mIn[20], line 1\u001b[0m\n\u001b[0;32m----> 1\u001b[0m \u001b[43md9\u001b[49m\n",
      "\u001b[0;31mNameError\u001b[0m: name 'd9' is not defined"
     ]
    }
   ],
   "source": [
    "d9"
   ]
  },
  {
   "cell_type": "code",
   "execution_count": 21,
   "id": "018dc864-3046-4bf0-bac6-42f11099e8b0",
   "metadata": {},
   "outputs": [
    {
     "ename": "TypeError",
     "evalue": "unhashable type: 'set'",
     "output_type": "error",
     "traceback": [
      "\u001b[0;31m---------------------------------------------------------------------------\u001b[0m",
      "\u001b[0;31mTypeError\u001b[0m                                 Traceback (most recent call last)",
      "Cell \u001b[0;32mIn[21], line 1\u001b[0m\n\u001b[0;32m----> 1\u001b[0m d10\u001b[38;5;241m=\u001b[39m{{\u001b[38;5;241m1\u001b[39m,\u001b[38;5;241m2\u001b[39m,\u001b[38;5;241m3\u001b[39m}: \u001b[38;5;124m\"\u001b[39m\u001b[38;5;124mabc\u001b[39m\u001b[38;5;124m\"\u001b[39m}\n",
      "\u001b[0;31mTypeError\u001b[0m: unhashable type: 'set'"
     ]
    }
   ],
   "source": [
    "d10={{1,2,3}: \"abc\"}"
   ]
  },
  {
   "cell_type": "code",
   "execution_count": 22,
   "id": "fca16f68-93a1-488c-881b-06ba9e965749",
   "metadata": {},
   "outputs": [
    {
     "ename": "TypeError",
     "evalue": "unhashable type: 'dict'",
     "output_type": "error",
     "traceback": [
      "\u001b[0;31m---------------------------------------------------------------------------\u001b[0m",
      "\u001b[0;31mTypeError\u001b[0m                                 Traceback (most recent call last)",
      "Cell \u001b[0;32mIn[22], line 1\u001b[0m\n\u001b[0;32m----> 1\u001b[0m d11\u001b[38;5;241m=\u001b[39m{{\u001b[38;5;124m\"\u001b[39m\u001b[38;5;124mkey\u001b[39m\u001b[38;5;124m\"\u001b[39m:\u001b[38;5;241m123\u001b[39m}: \u001b[38;5;124m\"\u001b[39m\u001b[38;5;124mabc\u001b[39m\u001b[38;5;124m\"\u001b[39m}\n",
      "\u001b[0;31mTypeError\u001b[0m: unhashable type: 'dict'"
     ]
    }
   ],
   "source": [
    "d11={{\"key\":123}: \"abc\"}"
   ]
  },
  {
   "cell_type": "code",
   "execution_count": 23,
   "id": "4f52dc94-5eb8-4797-a92d-af218600af89",
   "metadata": {},
   "outputs": [],
   "source": [
    "d12={\"fruits\":[\"grapes\",\"apple\",\"banana\"]}"
   ]
  },
  {
   "cell_type": "code",
   "execution_count": 24,
   "id": "9f153956-ca95-45d8-9a23-724b505ec742",
   "metadata": {},
   "outputs": [
    {
     "data": {
      "text/plain": [
       "{'fruits': ['grapes', 'apple', 'banana']}"
      ]
     },
     "execution_count": 24,
     "metadata": {},
     "output_type": "execute_result"
    }
   ],
   "source": [
    "d12"
   ]
  },
  {
   "cell_type": "code",
   "execution_count": 25,
   "id": "a30f2aac-0046-4a81-8606-99f9189a3c85",
   "metadata": {},
   "outputs": [],
   "source": [
    "d14={\"key\": (1,2,3,4,5)}"
   ]
  },
  {
   "cell_type": "code",
   "execution_count": 26,
   "id": "2fc08842-71b6-46e1-ab56-0dae315f934e",
   "metadata": {},
   "outputs": [
    {
     "data": {
      "text/plain": [
       "{'key': (1, 2, 3, 4, 5)}"
      ]
     },
     "execution_count": 26,
     "metadata": {},
     "output_type": "execute_result"
    }
   ],
   "source": [
    "d14"
   ]
  },
  {
   "cell_type": "code",
   "execution_count": 27,
   "id": "e6396e8c-576d-450c-a781-a1b2cfee34fb",
   "metadata": {},
   "outputs": [],
   "source": [
    "d15={\"key\": {1,2,3,4,5}}"
   ]
  },
  {
   "cell_type": "code",
   "execution_count": 28,
   "id": "a45e6c8d-4e22-4810-a17a-0d793826e2d8",
   "metadata": {},
   "outputs": [
    {
     "data": {
      "text/plain": [
       "{'key': {1, 2, 3, 4, 5}}"
      ]
     },
     "execution_count": 28,
     "metadata": {},
     "output_type": "execute_result"
    }
   ],
   "source": [
    "d15"
   ]
  },
  {
   "cell_type": "code",
   "execution_count": 29,
   "id": "ac41cf2a-982a-4bcc-b3d7-d8ed0717cfbe",
   "metadata": {},
   "outputs": [],
   "source": [
    "d16={\"key\": {\"name\": \"Driptarshi Ray\", \"Class\": \"PG1\"}}"
   ]
  },
  {
   "cell_type": "code",
   "execution_count": 30,
   "id": "cede723b-94a0-4843-b601-73c686e2dd0d",
   "metadata": {},
   "outputs": [],
   "source": [
    "d17={\"fruits\": [\"apple\",\"grapes\",\"orange\"], \"No._of_fruits\": (1,10,2), \"Vegetables\": {\"potato\",\"egg plant\",\"carrot\"}}"
   ]
  },
  {
   "cell_type": "code",
   "execution_count": 31,
   "id": "a6aab527-09ef-48f1-bd29-c0552ecfa039",
   "metadata": {},
   "outputs": [
    {
     "data": {
      "text/plain": [
       "{'fruits': ['apple', 'grapes', 'orange'],\n",
       " 'No._of_fruits': (1, 10, 2),\n",
       " 'Vegetables': {'carrot', 'egg plant', 'potato'}}"
      ]
     },
     "execution_count": 31,
     "metadata": {},
     "output_type": "execute_result"
    }
   ],
   "source": [
    "d17"
   ]
  },
  {
   "cell_type": "code",
   "execution_count": 32,
   "id": "cd1a9db0-b279-4b85-b4b8-9da74b3f4f79",
   "metadata": {},
   "outputs": [],
   "source": [
    "d17[\"food\"]=(\"Bread\",\"Egg\")"
   ]
  },
  {
   "cell_type": "code",
   "execution_count": 33,
   "id": "cfcfe552-693f-4657-a260-1625c8a872e0",
   "metadata": {},
   "outputs": [
    {
     "data": {
      "text/plain": [
       "{'fruits': ['apple', 'grapes', 'orange'],\n",
       " 'No._of_fruits': (1, 10, 2),\n",
       " 'Vegetables': {'carrot', 'egg plant', 'potato'},\n",
       " 'food': ('Bread', 'Egg')}"
      ]
     },
     "execution_count": 33,
     "metadata": {},
     "output_type": "execute_result"
    }
   ],
   "source": [
    "d17"
   ]
  },
  {
   "cell_type": "code",
   "execution_count": 34,
   "id": "938cd044-5dea-4fc3-9762-d446916f0a42",
   "metadata": {},
   "outputs": [
    {
     "data": {
      "text/plain": [
       "('Bread', 'Egg')"
      ]
     },
     "execution_count": 34,
     "metadata": {},
     "output_type": "execute_result"
    }
   ],
   "source": [
    "d17[\"food\"]"
   ]
  },
  {
   "cell_type": "code",
   "execution_count": 35,
   "id": "87cbfa10-ef3e-4ade-b822-5d419ca2a9e6",
   "metadata": {},
   "outputs": [
    {
     "data": {
      "text/plain": [
       "{'carrot', 'egg plant', 'potato'}"
      ]
     },
     "execution_count": 35,
     "metadata": {},
     "output_type": "execute_result"
    }
   ],
   "source": [
    "d17[\"Vegetables\"]"
   ]
  },
  {
   "cell_type": "code",
   "execution_count": 36,
   "id": "5f4bc004-f688-4ccc-8768-9d1499d9fe7f",
   "metadata": {},
   "outputs": [
    {
     "data": {
      "text/plain": [
       "set"
      ]
     },
     "execution_count": 36,
     "metadata": {},
     "output_type": "execute_result"
    }
   ],
   "source": [
    "type(d17[\"Vegetables\"])"
   ]
  },
  {
   "cell_type": "code",
   "execution_count": 37,
   "id": "3e6cc7b3-8f26-4028-ae26-b2aed0ac289d",
   "metadata": {},
   "outputs": [
    {
     "ename": "KeyError",
     "evalue": "'Drinks'",
     "output_type": "error",
     "traceback": [
      "\u001b[0;31m---------------------------------------------------------------------------\u001b[0m",
      "\u001b[0;31mKeyError\u001b[0m                                  Traceback (most recent call last)",
      "Cell \u001b[0;32mIn[37], line 1\u001b[0m\n\u001b[0;32m----> 1\u001b[0m \u001b[43md17\u001b[49m\u001b[43m[\u001b[49m\u001b[38;5;124;43m\"\u001b[39;49m\u001b[38;5;124;43mDrinks\u001b[39;49m\u001b[38;5;124;43m\"\u001b[39;49m\u001b[43m]\u001b[49m\n",
      "\u001b[0;31mKeyError\u001b[0m: 'Drinks'"
     ]
    }
   ],
   "source": [
    "d17[\"Drinks\"]"
   ]
  },
  {
   "cell_type": "code",
   "execution_count": 38,
   "id": "e842f600-cad2-48ed-b0cc-dd4e2aa6adb8",
   "metadata": {},
   "outputs": [],
   "source": [
    "d17[\"Juice\"]=\"Mango juice\""
   ]
  },
  {
   "cell_type": "code",
   "execution_count": 39,
   "id": "fdb4bffa-c477-4762-b92b-d29292d1e9ce",
   "metadata": {},
   "outputs": [
    {
     "data": {
      "text/plain": [
       "{'fruits': ['apple', 'grapes', 'orange'],\n",
       " 'No._of_fruits': (1, 10, 2),\n",
       " 'Vegetables': {'carrot', 'egg plant', 'potato'},\n",
       " 'food': ('Bread', 'Egg'),\n",
       " 'Juice': 'Mango juice'}"
      ]
     },
     "execution_count": 39,
     "metadata": {},
     "output_type": "execute_result"
    }
   ],
   "source": [
    "d17"
   ]
  },
  {
   "cell_type": "code",
   "execution_count": 40,
   "id": "4bb33dc1-270b-4417-9349-7674faebd242",
   "metadata": {},
   "outputs": [
    {
     "data": {
      "text/plain": [
       "'Mango juice'"
      ]
     },
     "execution_count": 40,
     "metadata": {},
     "output_type": "execute_result"
    }
   ],
   "source": [
    "d17['Juice']"
   ]
  },
  {
   "cell_type": "code",
   "execution_count": 41,
   "id": "3f6a4bb4-59f8-4328-9600-4705c59bc725",
   "metadata": {},
   "outputs": [
    {
     "data": {
      "text/plain": [
       "'MANGO JUICE'"
      ]
     },
     "execution_count": 41,
     "metadata": {},
     "output_type": "execute_result"
    }
   ],
   "source": [
    "d17[\"Juice\"].upper()"
   ]
  },
  {
   "cell_type": "code",
   "execution_count": 42,
   "id": "71ba3358-9212-4ae1-8b41-1229bcc548bc",
   "metadata": {},
   "outputs": [],
   "source": [
    "d16={\"key\": {\"name\": \"Driptarshi Ray\", \"Class\": \"PG1\"}}"
   ]
  },
  {
   "cell_type": "code",
   "execution_count": 43,
   "id": "d79da8e1-a109-4aae-a1ae-8ccee987342e",
   "metadata": {},
   "outputs": [
    {
     "data": {
      "text/plain": [
       "{'name': 'Driptarshi Ray', 'Class': 'PG1'}"
      ]
     },
     "execution_count": 43,
     "metadata": {},
     "output_type": "execute_result"
    }
   ],
   "source": [
    "d16[\"key\"]"
   ]
  },
  {
   "cell_type": "code",
   "execution_count": 44,
   "id": "705e3828-29bd-4555-aafe-de4f37855ac2",
   "metadata": {},
   "outputs": [
    {
     "data": {
      "text/plain": [
       "dict"
      ]
     },
     "execution_count": 44,
     "metadata": {},
     "output_type": "execute_result"
    }
   ],
   "source": [
    "type(d16[\"key\"])"
   ]
  },
  {
   "cell_type": "code",
   "execution_count": 45,
   "id": "02fd6454-ccea-40e2-a140-edcebcbc1aba",
   "metadata": {},
   "outputs": [
    {
     "data": {
      "text/plain": [
       "'PG1'"
      ]
     },
     "execution_count": 45,
     "metadata": {},
     "output_type": "execute_result"
    }
   ],
   "source": [
    "d16[\"key\"][\"Class\"]"
   ]
  },
  {
   "cell_type": "code",
   "execution_count": 46,
   "id": "50f62647-accc-490a-8894-da1a964b61a6",
   "metadata": {},
   "outputs": [],
   "source": [
    "d16[\"New_Class\"]=\"PG2\""
   ]
  },
  {
   "cell_type": "code",
   "execution_count": 47,
   "id": "2bf9cad2-9b57-48e5-a0cb-2fa66ba24eed",
   "metadata": {},
   "outputs": [
    {
     "data": {
      "text/plain": [
       "{'key': {'name': 'Driptarshi Ray', 'Class': 'PG1'}, 'New_Class': 'PG2'}"
      ]
     },
     "execution_count": 47,
     "metadata": {},
     "output_type": "execute_result"
    }
   ],
   "source": [
    "d16"
   ]
  },
  {
   "cell_type": "code",
   "execution_count": 48,
   "id": "fd924800-0c16-4c73-b275-b20eca7114f4",
   "metadata": {},
   "outputs": [],
   "source": [
    "del(d16[\"New_Class\"])"
   ]
  },
  {
   "cell_type": "code",
   "execution_count": 49,
   "id": "072c5b8e-324b-4a3d-9c15-cffed8876fdd",
   "metadata": {},
   "outputs": [
    {
     "data": {
      "text/plain": [
       "{'key': {'name': 'Driptarshi Ray', 'Class': 'PG1'}}"
      ]
     },
     "execution_count": 49,
     "metadata": {},
     "output_type": "execute_result"
    }
   ],
   "source": [
    "d16"
   ]
  },
  {
   "cell_type": "code",
   "execution_count": 50,
   "id": "4b15eb39-d69e-45e7-a577-460e8455c976",
   "metadata": {},
   "outputs": [],
   "source": [
    "d16.clear()"
   ]
  },
  {
   "cell_type": "code",
   "execution_count": 51,
   "id": "d7ec4d57-58a6-4d04-b3c5-92f19bd65884",
   "metadata": {},
   "outputs": [
    {
     "data": {
      "text/plain": [
       "{}"
      ]
     },
     "execution_count": 51,
     "metadata": {},
     "output_type": "execute_result"
    }
   ],
   "source": [
    "d16"
   ]
  },
  {
   "cell_type": "code",
   "execution_count": 52,
   "id": "ff6d0237-1a57-45c3-a941-ee7134c4b4df",
   "metadata": {},
   "outputs": [
    {
     "data": {
      "text/plain": [
       "5"
      ]
     },
     "execution_count": 52,
     "metadata": {},
     "output_type": "execute_result"
    }
   ],
   "source": [
    "len(d17)"
   ]
  },
  {
   "cell_type": "code",
   "execution_count": 53,
   "id": "837f4065-a4d0-42b0-90aa-88dc89ef0acb",
   "metadata": {},
   "outputs": [
    {
     "data": {
      "text/plain": [
       "{'fruits': ['apple', 'grapes', 'orange'],\n",
       " 'No._of_fruits': (1, 10, 2),\n",
       " 'Vegetables': {'carrot', 'egg plant', 'potato'},\n",
       " 'food': ('Bread', 'Egg'),\n",
       " 'Juice': 'Mango juice'}"
      ]
     },
     "execution_count": 53,
     "metadata": {},
     "output_type": "execute_result"
    }
   ],
   "source": [
    "d17"
   ]
  },
  {
   "cell_type": "code",
   "execution_count": 54,
   "id": "83e6578d-4fab-4466-86cc-ba0d1cdf61c1",
   "metadata": {},
   "outputs": [
    {
     "data": {
      "text/plain": [
       "dict_keys(['fruits', 'No._of_fruits', 'Vegetables', 'food', 'Juice'])"
      ]
     },
     "execution_count": 54,
     "metadata": {},
     "output_type": "execute_result"
    }
   ],
   "source": [
    "d17.keys()"
   ]
  },
  {
   "cell_type": "code",
   "execution_count": 55,
   "id": "74c736cc-f0c3-446a-9de6-76fa70367725",
   "metadata": {},
   "outputs": [
    {
     "data": {
      "text/plain": [
       "dict_values([['apple', 'grapes', 'orange'], (1, 10, 2), {'carrot', 'potato', 'egg plant'}, ('Bread', 'Egg'), 'Mango juice'])"
      ]
     },
     "execution_count": 55,
     "metadata": {},
     "output_type": "execute_result"
    }
   ],
   "source": [
    "d17.values()"
   ]
  },
  {
   "cell_type": "code",
   "execution_count": 56,
   "id": "60e0fe8d-16f1-4126-b552-2cf905685888",
   "metadata": {},
   "outputs": [
    {
     "data": {
      "text/plain": [
       "['fruits', 'No._of_fruits', 'Vegetables', 'food', 'Juice']"
      ]
     },
     "execution_count": 56,
     "metadata": {},
     "output_type": "execute_result"
    }
   ],
   "source": [
    "list(d17.keys())"
   ]
  },
  {
   "cell_type": "code",
   "execution_count": 57,
   "id": "819d7e37-884b-4782-9b22-e72cd0e9a934",
   "metadata": {},
   "outputs": [
    {
     "data": {
      "text/plain": [
       "[['apple', 'grapes', 'orange'],\n",
       " (1, 10, 2),\n",
       " {'carrot', 'egg plant', 'potato'},\n",
       " ('Bread', 'Egg'),\n",
       " 'Mango juice']"
      ]
     },
     "execution_count": 57,
     "metadata": {},
     "output_type": "execute_result"
    }
   ],
   "source": [
    "list(d17.values())"
   ]
  },
  {
   "cell_type": "code",
   "execution_count": 58,
   "id": "8384ea8e-cb24-4848-9a36-c91c8cea3759",
   "metadata": {},
   "outputs": [
    {
     "data": {
      "text/plain": [
       "[('fruits', ['apple', 'grapes', 'orange']),\n",
       " ('No._of_fruits', (1, 10, 2)),\n",
       " ('Vegetables', {'carrot', 'egg plant', 'potato'}),\n",
       " ('food', ('Bread', 'Egg')),\n",
       " ('Juice', 'Mango juice')]"
      ]
     },
     "execution_count": 58,
     "metadata": {},
     "output_type": "execute_result"
    }
   ],
   "source": [
    "list(d17.items())"
   ]
  },
  {
   "cell_type": "code",
   "execution_count": 59,
   "id": "5b1fb8cf-d71a-4ff1-a761-3edcf8c4df8d",
   "metadata": {},
   "outputs": [
    {
     "data": {
      "text/plain": [
       "{'fruits': ['apple', 'grapes', 'orange'],\n",
       " 'No._of_fruits': (1, 10, 2),\n",
       " 'Vegetables': {'carrot', 'egg plant', 'potato'},\n",
       " 'food': ('Bread', 'Egg'),\n",
       " 'Juice': 'Mango juice'}"
      ]
     },
     "execution_count": 59,
     "metadata": {},
     "output_type": "execute_result"
    }
   ],
   "source": [
    "d17"
   ]
  },
  {
   "cell_type": "code",
   "execution_count": 60,
   "id": "19f69833-6568-4d81-a077-8436ec754639",
   "metadata": {},
   "outputs": [],
   "source": [
    "d18 = d17.copy()"
   ]
  },
  {
   "cell_type": "code",
   "execution_count": 61,
   "id": "1f8b0bdd-36f6-48f9-8500-b65d0ca0e2f4",
   "metadata": {},
   "outputs": [
    {
     "data": {
      "text/plain": [
       "{'fruits': ['apple', 'grapes', 'orange'],\n",
       " 'No._of_fruits': (1, 10, 2),\n",
       " 'Vegetables': {'carrot', 'egg plant', 'potato'},\n",
       " 'food': ('Bread', 'Egg'),\n",
       " 'Juice': 'Mango juice'}"
      ]
     },
     "execution_count": 61,
     "metadata": {},
     "output_type": "execute_result"
    }
   ],
   "source": [
    "d18"
   ]
  },
  {
   "cell_type": "code",
   "execution_count": 62,
   "id": "f577c6bd-270c-4a9e-8b70-0b618a9b1e3a",
   "metadata": {},
   "outputs": [],
   "source": [
    "del(d17[\"Juice\"])"
   ]
  },
  {
   "cell_type": "code",
   "execution_count": 63,
   "id": "99543cc4-ac7c-48ae-92b5-cf5c2e7fc6f4",
   "metadata": {},
   "outputs": [
    {
     "data": {
      "text/plain": [
       "{'fruits': ['apple', 'grapes', 'orange'],\n",
       " 'No._of_fruits': (1, 10, 2),\n",
       " 'Vegetables': {'carrot', 'egg plant', 'potato'},\n",
       " 'food': ('Bread', 'Egg')}"
      ]
     },
     "execution_count": 63,
     "metadata": {},
     "output_type": "execute_result"
    }
   ],
   "source": [
    "d17"
   ]
  },
  {
   "cell_type": "code",
   "execution_count": 64,
   "id": "8544aa43-b601-4537-9e73-69ab4d2ce5b6",
   "metadata": {},
   "outputs": [
    {
     "data": {
      "text/plain": [
       "{'fruits': ['apple', 'grapes', 'orange'],\n",
       " 'No._of_fruits': (1, 10, 2),\n",
       " 'Vegetables': {'carrot', 'egg plant', 'potato'},\n",
       " 'food': ('Bread', 'Egg'),\n",
       " 'Juice': 'Mango juice'}"
      ]
     },
     "execution_count": 64,
     "metadata": {},
     "output_type": "execute_result"
    }
   ],
   "source": [
    "d18"
   ]
  },
  {
   "cell_type": "code",
   "execution_count": 65,
   "id": "86dd1689-1ced-40f4-85a8-79978dabbe31",
   "metadata": {},
   "outputs": [],
   "source": [
    "d19=d17"
   ]
  },
  {
   "cell_type": "code",
   "execution_count": 66,
   "id": "6011240b-d452-4184-8db4-d9e1690570e6",
   "metadata": {},
   "outputs": [
    {
     "data": {
      "text/plain": [
       "{'fruits': ['apple', 'grapes', 'orange'],\n",
       " 'No._of_fruits': (1, 10, 2),\n",
       " 'Vegetables': {'carrot', 'egg plant', 'potato'},\n",
       " 'food': ('Bread', 'Egg')}"
      ]
     },
     "execution_count": 66,
     "metadata": {},
     "output_type": "execute_result"
    }
   ],
   "source": [
    "d19"
   ]
  },
  {
   "cell_type": "code",
   "execution_count": 67,
   "id": "1136527e-f68d-4a9d-b158-40fde7d28f3e",
   "metadata": {},
   "outputs": [
    {
     "data": {
      "text/plain": [
       "{'fruits': ['apple', 'grapes', 'orange'],\n",
       " 'No._of_fruits': (1, 10, 2),\n",
       " 'Vegetables': {'carrot', 'egg plant', 'potato'},\n",
       " 'food': ('Bread', 'Egg')}"
      ]
     },
     "execution_count": 67,
     "metadata": {},
     "output_type": "execute_result"
    }
   ],
   "source": [
    "d17"
   ]
  },
  {
   "cell_type": "code",
   "execution_count": 68,
   "id": "efa0e78e-8456-4126-b965-184834037979",
   "metadata": {},
   "outputs": [
    {
     "ename": "TypeError",
     "evalue": "pop expected at least 1 argument, got 0",
     "output_type": "error",
     "traceback": [
      "\u001b[0;31m---------------------------------------------------------------------------\u001b[0m",
      "\u001b[0;31mTypeError\u001b[0m                                 Traceback (most recent call last)",
      "Cell \u001b[0;32mIn[68], line 1\u001b[0m\n\u001b[0;32m----> 1\u001b[0m \u001b[43md17\u001b[49m\u001b[38;5;241;43m.\u001b[39;49m\u001b[43mpop\u001b[49m\u001b[43m(\u001b[49m\u001b[43m)\u001b[49m\n",
      "\u001b[0;31mTypeError\u001b[0m: pop expected at least 1 argument, got 0"
     ]
    }
   ],
   "source": [
    "d17.pop()"
   ]
  },
  {
   "cell_type": "code",
   "execution_count": 69,
   "id": "d4fcb4a6-d97d-4779-a996-5db15632752f",
   "metadata": {},
   "outputs": [
    {
     "data": {
      "text/plain": [
       "(1, 10, 2)"
      ]
     },
     "execution_count": 69,
     "metadata": {},
     "output_type": "execute_result"
    }
   ],
   "source": [
    "d17.pop('No._of_fruits')"
   ]
  },
  {
   "cell_type": "code",
   "execution_count": 70,
   "id": "216b65a8-6112-4a9c-a5b5-b29e290ca4ea",
   "metadata": {},
   "outputs": [
    {
     "data": {
      "text/plain": [
       "{'fruits': ['apple', 'grapes', 'orange'],\n",
       " 'Vegetables': {'carrot', 'egg plant', 'potato'},\n",
       " 'food': ('Bread', 'Egg')}"
      ]
     },
     "execution_count": 70,
     "metadata": {},
     "output_type": "execute_result"
    }
   ],
   "source": [
    "d17"
   ]
  },
  {
   "cell_type": "code",
   "execution_count": 71,
   "id": "6df7471e-58e1-452c-8ce4-caca8e9e8d50",
   "metadata": {},
   "outputs": [
    {
     "data": {
      "text/plain": [
       "('Bread', 'Egg')"
      ]
     },
     "execution_count": 71,
     "metadata": {},
     "output_type": "execute_result"
    }
   ],
   "source": [
    "d17.pop(\"food\")"
   ]
  },
  {
   "cell_type": "code",
   "execution_count": 72,
   "id": "8fa3abdd-3abd-400a-9765-66d612984c07",
   "metadata": {},
   "outputs": [
    {
     "data": {
      "text/plain": [
       "{'fruits': ['apple', 'grapes', 'orange'],\n",
       " 'Vegetables': {'carrot', 'egg plant', 'potato'}}"
      ]
     },
     "execution_count": 72,
     "metadata": {},
     "output_type": "execute_result"
    }
   ],
   "source": [
    "d17"
   ]
  },
  {
   "cell_type": "code",
   "execution_count": 73,
   "id": "ff117e53-8a63-4212-bb74-cbcc30168119",
   "metadata": {},
   "outputs": [
    {
     "data": {
      "text/plain": [
       "{'a': (1, 2, 3), 'b': (1, 2, 3), 'c': (1, 2, 3)}"
      ]
     },
     "execution_count": 73,
     "metadata": {},
     "output_type": "execute_result"
    }
   ],
   "source": [
    "d.fromkeys((\"a\",\"b\",\"c\"),(1,2,3))"
   ]
  },
  {
   "cell_type": "code",
   "execution_count": 74,
   "id": "7ebbfe9f-a58b-4030-af72-6682a377071a",
   "metadata": {},
   "outputs": [],
   "source": [
    "d20={\"K1\":\"V1\",\"K2\":\"V2\",\"K3\":\"V3\"}\n",
    "d21={\"K4\":\"V4\",\"K5\":\"V5\",\"K6\":\"V6\"}"
   ]
  },
  {
   "cell_type": "code",
   "execution_count": 75,
   "id": "c8cf1f81-6e83-44bb-9f9a-8b02b0f4ea6b",
   "metadata": {},
   "outputs": [
    {
     "data": {
      "text/plain": [
       "({'K1': 'V1', 'K2': 'V2', 'K3': 'V3'}, {'K4': 'V4', 'K5': 'V5', 'K6': 'V6'})"
      ]
     },
     "execution_count": 75,
     "metadata": {},
     "output_type": "execute_result"
    }
   ],
   "source": [
    "(d20,d21)"
   ]
  },
  {
   "cell_type": "code",
   "execution_count": 76,
   "id": "751e8341-ecbf-4788-9ac0-a47cfd657b7f",
   "metadata": {},
   "outputs": [
    {
     "data": {
      "text/plain": [
       "({'K4': 'V4', 'K5': 'V5', 'K6': 'V6'}, {'K1': 'V1', 'K2': 'V2', 'K3': 'V3'})"
      ]
     },
     "execution_count": 76,
     "metadata": {},
     "output_type": "execute_result"
    }
   ],
   "source": [
    "(d21,d20)"
   ]
  },
  {
   "cell_type": "code",
   "execution_count": 77,
   "id": "907491d7-ebb6-44e1-9caf-88bdee8c8f13",
   "metadata": {},
   "outputs": [],
   "source": [
    "d20.update(d21)"
   ]
  },
  {
   "cell_type": "code",
   "execution_count": 78,
   "id": "104c1cc4-a4d2-4425-9ff9-41700a247dbb",
   "metadata": {},
   "outputs": [
    {
     "data": {
      "text/plain": [
       "{'K1': 'V1', 'K2': 'V2', 'K3': 'V3', 'K4': 'V4', 'K5': 'V5', 'K6': 'V6'}"
      ]
     },
     "execution_count": 78,
     "metadata": {},
     "output_type": "execute_result"
    }
   ],
   "source": [
    "d20"
   ]
  },
  {
   "cell_type": "code",
   "execution_count": 79,
   "id": "1fccbc34-53d9-4e6b-b2f9-d29ba8b170c8",
   "metadata": {},
   "outputs": [
    {
     "data": {
      "text/plain": [
       "{'K4': 'V4', 'K5': 'V5', 'K6': 'V6'}"
      ]
     },
     "execution_count": 79,
     "metadata": {},
     "output_type": "execute_result"
    }
   ],
   "source": [
    "d21"
   ]
  },
  {
   "cell_type": "code",
   "execution_count": 80,
   "id": "70d9c20b-96dd-4f73-8395-e0efbbe4639d",
   "metadata": {},
   "outputs": [],
   "source": [
    "d21.update(d20)"
   ]
  },
  {
   "cell_type": "code",
   "execution_count": 81,
   "id": "9be0acec-d1ae-4de9-bc83-539c43a3492f",
   "metadata": {},
   "outputs": [
    {
     "data": {
      "text/plain": [
       "{'K4': 'V4', 'K5': 'V5', 'K6': 'V6', 'K1': 'V1', 'K2': 'V2', 'K3': 'V3'}"
      ]
     },
     "execution_count": 81,
     "metadata": {},
     "output_type": "execute_result"
    }
   ],
   "source": [
    "d21"
   ]
  },
  {
   "cell_type": "code",
   "execution_count": 83,
   "id": "2b789531-6ce6-4039-a561-5f97c9461d92",
   "metadata": {},
   "outputs": [
    {
     "data": {
      "text/plain": [
       "{'K1': 'V1', 'K2': 'V2', 'K3': 'V3', 'K4': 'V4', 'K5': 'V5', 'K6': 'V6'}"
      ]
     },
     "execution_count": 83,
     "metadata": {},
     "output_type": "execute_result"
    }
   ],
   "source": [
    "d20"
   ]
  },
  {
   "cell_type": "code",
   "execution_count": 84,
   "id": "72a7e5f8-cc8b-4f77-a5de-17df05dee9c5",
   "metadata": {},
   "outputs": [],
   "source": [
    "d20.get(\"Name\")"
   ]
  },
  {
   "cell_type": "code",
   "execution_count": 85,
   "id": "695184aa-02d3-4417-b337-fdb0030bb31a",
   "metadata": {},
   "outputs": [
    {
     "data": {
      "text/plain": [
       "'V1'"
      ]
     },
     "execution_count": 85,
     "metadata": {},
     "output_type": "execute_result"
    }
   ],
   "source": [
    "d20.get(\"K1\")"
   ]
  },
  {
   "cell_type": "code",
   "execution_count": 87,
   "id": "f4640577-7945-4f47-bfa6-22533072303b",
   "metadata": {},
   "outputs": [
    {
     "data": {
      "text/plain": [
       "'V5'"
      ]
     },
     "execution_count": 87,
     "metadata": {},
     "output_type": "execute_result"
    }
   ],
   "source": [
    "d20.get(\"K5\")"
   ]
  },
  {
   "cell_type": "code",
   "execution_count": 88,
   "id": "89f4cf3f-2bce-4e1d-80ba-f8934658882c",
   "metadata": {},
   "outputs": [
    {
     "data": {
      "text/plain": [
       "'V1'"
      ]
     },
     "execution_count": 88,
     "metadata": {},
     "output_type": "execute_result"
    }
   ],
   "source": [
    "d20[\"K1\"]"
   ]
  },
  {
   "cell_type": "code",
   "execution_count": 89,
   "id": "1c845c68-503f-44c6-8c9a-718b5b3c7d43",
   "metadata": {},
   "outputs": [
    {
     "ename": "KeyError",
     "evalue": "'Name'",
     "output_type": "error",
     "traceback": [
      "\u001b[0;31m---------------------------------------------------------------------------\u001b[0m",
      "\u001b[0;31mKeyError\u001b[0m                                  Traceback (most recent call last)",
      "Cell \u001b[0;32mIn[89], line 1\u001b[0m\n\u001b[0;32m----> 1\u001b[0m \u001b[43md20\u001b[49m\u001b[43m[\u001b[49m\u001b[38;5;124;43m\"\u001b[39;49m\u001b[38;5;124;43mName\u001b[39;49m\u001b[38;5;124;43m\"\u001b[39;49m\u001b[43m]\u001b[49m\n",
      "\u001b[0;31mKeyError\u001b[0m: 'Name'"
     ]
    }
   ],
   "source": [
    "d20[\"Name\"]"
   ]
  },
  {
   "cell_type": "markdown",
   "id": "40f0c64e-6356-45b1-9690-6ec1c5375542",
   "metadata": {},
   "source": [
    "## Dictionary Comprehensions"
   ]
  },
  {
   "cell_type": "code",
   "execution_count": 92,
   "id": "a4cceaa5-c53c-41f9-8b21-a4afd70d5c1b",
   "metadata": {},
   "outputs": [
    {
     "data": {
      "text/plain": [
       "{1: 1, 2: 4, 3: 9, 4: 16, 5: 25, 6: 36, 7: 49, 8: 64, 9: 81, 10: 100}"
      ]
     },
     "execution_count": 92,
     "metadata": {},
     "output_type": "execute_result"
    }
   ],
   "source": [
    "{i : i**2 for i in range (1,11)}"
   ]
  },
  {
   "cell_type": "code",
   "execution_count": 91,
   "id": "f3783b6e-697a-4e15-82ba-3ae7436ee434",
   "metadata": {},
   "outputs": [
    {
     "data": {
      "text/plain": [
       "[1, 2, 3, 4, 5, 6, 7, 8, 9, 10]"
      ]
     },
     "execution_count": 91,
     "metadata": {},
     "output_type": "execute_result"
    }
   ],
   "source": [
    "list(range(1,11))"
   ]
  },
  {
   "cell_type": "code",
   "execution_count": 93,
   "id": "1dc7ad23-bfa3-469d-99d0-b381e7baef4b",
   "metadata": {},
   "outputs": [
    {
     "data": {
      "text/plain": [
       "{1: 11, 2: 12, 3: 13, 4: 14, 5: 15, 6: 16, 7: 17, 8: 18, 9: 19, 10: 20}"
      ]
     },
     "execution_count": 93,
     "metadata": {},
     "output_type": "execute_result"
    }
   ],
   "source": [
    "{i : i+10 for i in range (1,11)}"
   ]
  },
  {
   "cell_type": "code",
   "execution_count": 99,
   "id": "3eb338ce-4473-496d-885f-5d1b19a14cfd",
   "metadata": {},
   "outputs": [],
   "source": [
    "import math\n",
    "d22={i : math.log10(i) for i in range (1,11)}"
   ]
  },
  {
   "cell_type": "code",
   "execution_count": 100,
   "id": "f947c8f4-b721-41c9-b3fe-7b456786e698",
   "metadata": {},
   "outputs": [
    {
     "data": {
      "text/plain": [
       "{1: 0.0,\n",
       " 2: 0.3010299956639812,\n",
       " 3: 0.47712125471966244,\n",
       " 4: 0.6020599913279624,\n",
       " 5: 0.6989700043360189,\n",
       " 6: 0.7781512503836436,\n",
       " 7: 0.8450980400142568,\n",
       " 8: 0.9030899869919435,\n",
       " 9: 0.9542425094393249,\n",
       " 10: 1.0}"
      ]
     },
     "execution_count": 100,
     "metadata": {},
     "output_type": "execute_result"
    }
   ],
   "source": [
    "d22"
   ]
  },
  {
   "cell_type": "code",
   "execution_count": 96,
   "id": "cde59e55-2a64-43f2-ac02-985f62528551",
   "metadata": {},
   "outputs": [
    {
     "data": {
      "text/plain": [
       "{'fruits': ['apple', 'grapes', 'orange'],\n",
       " 'Vegetables': {'carrot', 'egg plant', 'potato'}}"
      ]
     },
     "execution_count": 96,
     "metadata": {},
     "output_type": "execute_result"
    }
   ],
   "source": [
    "d17"
   ]
  },
  {
   "cell_type": "code",
   "execution_count": 97,
   "id": "081508cc-80b6-4b76-8b57-4c373d5057c8",
   "metadata": {},
   "outputs": [
    {
     "data": {
      "text/plain": [
       "True"
      ]
     },
     "execution_count": 97,
     "metadata": {},
     "output_type": "execute_result"
    }
   ],
   "source": [
    "\"fruits\" in d17"
   ]
  },
  {
   "cell_type": "code",
   "execution_count": 101,
   "id": "2ed77b2b-b15e-48be-ac5d-1c8a05ebcb7a",
   "metadata": {},
   "outputs": [
    {
     "data": {
      "text/plain": [
       "{1: 0.0,\n",
       " 2: 0.3010299956639812,\n",
       " 3: 0.47712125471966244,\n",
       " 4: 0.6020599913279624,\n",
       " 5: 0.6989700043360189,\n",
       " 6: 0.7781512503836436,\n",
       " 7: 0.8450980400142568,\n",
       " 8: 0.9030899869919435,\n",
       " 9: 0.9542425094393249,\n",
       " 10: 1.0}"
      ]
     },
     "execution_count": 101,
     "metadata": {},
     "output_type": "execute_result"
    }
   ],
   "source": [
    "d22"
   ]
  },
  {
   "cell_type": "code",
   "execution_count": 104,
   "id": "9d398a62-32f7-436b-90d3-b162087da99d",
   "metadata": {},
   "outputs": [
    {
     "data": {
      "text/plain": [
       "dict_keys([1, 2, 3, 4, 5, 6, 7, 8, 9, 10])"
      ]
     },
     "execution_count": 104,
     "metadata": {},
     "output_type": "execute_result"
    }
   ],
   "source": [
    "d22.keys()"
   ]
  },
  {
   "cell_type": "code",
   "execution_count": null,
   "id": "6321bc3c-781e-4f55-98d7-dfda14c23c69",
   "metadata": {},
   "outputs": [],
   "source": [
    "for i in d22.keys():\n",
    "    if i%2==0:\n",
    "        pr"
   ]
  }
 ],
 "metadata": {
  "kernelspec": {
   "display_name": "Python 3 (ipykernel)",
   "language": "python",
   "name": "python3"
  },
  "language_info": {
   "codemirror_mode": {
    "name": "ipython",
    "version": 3
   },
   "file_extension": ".py",
   "mimetype": "text/x-python",
   "name": "python",
   "nbconvert_exporter": "python",
   "pygments_lexer": "ipython3",
   "version": "3.10.8"
  }
 },
 "nbformat": 4,
 "nbformat_minor": 5
}
